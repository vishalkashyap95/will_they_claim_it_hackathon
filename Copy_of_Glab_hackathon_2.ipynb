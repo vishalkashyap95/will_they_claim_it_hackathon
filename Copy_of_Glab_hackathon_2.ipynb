{
  "nbformat": 4,
  "nbformat_minor": 0,
  "metadata": {
    "colab": {
      "name": "Copy of Glab_hackathon 2.ipynb",
      "provenance": [],
      "collapsed_sections": [],
      "toc_visible": true
    },
    "kernelspec": {
      "display_name": "Python 3",
      "language": "python",
      "name": "python3"
    },
    "language_info": {
      "codemirror_mode": {
        "name": "ipython",
        "version": 3
      },
      "file_extension": ".py",
      "mimetype": "text/x-python",
      "name": "python",
      "nbconvert_exporter": "python",
      "pygments_lexer": "ipython3",
      "version": "3.8.5"
    },
    "widgets": {
      "application/vnd.jupyter.widget-state+json": {
        "8110f5382d22472cb023b8afd609e9aa": {
          "model_module": "@jupyter-widgets/controls",
          "model_name": "HBoxModel",
          "state": {
            "_view_name": "HBoxView",
            "_dom_classes": [],
            "_model_name": "HBoxModel",
            "_view_module": "@jupyter-widgets/controls",
            "_model_module_version": "1.5.0",
            "_view_count": null,
            "_view_module_version": "1.5.0",
            "box_style": "",
            "layout": "IPY_MODEL_21a4cb83d4074c04a3d26ec26858d2d4",
            "_model_module": "@jupyter-widgets/controls",
            "children": [
              "IPY_MODEL_88ba42d943f0431894a7b00de629fbd0",
              "IPY_MODEL_4eade550c6c34f2192ec3c5c08f2642e"
            ]
          }
        },
        "21a4cb83d4074c04a3d26ec26858d2d4": {
          "model_module": "@jupyter-widgets/base",
          "model_name": "LayoutModel",
          "state": {
            "_view_name": "LayoutView",
            "grid_template_rows": null,
            "right": null,
            "justify_content": null,
            "_view_module": "@jupyter-widgets/base",
            "overflow": null,
            "_model_module_version": "1.2.0",
            "_view_count": null,
            "flex_flow": null,
            "width": null,
            "min_width": null,
            "border": null,
            "align_items": null,
            "bottom": null,
            "_model_module": "@jupyter-widgets/base",
            "top": null,
            "grid_column": null,
            "overflow_y": null,
            "overflow_x": null,
            "grid_auto_flow": null,
            "grid_area": null,
            "grid_template_columns": null,
            "flex": null,
            "_model_name": "LayoutModel",
            "justify_items": null,
            "grid_row": null,
            "max_height": null,
            "align_content": null,
            "visibility": null,
            "align_self": null,
            "height": null,
            "min_height": null,
            "padding": null,
            "grid_auto_rows": null,
            "grid_gap": null,
            "max_width": null,
            "order": null,
            "_view_module_version": "1.2.0",
            "grid_template_areas": null,
            "object_position": null,
            "object_fit": null,
            "grid_auto_columns": null,
            "margin": null,
            "display": null,
            "left": null
          }
        },
        "88ba42d943f0431894a7b00de629fbd0": {
          "model_module": "@jupyter-widgets/controls",
          "model_name": "FloatProgressModel",
          "state": {
            "_view_name": "ProgressView",
            "style": "IPY_MODEL_43a77ac5cb0a4a2da3fa432718dd1385",
            "_dom_classes": [],
            "description": "Summarize dataset: 100%",
            "_model_name": "FloatProgressModel",
            "bar_style": "success",
            "max": 25,
            "_view_module": "@jupyter-widgets/controls",
            "_model_module_version": "1.5.0",
            "value": 25,
            "_view_count": null,
            "_view_module_version": "1.5.0",
            "orientation": "horizontal",
            "min": 0,
            "description_tooltip": null,
            "_model_module": "@jupyter-widgets/controls",
            "layout": "IPY_MODEL_a70969b9a3bb46afa87fa6d424e369f9"
          }
        },
        "4eade550c6c34f2192ec3c5c08f2642e": {
          "model_module": "@jupyter-widgets/controls",
          "model_name": "HTMLModel",
          "state": {
            "_view_name": "HTMLView",
            "style": "IPY_MODEL_2ebcb6dc99224921b302878b525ddc8e",
            "_dom_classes": [],
            "description": "",
            "_model_name": "HTMLModel",
            "placeholder": "​",
            "_view_module": "@jupyter-widgets/controls",
            "_model_module_version": "1.5.0",
            "value": " 25/25 [00:12&lt;00:00,  1.98it/s, Completed]",
            "_view_count": null,
            "_view_module_version": "1.5.0",
            "description_tooltip": null,
            "_model_module": "@jupyter-widgets/controls",
            "layout": "IPY_MODEL_9b5a27ba1e66440f922e904aac84a6e2"
          }
        },
        "43a77ac5cb0a4a2da3fa432718dd1385": {
          "model_module": "@jupyter-widgets/controls",
          "model_name": "ProgressStyleModel",
          "state": {
            "_view_name": "StyleView",
            "_model_name": "ProgressStyleModel",
            "description_width": "initial",
            "_view_module": "@jupyter-widgets/base",
            "_model_module_version": "1.5.0",
            "_view_count": null,
            "_view_module_version": "1.2.0",
            "bar_color": null,
            "_model_module": "@jupyter-widgets/controls"
          }
        },
        "a70969b9a3bb46afa87fa6d424e369f9": {
          "model_module": "@jupyter-widgets/base",
          "model_name": "LayoutModel",
          "state": {
            "_view_name": "LayoutView",
            "grid_template_rows": null,
            "right": null,
            "justify_content": null,
            "_view_module": "@jupyter-widgets/base",
            "overflow": null,
            "_model_module_version": "1.2.0",
            "_view_count": null,
            "flex_flow": null,
            "width": null,
            "min_width": null,
            "border": null,
            "align_items": null,
            "bottom": null,
            "_model_module": "@jupyter-widgets/base",
            "top": null,
            "grid_column": null,
            "overflow_y": null,
            "overflow_x": null,
            "grid_auto_flow": null,
            "grid_area": null,
            "grid_template_columns": null,
            "flex": null,
            "_model_name": "LayoutModel",
            "justify_items": null,
            "grid_row": null,
            "max_height": null,
            "align_content": null,
            "visibility": null,
            "align_self": null,
            "height": null,
            "min_height": null,
            "padding": null,
            "grid_auto_rows": null,
            "grid_gap": null,
            "max_width": null,
            "order": null,
            "_view_module_version": "1.2.0",
            "grid_template_areas": null,
            "object_position": null,
            "object_fit": null,
            "grid_auto_columns": null,
            "margin": null,
            "display": null,
            "left": null
          }
        },
        "2ebcb6dc99224921b302878b525ddc8e": {
          "model_module": "@jupyter-widgets/controls",
          "model_name": "DescriptionStyleModel",
          "state": {
            "_view_name": "StyleView",
            "_model_name": "DescriptionStyleModel",
            "description_width": "",
            "_view_module": "@jupyter-widgets/base",
            "_model_module_version": "1.5.0",
            "_view_count": null,
            "_view_module_version": "1.2.0",
            "_model_module": "@jupyter-widgets/controls"
          }
        },
        "9b5a27ba1e66440f922e904aac84a6e2": {
          "model_module": "@jupyter-widgets/base",
          "model_name": "LayoutModel",
          "state": {
            "_view_name": "LayoutView",
            "grid_template_rows": null,
            "right": null,
            "justify_content": null,
            "_view_module": "@jupyter-widgets/base",
            "overflow": null,
            "_model_module_version": "1.2.0",
            "_view_count": null,
            "flex_flow": null,
            "width": null,
            "min_width": null,
            "border": null,
            "align_items": null,
            "bottom": null,
            "_model_module": "@jupyter-widgets/base",
            "top": null,
            "grid_column": null,
            "overflow_y": null,
            "overflow_x": null,
            "grid_auto_flow": null,
            "grid_area": null,
            "grid_template_columns": null,
            "flex": null,
            "_model_name": "LayoutModel",
            "justify_items": null,
            "grid_row": null,
            "max_height": null,
            "align_content": null,
            "visibility": null,
            "align_self": null,
            "height": null,
            "min_height": null,
            "padding": null,
            "grid_auto_rows": null,
            "grid_gap": null,
            "max_width": null,
            "order": null,
            "_view_module_version": "1.2.0",
            "grid_template_areas": null,
            "object_position": null,
            "object_fit": null,
            "grid_auto_columns": null,
            "margin": null,
            "display": null,
            "left": null
          }
        },
        "a0b33b22b38340adb3f99061e2d45fc1": {
          "model_module": "@jupyter-widgets/controls",
          "model_name": "HBoxModel",
          "state": {
            "_view_name": "HBoxView",
            "_dom_classes": [],
            "_model_name": "HBoxModel",
            "_view_module": "@jupyter-widgets/controls",
            "_model_module_version": "1.5.0",
            "_view_count": null,
            "_view_module_version": "1.5.0",
            "box_style": "",
            "layout": "IPY_MODEL_784573f0cf3444639a79909f8c17d1b6",
            "_model_module": "@jupyter-widgets/controls",
            "children": [
              "IPY_MODEL_356d89f5a58049fead5bf691fe841cda",
              "IPY_MODEL_04e77dc6c9e445bfb67f3d364e99d24d"
            ]
          }
        },
        "784573f0cf3444639a79909f8c17d1b6": {
          "model_module": "@jupyter-widgets/base",
          "model_name": "LayoutModel",
          "state": {
            "_view_name": "LayoutView",
            "grid_template_rows": null,
            "right": null,
            "justify_content": null,
            "_view_module": "@jupyter-widgets/base",
            "overflow": null,
            "_model_module_version": "1.2.0",
            "_view_count": null,
            "flex_flow": null,
            "width": null,
            "min_width": null,
            "border": null,
            "align_items": null,
            "bottom": null,
            "_model_module": "@jupyter-widgets/base",
            "top": null,
            "grid_column": null,
            "overflow_y": null,
            "overflow_x": null,
            "grid_auto_flow": null,
            "grid_area": null,
            "grid_template_columns": null,
            "flex": null,
            "_model_name": "LayoutModel",
            "justify_items": null,
            "grid_row": null,
            "max_height": null,
            "align_content": null,
            "visibility": null,
            "align_self": null,
            "height": null,
            "min_height": null,
            "padding": null,
            "grid_auto_rows": null,
            "grid_gap": null,
            "max_width": null,
            "order": null,
            "_view_module_version": "1.2.0",
            "grid_template_areas": null,
            "object_position": null,
            "object_fit": null,
            "grid_auto_columns": null,
            "margin": null,
            "display": null,
            "left": null
          }
        },
        "356d89f5a58049fead5bf691fe841cda": {
          "model_module": "@jupyter-widgets/controls",
          "model_name": "FloatProgressModel",
          "state": {
            "_view_name": "ProgressView",
            "style": "IPY_MODEL_8542f303661c49c88f65108fd10844b3",
            "_dom_classes": [],
            "description": "Generate report structure: 100%",
            "_model_name": "FloatProgressModel",
            "bar_style": "success",
            "max": 1,
            "_view_module": "@jupyter-widgets/controls",
            "_model_module_version": "1.5.0",
            "value": 1,
            "_view_count": null,
            "_view_module_version": "1.5.0",
            "orientation": "horizontal",
            "min": 0,
            "description_tooltip": null,
            "_model_module": "@jupyter-widgets/controls",
            "layout": "IPY_MODEL_94b3814189264f7394230f177c8b98f7"
          }
        },
        "04e77dc6c9e445bfb67f3d364e99d24d": {
          "model_module": "@jupyter-widgets/controls",
          "model_name": "HTMLModel",
          "state": {
            "_view_name": "HTMLView",
            "style": "IPY_MODEL_e39ab51189c64bc7ae66a78bd36ca0de",
            "_dom_classes": [],
            "description": "",
            "_model_name": "HTMLModel",
            "placeholder": "​",
            "_view_module": "@jupyter-widgets/controls",
            "_model_module_version": "1.5.0",
            "value": " 1/1 [02:16&lt;00:00, 136.13s/it]",
            "_view_count": null,
            "_view_module_version": "1.5.0",
            "description_tooltip": null,
            "_model_module": "@jupyter-widgets/controls",
            "layout": "IPY_MODEL_5f66b6d4a4d04ad49091f782f0da9366"
          }
        },
        "8542f303661c49c88f65108fd10844b3": {
          "model_module": "@jupyter-widgets/controls",
          "model_name": "ProgressStyleModel",
          "state": {
            "_view_name": "StyleView",
            "_model_name": "ProgressStyleModel",
            "description_width": "initial",
            "_view_module": "@jupyter-widgets/base",
            "_model_module_version": "1.5.0",
            "_view_count": null,
            "_view_module_version": "1.2.0",
            "bar_color": null,
            "_model_module": "@jupyter-widgets/controls"
          }
        },
        "94b3814189264f7394230f177c8b98f7": {
          "model_module": "@jupyter-widgets/base",
          "model_name": "LayoutModel",
          "state": {
            "_view_name": "LayoutView",
            "grid_template_rows": null,
            "right": null,
            "justify_content": null,
            "_view_module": "@jupyter-widgets/base",
            "overflow": null,
            "_model_module_version": "1.2.0",
            "_view_count": null,
            "flex_flow": null,
            "width": null,
            "min_width": null,
            "border": null,
            "align_items": null,
            "bottom": null,
            "_model_module": "@jupyter-widgets/base",
            "top": null,
            "grid_column": null,
            "overflow_y": null,
            "overflow_x": null,
            "grid_auto_flow": null,
            "grid_area": null,
            "grid_template_columns": null,
            "flex": null,
            "_model_name": "LayoutModel",
            "justify_items": null,
            "grid_row": null,
            "max_height": null,
            "align_content": null,
            "visibility": null,
            "align_self": null,
            "height": null,
            "min_height": null,
            "padding": null,
            "grid_auto_rows": null,
            "grid_gap": null,
            "max_width": null,
            "order": null,
            "_view_module_version": "1.2.0",
            "grid_template_areas": null,
            "object_position": null,
            "object_fit": null,
            "grid_auto_columns": null,
            "margin": null,
            "display": null,
            "left": null
          }
        },
        "e39ab51189c64bc7ae66a78bd36ca0de": {
          "model_module": "@jupyter-widgets/controls",
          "model_name": "DescriptionStyleModel",
          "state": {
            "_view_name": "StyleView",
            "_model_name": "DescriptionStyleModel",
            "description_width": "",
            "_view_module": "@jupyter-widgets/base",
            "_model_module_version": "1.5.0",
            "_view_count": null,
            "_view_module_version": "1.2.0",
            "_model_module": "@jupyter-widgets/controls"
          }
        },
        "5f66b6d4a4d04ad49091f782f0da9366": {
          "model_module": "@jupyter-widgets/base",
          "model_name": "LayoutModel",
          "state": {
            "_view_name": "LayoutView",
            "grid_template_rows": null,
            "right": null,
            "justify_content": null,
            "_view_module": "@jupyter-widgets/base",
            "overflow": null,
            "_model_module_version": "1.2.0",
            "_view_count": null,
            "flex_flow": null,
            "width": null,
            "min_width": null,
            "border": null,
            "align_items": null,
            "bottom": null,
            "_model_module": "@jupyter-widgets/base",
            "top": null,
            "grid_column": null,
            "overflow_y": null,
            "overflow_x": null,
            "grid_auto_flow": null,
            "grid_area": null,
            "grid_template_columns": null,
            "flex": null,
            "_model_name": "LayoutModel",
            "justify_items": null,
            "grid_row": null,
            "max_height": null,
            "align_content": null,
            "visibility": null,
            "align_self": null,
            "height": null,
            "min_height": null,
            "padding": null,
            "grid_auto_rows": null,
            "grid_gap": null,
            "max_width": null,
            "order": null,
            "_view_module_version": "1.2.0",
            "grid_template_areas": null,
            "object_position": null,
            "object_fit": null,
            "grid_auto_columns": null,
            "margin": null,
            "display": null,
            "left": null
          }
        },
        "a5e4bcfcfbfa442b8b8942b86d669b7a": {
          "model_module": "@jupyter-widgets/controls",
          "model_name": "HBoxModel",
          "state": {
            "_view_name": "HBoxView",
            "_dom_classes": [],
            "_model_name": "HBoxModel",
            "_view_module": "@jupyter-widgets/controls",
            "_model_module_version": "1.5.0",
            "_view_count": null,
            "_view_module_version": "1.5.0",
            "box_style": "",
            "layout": "IPY_MODEL_f68c1280f30b44e7ab206bd8caa70783",
            "_model_module": "@jupyter-widgets/controls",
            "children": [
              "IPY_MODEL_d618808dda884039befc2676321bc4b4",
              "IPY_MODEL_686b5b13002f4387992ba178ee3a8fe3"
            ]
          }
        },
        "f68c1280f30b44e7ab206bd8caa70783": {
          "model_module": "@jupyter-widgets/base",
          "model_name": "LayoutModel",
          "state": {
            "_view_name": "LayoutView",
            "grid_template_rows": null,
            "right": null,
            "justify_content": null,
            "_view_module": "@jupyter-widgets/base",
            "overflow": null,
            "_model_module_version": "1.2.0",
            "_view_count": null,
            "flex_flow": null,
            "width": null,
            "min_width": null,
            "border": null,
            "align_items": null,
            "bottom": null,
            "_model_module": "@jupyter-widgets/base",
            "top": null,
            "grid_column": null,
            "overflow_y": null,
            "overflow_x": null,
            "grid_auto_flow": null,
            "grid_area": null,
            "grid_template_columns": null,
            "flex": null,
            "_model_name": "LayoutModel",
            "justify_items": null,
            "grid_row": null,
            "max_height": null,
            "align_content": null,
            "visibility": null,
            "align_self": null,
            "height": null,
            "min_height": null,
            "padding": null,
            "grid_auto_rows": null,
            "grid_gap": null,
            "max_width": null,
            "order": null,
            "_view_module_version": "1.2.0",
            "grid_template_areas": null,
            "object_position": null,
            "object_fit": null,
            "grid_auto_columns": null,
            "margin": null,
            "display": null,
            "left": null
          }
        },
        "d618808dda884039befc2676321bc4b4": {
          "model_module": "@jupyter-widgets/controls",
          "model_name": "FloatProgressModel",
          "state": {
            "_view_name": "ProgressView",
            "style": "IPY_MODEL_c126535439754426a8a6bbb7ee9c2af5",
            "_dom_classes": [],
            "description": "Render HTML: 100%",
            "_model_name": "FloatProgressModel",
            "bar_style": "success",
            "max": 1,
            "_view_module": "@jupyter-widgets/controls",
            "_model_module_version": "1.5.0",
            "value": 1,
            "_view_count": null,
            "_view_module_version": "1.5.0",
            "orientation": "horizontal",
            "min": 0,
            "description_tooltip": null,
            "_model_module": "@jupyter-widgets/controls",
            "layout": "IPY_MODEL_ab0d713ee08044b1adae13d5ac1ed27e"
          }
        },
        "686b5b13002f4387992ba178ee3a8fe3": {
          "model_module": "@jupyter-widgets/controls",
          "model_name": "HTMLModel",
          "state": {
            "_view_name": "HTMLView",
            "style": "IPY_MODEL_d90d4866be49450695ec0da19e81e587",
            "_dom_classes": [],
            "description": "",
            "_model_name": "HTMLModel",
            "placeholder": "​",
            "_view_module": "@jupyter-widgets/controls",
            "_model_module_version": "1.5.0",
            "value": " 1/1 [02:10&lt;00:00, 130.72s/it]",
            "_view_count": null,
            "_view_module_version": "1.5.0",
            "description_tooltip": null,
            "_model_module": "@jupyter-widgets/controls",
            "layout": "IPY_MODEL_1a08ca63c0bc441d8398a835dd90b17d"
          }
        },
        "c126535439754426a8a6bbb7ee9c2af5": {
          "model_module": "@jupyter-widgets/controls",
          "model_name": "ProgressStyleModel",
          "state": {
            "_view_name": "StyleView",
            "_model_name": "ProgressStyleModel",
            "description_width": "initial",
            "_view_module": "@jupyter-widgets/base",
            "_model_module_version": "1.5.0",
            "_view_count": null,
            "_view_module_version": "1.2.0",
            "bar_color": null,
            "_model_module": "@jupyter-widgets/controls"
          }
        },
        "ab0d713ee08044b1adae13d5ac1ed27e": {
          "model_module": "@jupyter-widgets/base",
          "model_name": "LayoutModel",
          "state": {
            "_view_name": "LayoutView",
            "grid_template_rows": null,
            "right": null,
            "justify_content": null,
            "_view_module": "@jupyter-widgets/base",
            "overflow": null,
            "_model_module_version": "1.2.0",
            "_view_count": null,
            "flex_flow": null,
            "width": null,
            "min_width": null,
            "border": null,
            "align_items": null,
            "bottom": null,
            "_model_module": "@jupyter-widgets/base",
            "top": null,
            "grid_column": null,
            "overflow_y": null,
            "overflow_x": null,
            "grid_auto_flow": null,
            "grid_area": null,
            "grid_template_columns": null,
            "flex": null,
            "_model_name": "LayoutModel",
            "justify_items": null,
            "grid_row": null,
            "max_height": null,
            "align_content": null,
            "visibility": null,
            "align_self": null,
            "height": null,
            "min_height": null,
            "padding": null,
            "grid_auto_rows": null,
            "grid_gap": null,
            "max_width": null,
            "order": null,
            "_view_module_version": "1.2.0",
            "grid_template_areas": null,
            "object_position": null,
            "object_fit": null,
            "grid_auto_columns": null,
            "margin": null,
            "display": null,
            "left": null
          }
        },
        "d90d4866be49450695ec0da19e81e587": {
          "model_module": "@jupyter-widgets/controls",
          "model_name": "DescriptionStyleModel",
          "state": {
            "_view_name": "StyleView",
            "_model_name": "DescriptionStyleModel",
            "description_width": "",
            "_view_module": "@jupyter-widgets/base",
            "_model_module_version": "1.5.0",
            "_view_count": null,
            "_view_module_version": "1.2.0",
            "_model_module": "@jupyter-widgets/controls"
          }
        },
        "1a08ca63c0bc441d8398a835dd90b17d": {
          "model_module": "@jupyter-widgets/base",
          "model_name": "LayoutModel",
          "state": {
            "_view_name": "LayoutView",
            "grid_template_rows": null,
            "right": null,
            "justify_content": null,
            "_view_module": "@jupyter-widgets/base",
            "overflow": null,
            "_model_module_version": "1.2.0",
            "_view_count": null,
            "flex_flow": null,
            "width": null,
            "min_width": null,
            "border": null,
            "align_items": null,
            "bottom": null,
            "_model_module": "@jupyter-widgets/base",
            "top": null,
            "grid_column": null,
            "overflow_y": null,
            "overflow_x": null,
            "grid_auto_flow": null,
            "grid_area": null,
            "grid_template_columns": null,
            "flex": null,
            "_model_name": "LayoutModel",
            "justify_items": null,
            "grid_row": null,
            "max_height": null,
            "align_content": null,
            "visibility": null,
            "align_self": null,
            "height": null,
            "min_height": null,
            "padding": null,
            "grid_auto_rows": null,
            "grid_gap": null,
            "max_width": null,
            "order": null,
            "_view_module_version": "1.2.0",
            "grid_template_areas": null,
            "object_position": null,
            "object_fit": null,
            "grid_auto_columns": null,
            "margin": null,
            "display": null,
            "left": null
          }
        },
        "ef78d80bfdfb4c8ab45cfa20f66c022d": {
          "model_module": "@jupyter-widgets/controls",
          "model_name": "HBoxModel",
          "state": {
            "_view_name": "HBoxView",
            "_dom_classes": [],
            "_model_name": "HBoxModel",
            "_view_module": "@jupyter-widgets/controls",
            "_model_module_version": "1.5.0",
            "_view_count": null,
            "_view_module_version": "1.5.0",
            "box_style": "",
            "layout": "IPY_MODEL_7e007eab06be4c8b9430658b960bdc6f",
            "_model_module": "@jupyter-widgets/controls",
            "children": [
              "IPY_MODEL_dd671d7f043e42c9b2c1eadd61ff60bd",
              "IPY_MODEL_05cb77a6745c4fd0b35e67691a99e802"
            ]
          }
        },
        "7e007eab06be4c8b9430658b960bdc6f": {
          "model_module": "@jupyter-widgets/base",
          "model_name": "LayoutModel",
          "state": {
            "_view_name": "LayoutView",
            "grid_template_rows": null,
            "right": null,
            "justify_content": null,
            "_view_module": "@jupyter-widgets/base",
            "overflow": null,
            "_model_module_version": "1.2.0",
            "_view_count": null,
            "flex_flow": null,
            "width": null,
            "min_width": null,
            "border": null,
            "align_items": null,
            "bottom": null,
            "_model_module": "@jupyter-widgets/base",
            "top": null,
            "grid_column": null,
            "overflow_y": null,
            "overflow_x": null,
            "grid_auto_flow": null,
            "grid_area": null,
            "grid_template_columns": null,
            "flex": null,
            "_model_name": "LayoutModel",
            "justify_items": null,
            "grid_row": null,
            "max_height": null,
            "align_content": null,
            "visibility": null,
            "align_self": null,
            "height": null,
            "min_height": null,
            "padding": null,
            "grid_auto_rows": null,
            "grid_gap": null,
            "max_width": null,
            "order": null,
            "_view_module_version": "1.2.0",
            "grid_template_areas": null,
            "object_position": null,
            "object_fit": null,
            "grid_auto_columns": null,
            "margin": null,
            "display": null,
            "left": null
          }
        },
        "dd671d7f043e42c9b2c1eadd61ff60bd": {
          "model_module": "@jupyter-widgets/controls",
          "model_name": "FloatProgressModel",
          "state": {
            "_view_name": "ProgressView",
            "style": "IPY_MODEL_02aa3d7b4995484dbf7f5d5b784b5412",
            "_dom_classes": [],
            "description": "Export report to file: 100%",
            "_model_name": "FloatProgressModel",
            "bar_style": "success",
            "max": 1,
            "_view_module": "@jupyter-widgets/controls",
            "_model_module_version": "1.5.0",
            "value": 1,
            "_view_count": null,
            "_view_module_version": "1.5.0",
            "orientation": "horizontal",
            "min": 0,
            "description_tooltip": null,
            "_model_module": "@jupyter-widgets/controls",
            "layout": "IPY_MODEL_27d946b94b0e4cd193a0a4062f0ff29f"
          }
        },
        "05cb77a6745c4fd0b35e67691a99e802": {
          "model_module": "@jupyter-widgets/controls",
          "model_name": "HTMLModel",
          "state": {
            "_view_name": "HTMLView",
            "style": "IPY_MODEL_b1f4e45b29454b50bbf74e172f7e2aad",
            "_dom_classes": [],
            "description": "",
            "_model_name": "HTMLModel",
            "placeholder": "​",
            "_view_module": "@jupyter-widgets/controls",
            "_model_module_version": "1.5.0",
            "value": " 1/1 [01:15&lt;00:00, 75.71s/it]",
            "_view_count": null,
            "_view_module_version": "1.5.0",
            "description_tooltip": null,
            "_model_module": "@jupyter-widgets/controls",
            "layout": "IPY_MODEL_01e3e6d9baa5446ab94c96c51845717a"
          }
        },
        "02aa3d7b4995484dbf7f5d5b784b5412": {
          "model_module": "@jupyter-widgets/controls",
          "model_name": "ProgressStyleModel",
          "state": {
            "_view_name": "StyleView",
            "_model_name": "ProgressStyleModel",
            "description_width": "initial",
            "_view_module": "@jupyter-widgets/base",
            "_model_module_version": "1.5.0",
            "_view_count": null,
            "_view_module_version": "1.2.0",
            "bar_color": null,
            "_model_module": "@jupyter-widgets/controls"
          }
        },
        "27d946b94b0e4cd193a0a4062f0ff29f": {
          "model_module": "@jupyter-widgets/base",
          "model_name": "LayoutModel",
          "state": {
            "_view_name": "LayoutView",
            "grid_template_rows": null,
            "right": null,
            "justify_content": null,
            "_view_module": "@jupyter-widgets/base",
            "overflow": null,
            "_model_module_version": "1.2.0",
            "_view_count": null,
            "flex_flow": null,
            "width": null,
            "min_width": null,
            "border": null,
            "align_items": null,
            "bottom": null,
            "_model_module": "@jupyter-widgets/base",
            "top": null,
            "grid_column": null,
            "overflow_y": null,
            "overflow_x": null,
            "grid_auto_flow": null,
            "grid_area": null,
            "grid_template_columns": null,
            "flex": null,
            "_model_name": "LayoutModel",
            "justify_items": null,
            "grid_row": null,
            "max_height": null,
            "align_content": null,
            "visibility": null,
            "align_self": null,
            "height": null,
            "min_height": null,
            "padding": null,
            "grid_auto_rows": null,
            "grid_gap": null,
            "max_width": null,
            "order": null,
            "_view_module_version": "1.2.0",
            "grid_template_areas": null,
            "object_position": null,
            "object_fit": null,
            "grid_auto_columns": null,
            "margin": null,
            "display": null,
            "left": null
          }
        },
        "b1f4e45b29454b50bbf74e172f7e2aad": {
          "model_module": "@jupyter-widgets/controls",
          "model_name": "DescriptionStyleModel",
          "state": {
            "_view_name": "StyleView",
            "_model_name": "DescriptionStyleModel",
            "description_width": "",
            "_view_module": "@jupyter-widgets/base",
            "_model_module_version": "1.5.0",
            "_view_count": null,
            "_view_module_version": "1.2.0",
            "_model_module": "@jupyter-widgets/controls"
          }
        },
        "01e3e6d9baa5446ab94c96c51845717a": {
          "model_module": "@jupyter-widgets/base",
          "model_name": "LayoutModel",
          "state": {
            "_view_name": "LayoutView",
            "grid_template_rows": null,
            "right": null,
            "justify_content": null,
            "_view_module": "@jupyter-widgets/base",
            "overflow": null,
            "_model_module_version": "1.2.0",
            "_view_count": null,
            "flex_flow": null,
            "width": null,
            "min_width": null,
            "border": null,
            "align_items": null,
            "bottom": null,
            "_model_module": "@jupyter-widgets/base",
            "top": null,
            "grid_column": null,
            "overflow_y": null,
            "overflow_x": null,
            "grid_auto_flow": null,
            "grid_area": null,
            "grid_template_columns": null,
            "flex": null,
            "_model_name": "LayoutModel",
            "justify_items": null,
            "grid_row": null,
            "max_height": null,
            "align_content": null,
            "visibility": null,
            "align_self": null,
            "height": null,
            "min_height": null,
            "padding": null,
            "grid_auto_rows": null,
            "grid_gap": null,
            "max_width": null,
            "order": null,
            "_view_module_version": "1.2.0",
            "grid_template_areas": null,
            "object_position": null,
            "object_fit": null,
            "grid_auto_columns": null,
            "margin": null,
            "display": null,
            "left": null
          }
        }
      }
    }
  },
  "cells": [
    {
      "cell_type": "code",
      "metadata": {
        "colab_type": "code",
        "id": "_vZ2zhsfoAs9",
        "colab": {
          "base_uri": "https://localhost:8080/",
          "height": 71
        },
        "outputId": "c02014b9-8dc8-42ca-fb84-94a16658ae18"
      },
      "source": [
        "import pandas as pd\n",
        "import numpy as np\n",
        "import matplotlib.pyplot as plt\n",
        "import seaborn as sns\n",
        "import math"
      ],
      "execution_count": null,
      "outputs": [
        {
          "output_type": "stream",
          "text": [
            "/usr/local/lib/python3.6/dist-packages/statsmodels/tools/_testing.py:19: FutureWarning: pandas.util.testing is deprecated. Use the functions in the public API at pandas.testing instead.\n",
            "  import pandas.util.testing as tm\n"
          ],
          "name": "stderr"
        }
      ]
    },
    {
      "cell_type": "code",
      "metadata": {
        "id": "7pBzCYLVNGLy",
        "colab_type": "code",
        "colab": {}
      },
      "source": [
        "#!unzip file.zip\n",
        "train = pd.read_csv('train.csv')\n",
        "test = pd.read_csv('test.csv')"
      ],
      "execution_count": null,
      "outputs": []
    },
    {
      "cell_type": "code",
      "metadata": {
        "colab_type": "code",
        "id": "8fctfbA4pKVM",
        "colab": {}
      },
      "source": [
        "#train=pd.read_csv('/content/train.csv')\n",
        "#test=pd.read_csv('/content/test.csv')\n",
        "sample=pd.read_csv('/content/sample_submission.csv')"
      ],
      "execution_count": null,
      "outputs": []
    },
    {
      "cell_type": "code",
      "metadata": {
        "colab_type": "code",
        "id": "y7ItSRDDpaBr",
        "colab": {
          "base_uri": "https://localhost:8080/",
          "height": 306
        },
        "outputId": "30ffb7d8-b8d1-4a6f-8a11-6124dde30f42"
      },
      "source": [
        "train.head()"
      ],
      "execution_count": null,
      "outputs": [
        {
          "output_type": "execute_result",
          "data": {
            "text/html": [
              "<div>\n",
              "<style scoped>\n",
              "    .dataframe tbody tr th:only-of-type {\n",
              "        vertical-align: middle;\n",
              "    }\n",
              "\n",
              "    .dataframe tbody tr th {\n",
              "        vertical-align: top;\n",
              "    }\n",
              "\n",
              "    .dataframe thead th {\n",
              "        text-align: right;\n",
              "    }\n",
              "</style>\n",
              "<table border=\"1\" class=\"dataframe\">\n",
              "  <thead>\n",
              "    <tr style=\"text-align: right;\">\n",
              "      <th></th>\n",
              "      <th>ID</th>\n",
              "      <th>Agency</th>\n",
              "      <th>Agency Type</th>\n",
              "      <th>Distribution Channel</th>\n",
              "      <th>Product Name</th>\n",
              "      <th>Duration</th>\n",
              "      <th>Destination</th>\n",
              "      <th>Net Sales</th>\n",
              "      <th>Commision (in value)</th>\n",
              "      <th>Age</th>\n",
              "      <th>Claim</th>\n",
              "    </tr>\n",
              "  </thead>\n",
              "  <tbody>\n",
              "    <tr>\n",
              "      <th>0</th>\n",
              "      <td>2010</td>\n",
              "      <td>EPX</td>\n",
              "      <td>Travel Agency</td>\n",
              "      <td>Online</td>\n",
              "      <td>Cancellation Plan</td>\n",
              "      <td>61</td>\n",
              "      <td>PHILIPPINES</td>\n",
              "      <td>12.0</td>\n",
              "      <td>0.00</td>\n",
              "      <td>41</td>\n",
              "      <td>0</td>\n",
              "    </tr>\n",
              "    <tr>\n",
              "      <th>1</th>\n",
              "      <td>4245</td>\n",
              "      <td>EPX</td>\n",
              "      <td>Travel Agency</td>\n",
              "      <td>Online</td>\n",
              "      <td>Cancellation Plan</td>\n",
              "      <td>4</td>\n",
              "      <td>MALAYSIA</td>\n",
              "      <td>17.0</td>\n",
              "      <td>0.00</td>\n",
              "      <td>35</td>\n",
              "      <td>0</td>\n",
              "    </tr>\n",
              "    <tr>\n",
              "      <th>2</th>\n",
              "      <td>9251</td>\n",
              "      <td>CWT</td>\n",
              "      <td>Travel Agency</td>\n",
              "      <td>Online</td>\n",
              "      <td>Rental Vehicle Excess Insurance</td>\n",
              "      <td>26</td>\n",
              "      <td>THAILAND</td>\n",
              "      <td>19.8</td>\n",
              "      <td>11.88</td>\n",
              "      <td>47</td>\n",
              "      <td>0</td>\n",
              "    </tr>\n",
              "    <tr>\n",
              "      <th>3</th>\n",
              "      <td>4754</td>\n",
              "      <td>EPX</td>\n",
              "      <td>Travel Agency</td>\n",
              "      <td>Online</td>\n",
              "      <td>2 way Comprehensive Plan</td>\n",
              "      <td>15</td>\n",
              "      <td>HONG KONG</td>\n",
              "      <td>27.0</td>\n",
              "      <td>0.00</td>\n",
              "      <td>48</td>\n",
              "      <td>0</td>\n",
              "    </tr>\n",
              "    <tr>\n",
              "      <th>4</th>\n",
              "      <td>8840</td>\n",
              "      <td>EPX</td>\n",
              "      <td>Travel Agency</td>\n",
              "      <td>Online</td>\n",
              "      <td>2 way Comprehensive Plan</td>\n",
              "      <td>15</td>\n",
              "      <td>MALAYSIA</td>\n",
              "      <td>37.0</td>\n",
              "      <td>0.00</td>\n",
              "      <td>36</td>\n",
              "      <td>0</td>\n",
              "    </tr>\n",
              "  </tbody>\n",
              "</table>\n",
              "</div>"
            ],
            "text/plain": [
              "     ID Agency    Agency Type  ... Commision (in value) Age  Claim\n",
              "0  2010    EPX  Travel Agency  ...                 0.00  41      0\n",
              "1  4245    EPX  Travel Agency  ...                 0.00  35      0\n",
              "2  9251    CWT  Travel Agency  ...                11.88  47      0\n",
              "3  4754    EPX  Travel Agency  ...                 0.00  48      0\n",
              "4  8840    EPX  Travel Agency  ...                 0.00  36      0\n",
              "\n",
              "[5 rows x 11 columns]"
            ]
          },
          "metadata": {
            "tags": []
          },
          "execution_count": 5
        }
      ]
    },
    {
      "cell_type": "code",
      "metadata": {
        "id": "07jVVjJl8QHc",
        "colab_type": "code",
        "colab": {
          "base_uri": "https://localhost:8080/",
          "height": 34
        },
        "outputId": "82671095-46fd-4389-c7b7-d73a45640602"
      },
      "source": [
        "len(train[(train['Age']>=100) & (train['Claim']==1)])"
      ],
      "execution_count": null,
      "outputs": [
        {
          "output_type": "execute_result",
          "data": {
            "text/plain": [
              "69"
            ]
          },
          "metadata": {
            "tags": []
          },
          "execution_count": 6
        }
      ]
    },
    {
      "cell_type": "code",
      "metadata": {
        "id": "J_39_wACxZ6c",
        "colab_type": "code",
        "colab": {
          "base_uri": "https://localhost:8080/",
          "height": 34
        },
        "outputId": "8d47d2f8-03d7-4aa4-f9f4-01bef597f859"
      },
      "source": [
        "len(train[(train['Claim']==1)])"
      ],
      "execution_count": null,
      "outputs": [
        {
          "output_type": "execute_result",
          "data": {
            "text/plain": [
              "8720"
            ]
          },
          "metadata": {
            "tags": []
          },
          "execution_count": 7
        }
      ]
    },
    {
      "cell_type": "code",
      "metadata": {
        "id": "Rbvx1Aa68QHo",
        "colab_type": "code",
        "colab": {
          "base_uri": "https://localhost:8080/",
          "height": 272
        },
        "outputId": "b5b306b4-fe10-4882-bc96-3825397d7b6d"
      },
      "source": [
        "train[train['ID']==9734].head()"
      ],
      "execution_count": null,
      "outputs": [
        {
          "output_type": "execute_result",
          "data": {
            "text/html": [
              "<div>\n",
              "<style scoped>\n",
              "    .dataframe tbody tr th:only-of-type {\n",
              "        vertical-align: middle;\n",
              "    }\n",
              "\n",
              "    .dataframe tbody tr th {\n",
              "        vertical-align: top;\n",
              "    }\n",
              "\n",
              "    .dataframe thead th {\n",
              "        text-align: right;\n",
              "    }\n",
              "</style>\n",
              "<table border=\"1\" class=\"dataframe\">\n",
              "  <thead>\n",
              "    <tr style=\"text-align: right;\">\n",
              "      <th></th>\n",
              "      <th>ID</th>\n",
              "      <th>Agency</th>\n",
              "      <th>Agency Type</th>\n",
              "      <th>Distribution Channel</th>\n",
              "      <th>Product Name</th>\n",
              "      <th>Duration</th>\n",
              "      <th>Destination</th>\n",
              "      <th>Net Sales</th>\n",
              "      <th>Commision (in value)</th>\n",
              "      <th>Age</th>\n",
              "      <th>Claim</th>\n",
              "    </tr>\n",
              "  </thead>\n",
              "  <tbody>\n",
              "    <tr>\n",
              "      <th>104</th>\n",
              "      <td>9734</td>\n",
              "      <td>CWT</td>\n",
              "      <td>Travel Agency</td>\n",
              "      <td>Online</td>\n",
              "      <td>Rental Vehicle Excess Insurance</td>\n",
              "      <td>81</td>\n",
              "      <td>UNITED KINGDOM</td>\n",
              "      <td>-128.70000</td>\n",
              "      <td>77.220000</td>\n",
              "      <td>63</td>\n",
              "      <td>0</td>\n",
              "    </tr>\n",
              "    <tr>\n",
              "      <th>10703</th>\n",
              "      <td>9734</td>\n",
              "      <td>EPX</td>\n",
              "      <td>Travel Agency</td>\n",
              "      <td>Online</td>\n",
              "      <td>2 way Comprehensive Plan</td>\n",
              "      <td>151</td>\n",
              "      <td>UNITED STATES</td>\n",
              "      <td>112.00000</td>\n",
              "      <td>0.000000</td>\n",
              "      <td>30</td>\n",
              "      <td>0</td>\n",
              "    </tr>\n",
              "    <tr>\n",
              "      <th>29578</th>\n",
              "      <td>9734</td>\n",
              "      <td>EPX</td>\n",
              "      <td>Travel Agency</td>\n",
              "      <td>Online</td>\n",
              "      <td>Cancellation Plan</td>\n",
              "      <td>51</td>\n",
              "      <td>INDIA</td>\n",
              "      <td>23.00000</td>\n",
              "      <td>0.000000</td>\n",
              "      <td>51</td>\n",
              "      <td>0</td>\n",
              "    </tr>\n",
              "    <tr>\n",
              "      <th>30465</th>\n",
              "      <td>9734</td>\n",
              "      <td>C2B</td>\n",
              "      <td>Airlines</td>\n",
              "      <td>Online</td>\n",
              "      <td>Bronze Plan</td>\n",
              "      <td>158</td>\n",
              "      <td>SINGAPORE</td>\n",
              "      <td>281.00000</td>\n",
              "      <td>70.250000</td>\n",
              "      <td>22</td>\n",
              "      <td>0</td>\n",
              "    </tr>\n",
              "    <tr>\n",
              "      <th>38166</th>\n",
              "      <td>9734</td>\n",
              "      <td>C2B</td>\n",
              "      <td>Airlines</td>\n",
              "      <td>Online</td>\n",
              "      <td>Bronze Plan</td>\n",
              "      <td>104</td>\n",
              "      <td>SINGAPORE</td>\n",
              "      <td>47.42831</td>\n",
              "      <td>11.862077</td>\n",
              "      <td>27</td>\n",
              "      <td>1</td>\n",
              "    </tr>\n",
              "  </tbody>\n",
              "</table>\n",
              "</div>"
            ],
            "text/plain": [
              "         ID Agency    Agency Type  ... Commision (in value) Age  Claim\n",
              "104    9734    CWT  Travel Agency  ...            77.220000  63      0\n",
              "10703  9734    EPX  Travel Agency  ...             0.000000  30      0\n",
              "29578  9734    EPX  Travel Agency  ...             0.000000  51      0\n",
              "30465  9734    C2B       Airlines  ...            70.250000  22      0\n",
              "38166  9734    C2B       Airlines  ...            11.862077  27      1\n",
              "\n",
              "[5 rows x 11 columns]"
            ]
          },
          "metadata": {
            "tags": []
          },
          "execution_count": 8
        }
      ]
    },
    {
      "cell_type": "code",
      "metadata": {
        "colab_type": "code",
        "id": "FUa65u2upqRh",
        "colab": {
          "base_uri": "https://localhost:8080/",
          "height": 68
        },
        "outputId": "16923c48-8081-4a9a-a3dd-3716ab5ff22d"
      },
      "source": [
        "print(\"Training data shape is \",train.shape)\n",
        "print(\"testing data shape is \",test.shape)\n",
        "print(\"Sample data shape is \",sample.shape)"
      ],
      "execution_count": null,
      "outputs": [
        {
          "output_type": "stream",
          "text": [
            "Training data shape is  (52310, 11)\n",
            "testing data shape is  (22421, 10)\n",
            "Sample data shape is  (22421, 2)\n"
          ],
          "name": "stdout"
        }
      ]
    },
    {
      "cell_type": "code",
      "metadata": {
        "colab_type": "code",
        "id": "4tIgule7puVi",
        "colab": {
          "base_uri": "https://localhost:8080/",
          "height": 297
        },
        "outputId": "d258d3c7-f44e-4b7f-af51-6cd48487f312"
      },
      "source": [
        "train.describe()"
      ],
      "execution_count": null,
      "outputs": [
        {
          "output_type": "execute_result",
          "data": {
            "text/html": [
              "<div>\n",
              "<style scoped>\n",
              "    .dataframe tbody tr th:only-of-type {\n",
              "        vertical-align: middle;\n",
              "    }\n",
              "\n",
              "    .dataframe tbody tr th {\n",
              "        vertical-align: top;\n",
              "    }\n",
              "\n",
              "    .dataframe thead th {\n",
              "        text-align: right;\n",
              "    }\n",
              "</style>\n",
              "<table border=\"1\" class=\"dataframe\">\n",
              "  <thead>\n",
              "    <tr style=\"text-align: right;\">\n",
              "      <th></th>\n",
              "      <th>ID</th>\n",
              "      <th>Duration</th>\n",
              "      <th>Net Sales</th>\n",
              "      <th>Commision (in value)</th>\n",
              "      <th>Age</th>\n",
              "      <th>Claim</th>\n",
              "    </tr>\n",
              "  </thead>\n",
              "  <tbody>\n",
              "    <tr>\n",
              "      <th>count</th>\n",
              "      <td>52310.000000</td>\n",
              "      <td>52310.000000</td>\n",
              "      <td>52310.000000</td>\n",
              "      <td>52310.000000</td>\n",
              "      <td>52310.000000</td>\n",
              "      <td>52310.000000</td>\n",
              "    </tr>\n",
              "    <tr>\n",
              "      <th>mean</th>\n",
              "      <td>6005.745804</td>\n",
              "      <td>58.256108</td>\n",
              "      <td>48.554673</td>\n",
              "      <td>12.219963</td>\n",
              "      <td>39.555725</td>\n",
              "      <td>0.166699</td>\n",
              "    </tr>\n",
              "    <tr>\n",
              "      <th>std</th>\n",
              "      <td>2306.450475</td>\n",
              "      <td>109.138708</td>\n",
              "      <td>60.198589</td>\n",
              "      <td>22.847645</td>\n",
              "      <td>13.762473</td>\n",
              "      <td>0.372710</td>\n",
              "    </tr>\n",
              "    <tr>\n",
              "      <th>min</th>\n",
              "      <td>2000.000000</td>\n",
              "      <td>-2.000000</td>\n",
              "      <td>-389.000000</td>\n",
              "      <td>0.000000</td>\n",
              "      <td>0.000000</td>\n",
              "      <td>0.000000</td>\n",
              "    </tr>\n",
              "    <tr>\n",
              "      <th>25%</th>\n",
              "      <td>4015.000000</td>\n",
              "      <td>10.000000</td>\n",
              "      <td>19.800000</td>\n",
              "      <td>0.000000</td>\n",
              "      <td>33.000000</td>\n",
              "      <td>0.000000</td>\n",
              "    </tr>\n",
              "    <tr>\n",
              "      <th>50%</th>\n",
              "      <td>6002.000000</td>\n",
              "      <td>24.000000</td>\n",
              "      <td>29.500000</td>\n",
              "      <td>0.000000</td>\n",
              "      <td>36.000000</td>\n",
              "      <td>0.000000</td>\n",
              "    </tr>\n",
              "    <tr>\n",
              "      <th>75%</th>\n",
              "      <td>8004.000000</td>\n",
              "      <td>57.000000</td>\n",
              "      <td>55.000000</td>\n",
              "      <td>13.380000</td>\n",
              "      <td>43.000000</td>\n",
              "      <td>0.000000</td>\n",
              "    </tr>\n",
              "    <tr>\n",
              "      <th>max</th>\n",
              "      <td>10000.000000</td>\n",
              "      <td>4881.000000</td>\n",
              "      <td>682.000000</td>\n",
              "      <td>262.760000</td>\n",
              "      <td>118.000000</td>\n",
              "      <td>1.000000</td>\n",
              "    </tr>\n",
              "  </tbody>\n",
              "</table>\n",
              "</div>"
            ],
            "text/plain": [
              "                 ID      Duration  ...           Age         Claim\n",
              "count  52310.000000  52310.000000  ...  52310.000000  52310.000000\n",
              "mean    6005.745804     58.256108  ...     39.555725      0.166699\n",
              "std     2306.450475    109.138708  ...     13.762473      0.372710\n",
              "min     2000.000000     -2.000000  ...      0.000000      0.000000\n",
              "25%     4015.000000     10.000000  ...     33.000000      0.000000\n",
              "50%     6002.000000     24.000000  ...     36.000000      0.000000\n",
              "75%     8004.000000     57.000000  ...     43.000000      0.000000\n",
              "max    10000.000000   4881.000000  ...    118.000000      1.000000\n",
              "\n",
              "[8 rows x 6 columns]"
            ]
          },
          "metadata": {
            "tags": []
          },
          "execution_count": 12
        }
      ]
    },
    {
      "cell_type": "code",
      "metadata": {
        "colab_type": "code",
        "id": "sb896OArp_zb",
        "colab": {
          "base_uri": "https://localhost:8080/",
          "height": 323
        },
        "outputId": "38291cfd-62a8-455f-dea9-e06353d9432d"
      },
      "source": [
        "train.info()"
      ],
      "execution_count": null,
      "outputs": [
        {
          "output_type": "stream",
          "text": [
            "<class 'pandas.core.frame.DataFrame'>\n",
            "RangeIndex: 52310 entries, 0 to 52309\n",
            "Data columns (total 11 columns):\n",
            " #   Column                Non-Null Count  Dtype  \n",
            "---  ------                --------------  -----  \n",
            " 0   ID                    52310 non-null  int64  \n",
            " 1   Agency                52310 non-null  object \n",
            " 2   Agency Type           52310 non-null  object \n",
            " 3   Distribution Channel  52310 non-null  object \n",
            " 4   Product Name          52310 non-null  object \n",
            " 5   Duration              52310 non-null  int64  \n",
            " 6   Destination           52310 non-null  object \n",
            " 7   Net Sales             52310 non-null  float64\n",
            " 8   Commision (in value)  52310 non-null  float64\n",
            " 9   Age                   52310 non-null  int64  \n",
            " 10  Claim                 52310 non-null  int64  \n",
            "dtypes: float64(2), int64(4), object(5)\n",
            "memory usage: 4.4+ MB\n"
          ],
          "name": "stdout"
        }
      ]
    },
    {
      "cell_type": "code",
      "metadata": {
        "colab_type": "code",
        "id": "2HqJPx0OqEmC",
        "colab": {
          "base_uri": "https://localhost:8080/",
          "height": 221
        },
        "outputId": "a180b406-824a-48a8-c627-14b221a9369d"
      },
      "source": [
        "train.isnull().sum()"
      ],
      "execution_count": null,
      "outputs": [
        {
          "output_type": "execute_result",
          "data": {
            "text/plain": [
              "ID                      0\n",
              "Agency                  0\n",
              "Agency Type             0\n",
              "Distribution Channel    0\n",
              "Product Name            0\n",
              "Duration                0\n",
              "Destination             0\n",
              "Net Sales               0\n",
              "Commision (in value)    0\n",
              "Age                     0\n",
              "Claim                   0\n",
              "dtype: int64"
            ]
          },
          "metadata": {
            "tags": []
          },
          "execution_count": 14
        }
      ]
    },
    {
      "cell_type": "code",
      "metadata": {
        "colab_type": "code",
        "id": "lpLcn1h1qIIH",
        "colab": {
          "base_uri": "https://localhost:8080/",
          "height": 306
        },
        "outputId": "5ecc7fff-b68d-48ea-9b2a-31f24f1afac3"
      },
      "source": [
        "test.head()"
      ],
      "execution_count": null,
      "outputs": [
        {
          "output_type": "execute_result",
          "data": {
            "text/html": [
              "<div>\n",
              "<style scoped>\n",
              "    .dataframe tbody tr th:only-of-type {\n",
              "        vertical-align: middle;\n",
              "    }\n",
              "\n",
              "    .dataframe tbody tr th {\n",
              "        vertical-align: top;\n",
              "    }\n",
              "\n",
              "    .dataframe thead th {\n",
              "        text-align: right;\n",
              "    }\n",
              "</style>\n",
              "<table border=\"1\" class=\"dataframe\">\n",
              "  <thead>\n",
              "    <tr style=\"text-align: right;\">\n",
              "      <th></th>\n",
              "      <th>ID</th>\n",
              "      <th>Agency</th>\n",
              "      <th>Agency Type</th>\n",
              "      <th>Distribution Channel</th>\n",
              "      <th>Product Name</th>\n",
              "      <th>Duration</th>\n",
              "      <th>Destination</th>\n",
              "      <th>Net Sales</th>\n",
              "      <th>Commision (in value)</th>\n",
              "      <th>Age</th>\n",
              "    </tr>\n",
              "  </thead>\n",
              "  <tbody>\n",
              "    <tr>\n",
              "      <th>0</th>\n",
              "      <td>17631</td>\n",
              "      <td>EPX</td>\n",
              "      <td>Travel Agency</td>\n",
              "      <td>Online</td>\n",
              "      <td>Cancellation Plan</td>\n",
              "      <td>192</td>\n",
              "      <td>HONG KONG</td>\n",
              "      <td>18.0</td>\n",
              "      <td>0.00</td>\n",
              "      <td>36</td>\n",
              "    </tr>\n",
              "    <tr>\n",
              "      <th>1</th>\n",
              "      <td>15064</td>\n",
              "      <td>EPX</td>\n",
              "      <td>Travel Agency</td>\n",
              "      <td>Online</td>\n",
              "      <td>1 way Comprehensive Plan</td>\n",
              "      <td>2</td>\n",
              "      <td>SINGAPORE</td>\n",
              "      <td>20.0</td>\n",
              "      <td>0.00</td>\n",
              "      <td>36</td>\n",
              "    </tr>\n",
              "    <tr>\n",
              "      <th>2</th>\n",
              "      <td>14139</td>\n",
              "      <td>C2B</td>\n",
              "      <td>Airlines</td>\n",
              "      <td>Online</td>\n",
              "      <td>Bronze Plan</td>\n",
              "      <td>13</td>\n",
              "      <td>SINGAPORE</td>\n",
              "      <td>13.5</td>\n",
              "      <td>3.38</td>\n",
              "      <td>24</td>\n",
              "    </tr>\n",
              "    <tr>\n",
              "      <th>3</th>\n",
              "      <td>19754</td>\n",
              "      <td>EPX</td>\n",
              "      <td>Travel Agency</td>\n",
              "      <td>Online</td>\n",
              "      <td>2 way Comprehensive Plan</td>\n",
              "      <td>133</td>\n",
              "      <td>TAIWAN, PROVINCE OF CHINA</td>\n",
              "      <td>41.0</td>\n",
              "      <td>0.00</td>\n",
              "      <td>36</td>\n",
              "    </tr>\n",
              "    <tr>\n",
              "      <th>4</th>\n",
              "      <td>16439</td>\n",
              "      <td>C2B</td>\n",
              "      <td>Airlines</td>\n",
              "      <td>Online</td>\n",
              "      <td>Silver Plan</td>\n",
              "      <td>2</td>\n",
              "      <td>SINGAPORE</td>\n",
              "      <td>30.0</td>\n",
              "      <td>7.50</td>\n",
              "      <td>32</td>\n",
              "    </tr>\n",
              "  </tbody>\n",
              "</table>\n",
              "</div>"
            ],
            "text/plain": [
              "      ID Agency    Agency Type  ... Net Sales Commision (in value)  Age\n",
              "0  17631    EPX  Travel Agency  ...      18.0                 0.00   36\n",
              "1  15064    EPX  Travel Agency  ...      20.0                 0.00   36\n",
              "2  14139    C2B       Airlines  ...      13.5                 3.38   24\n",
              "3  19754    EPX  Travel Agency  ...      41.0                 0.00   36\n",
              "4  16439    C2B       Airlines  ...      30.0                 7.50   32\n",
              "\n",
              "[5 rows x 10 columns]"
            ]
          },
          "metadata": {
            "tags": []
          },
          "execution_count": 15
        }
      ]
    },
    {
      "cell_type": "code",
      "metadata": {
        "colab_type": "code",
        "id": "VctoQMiyqKQD",
        "colab": {
          "base_uri": "https://localhost:8080/",
          "height": 297
        },
        "outputId": "c68f4b5d-b7f0-4a4c-8782-f705bb4fc7ce"
      },
      "source": [
        "test.describe()"
      ],
      "execution_count": null,
      "outputs": [
        {
          "output_type": "execute_result",
          "data": {
            "text/html": [
              "<div>\n",
              "<style scoped>\n",
              "    .dataframe tbody tr th:only-of-type {\n",
              "        vertical-align: middle;\n",
              "    }\n",
              "\n",
              "    .dataframe tbody tr th {\n",
              "        vertical-align: top;\n",
              "    }\n",
              "\n",
              "    .dataframe thead th {\n",
              "        text-align: right;\n",
              "    }\n",
              "</style>\n",
              "<table border=\"1\" class=\"dataframe\">\n",
              "  <thead>\n",
              "    <tr style=\"text-align: right;\">\n",
              "      <th></th>\n",
              "      <th>ID</th>\n",
              "      <th>Duration</th>\n",
              "      <th>Net Sales</th>\n",
              "      <th>Commision (in value)</th>\n",
              "      <th>Age</th>\n",
              "    </tr>\n",
              "  </thead>\n",
              "  <tbody>\n",
              "    <tr>\n",
              "      <th>count</th>\n",
              "      <td>22421.000000</td>\n",
              "      <td>22421.000000</td>\n",
              "      <td>22421.000000</td>\n",
              "      <td>22421.000000</td>\n",
              "      <td>22421.000000</td>\n",
              "    </tr>\n",
              "    <tr>\n",
              "      <th>mean</th>\n",
              "      <td>15499.196646</td>\n",
              "      <td>59.100665</td>\n",
              "      <td>49.446070</td>\n",
              "      <td>12.316924</td>\n",
              "      <td>39.784889</td>\n",
              "    </tr>\n",
              "    <tr>\n",
              "      <th>std</th>\n",
              "      <td>2606.751171</td>\n",
              "      <td>114.819397</td>\n",
              "      <td>61.794609</td>\n",
              "      <td>22.957306</td>\n",
              "      <td>13.910773</td>\n",
              "    </tr>\n",
              "    <tr>\n",
              "      <th>min</th>\n",
              "      <td>11000.000000</td>\n",
              "      <td>-1.000000</td>\n",
              "      <td>-297.000000</td>\n",
              "      <td>0.000000</td>\n",
              "      <td>1.000000</td>\n",
              "    </tr>\n",
              "    <tr>\n",
              "      <th>25%</th>\n",
              "      <td>13236.000000</td>\n",
              "      <td>10.000000</td>\n",
              "      <td>19.800000</td>\n",
              "      <td>0.000000</td>\n",
              "      <td>34.000000</td>\n",
              "    </tr>\n",
              "    <tr>\n",
              "      <th>50%</th>\n",
              "      <td>15515.000000</td>\n",
              "      <td>24.000000</td>\n",
              "      <td>29.518868</td>\n",
              "      <td>0.000000</td>\n",
              "      <td>36.000000</td>\n",
              "    </tr>\n",
              "    <tr>\n",
              "      <th>75%</th>\n",
              "      <td>17762.000000</td>\n",
              "      <td>58.000000</td>\n",
              "      <td>56.000000</td>\n",
              "      <td>13.630000</td>\n",
              "      <td>43.000000</td>\n",
              "    </tr>\n",
              "    <tr>\n",
              "      <th>max</th>\n",
              "      <td>20000.000000</td>\n",
              "      <td>4857.000000</td>\n",
              "      <td>810.000000</td>\n",
              "      <td>283.500000</td>\n",
              "      <td>118.000000</td>\n",
              "    </tr>\n",
              "  </tbody>\n",
              "</table>\n",
              "</div>"
            ],
            "text/plain": [
              "                 ID      Duration  ...  Commision (in value)           Age\n",
              "count  22421.000000  22421.000000  ...          22421.000000  22421.000000\n",
              "mean   15499.196646     59.100665  ...             12.316924     39.784889\n",
              "std     2606.751171    114.819397  ...             22.957306     13.910773\n",
              "min    11000.000000     -1.000000  ...              0.000000      1.000000\n",
              "25%    13236.000000     10.000000  ...              0.000000     34.000000\n",
              "50%    15515.000000     24.000000  ...              0.000000     36.000000\n",
              "75%    17762.000000     58.000000  ...             13.630000     43.000000\n",
              "max    20000.000000   4857.000000  ...            283.500000    118.000000\n",
              "\n",
              "[8 rows x 5 columns]"
            ]
          },
          "metadata": {
            "tags": []
          },
          "execution_count": 16
        }
      ]
    },
    {
      "cell_type": "code",
      "metadata": {
        "colab_type": "code",
        "id": "ZxL8K5qHqNOS",
        "colab": {
          "base_uri": "https://localhost:8080/",
          "height": 306
        },
        "outputId": "18dc9c55-678c-492c-a2aa-0b04338f7c7d"
      },
      "source": [
        "test.info()"
      ],
      "execution_count": null,
      "outputs": [
        {
          "output_type": "stream",
          "text": [
            "<class 'pandas.core.frame.DataFrame'>\n",
            "RangeIndex: 22421 entries, 0 to 22420\n",
            "Data columns (total 10 columns):\n",
            " #   Column                Non-Null Count  Dtype  \n",
            "---  ------                --------------  -----  \n",
            " 0   ID                    22421 non-null  int64  \n",
            " 1   Agency                22421 non-null  object \n",
            " 2   Agency Type           22421 non-null  object \n",
            " 3   Distribution Channel  22421 non-null  object \n",
            " 4   Product Name          22421 non-null  object \n",
            " 5   Duration              22421 non-null  int64  \n",
            " 6   Destination           22421 non-null  object \n",
            " 7   Net Sales             22421 non-null  float64\n",
            " 8   Commision (in value)  22421 non-null  float64\n",
            " 9   Age                   22421 non-null  int64  \n",
            "dtypes: float64(2), int64(3), object(5)\n",
            "memory usage: 1.7+ MB\n"
          ],
          "name": "stdout"
        }
      ]
    },
    {
      "cell_type": "code",
      "metadata": {
        "colab_type": "code",
        "id": "G99dnEKdqPRC",
        "colab": {
          "base_uri": "https://localhost:8080/",
          "height": 204
        },
        "outputId": "6eae2e21-c93a-4e99-d2f1-e006a4d48337"
      },
      "source": [
        "test.isnull().sum()"
      ],
      "execution_count": null,
      "outputs": [
        {
          "output_type": "execute_result",
          "data": {
            "text/plain": [
              "ID                      0\n",
              "Agency                  0\n",
              "Agency Type             0\n",
              "Distribution Channel    0\n",
              "Product Name            0\n",
              "Duration                0\n",
              "Destination             0\n",
              "Net Sales               0\n",
              "Commision (in value)    0\n",
              "Age                     0\n",
              "dtype: int64"
            ]
          },
          "metadata": {
            "tags": []
          },
          "execution_count": 18
        }
      ]
    },
    {
      "cell_type": "code",
      "metadata": {
        "colab_type": "code",
        "id": "Eq8qiOG4qR5W",
        "colab": {
          "base_uri": "https://localhost:8080/",
          "height": 279
        },
        "outputId": "440a086f-0ccc-4319-9863-92af63e24cbd"
      },
      "source": [
        "sns.countplot(train['Claim'])\n",
        "plt.show()"
      ],
      "execution_count": null,
      "outputs": [
        {
          "output_type": "display_data",
          "data": {
            "image/png": "[encoded data removed]",
            "text/plain": [
              "<Figure size 432x288 with 1 Axes>"
            ]
          },
          "metadata": {
            "tags": [],
            "needs_background": "light"
          }
        }
      ]
    },
    {
      "cell_type": "code",
      "metadata": {
        "colab_type": "code",
        "id": "LEO8-khYt6sg",
        "colab": {
          "base_uri": "https://localhost:8080/",
          "height": 85
        },
        "outputId": "e8d220bd-0d89-4a8d-bc9a-e6ac60463b13"
      },
      "source": [
        "# Rows containing duplicate data\n",
        "df_train= train.drop(['ID'],axis=1)\n",
        "print(\"Traing data shape is \", df_train.shape)\n",
        "\n",
        "df_train.drop_duplicates(keep=False,inplace=True) \n",
        "print(\"Training data shape after duplicate removed is  \", df_train.shape)\n",
        "\n",
        "df_test= test.drop(['ID'],axis=1)\n",
        "print(\"Testing data shape is \", df_test.shape)\n",
        "\n",
        "df_test.drop_duplicates(keep=False,inplace=True) \n",
        "print(\"Testing data shape after duplicate removed is  \", df_test.shape)\n",
        "\n",
        "\n",
        "#duplicate_rows_df = duplicate_rows_df[duplicate_rows_df.duplicated()]\n",
        "#print(\"number of duplicate rows: \", duplicate_rows_df.shape)\n",
        "\n",
        "\n",
        "# Dropping the duplicates \n",
        "#df = duplicate_rows_df.drop_duplicates()\n",
        "#print(\"number of duplicate rows: \", df.shape)\n",
        "#df.head(5)"
      ],
      "execution_count": null,
      "outputs": [
        {
          "output_type": "stream",
          "text": [
            "Traing data shape is  (52310, 10)\n",
            "Training data shape after duplicate removed is   (43060, 10)\n",
            "Testing data shape is  (22421, 9)\n",
            "Testing data shape after duplicate removed is   (19644, 9)\n"
          ],
          "name": "stdout"
        }
      ]
    },
    {
      "cell_type": "code",
      "metadata": {
        "colab_type": "code",
        "id": "ju3OMPUdwTb_",
        "colab": {
          "base_uri": "https://localhost:8080/",
          "height": 34
        },
        "outputId": "8dbafb75-eebe-405b-f12a-e66aae20ae20"
      },
      "source": [
        "len(train['ID'].unique())"
      ],
      "execution_count": null,
      "outputs": [
        {
          "output_type": "execute_result",
          "data": {
            "text/plain": [
              "7992"
            ]
          },
          "metadata": {
            "tags": []
          },
          "execution_count": 20
        }
      ]
    },
    {
      "cell_type": "code",
      "metadata": {
        "colab_type": "code",
        "id": "asnoLi9RwwQ-",
        "colab": {
          "base_uri": "https://localhost:8080/",
          "height": 34
        },
        "outputId": "96eb9025-3bc8-496f-ffa3-3b6a62fb6e1b"
      },
      "source": [
        "len(test['ID'].unique())"
      ],
      "execution_count": null,
      "outputs": [
        {
          "output_type": "execute_result",
          "data": {
            "text/plain": [
              "8226"
            ]
          },
          "metadata": {
            "tags": []
          },
          "execution_count": 21
        }
      ]
    },
    {
      "cell_type": "code",
      "metadata": {
        "colab_type": "code",
        "id": "ul7jfP6SxNeB",
        "colab": {
          "base_uri": "https://localhost:8080/",
          "height": 1000
        },
        "outputId": "1fbf07ef-d3e3-4d4f-be07-c40288a9f06b"
      },
      "source": [
        "for column in train.columns:\n",
        "  print(\"Column name is \",column)\n",
        "  print(train[column].sort_values().unique())\n",
        "  print(len(train[column].unique()))\n",
        "  print(\"****************************************************************************************************\")"
      ],
      "execution_count": null,
      "outputs": [
        {
          "output_type": "stream",
          "text": [
            "Column name is  ID\n",
            "[ 2000  2001  2002 ...  9998  9999 10000]\n",
            "7992\n",
            "****************************************************************************************************\n",
            "Column name is  Agency\n",
            "['ADM' 'ART' 'C2B' 'CBH' 'CCR' 'CSR' 'CWT' 'EPX' 'JWT' 'JZI' 'KML' 'LWC'\n",
            " 'RAB' 'SSI' 'TST' 'TTW']\n",
            "16\n",
            "****************************************************************************************************\n",
            "Column name is  Agency Type\n",
            "['Airlines' 'Travel Agency']\n",
            "2\n",
            "****************************************************************************************************\n",
            "Column name is  Distribution Channel\n",
            "['Offline' 'Online']\n",
            "2\n",
            "****************************************************************************************************\n",
            "Column name is  Product Name\n",
            "['1 way Comprehensive Plan' '2 way Comprehensive Plan' '24 Protect'\n",
            " 'Annual Gold Plan' 'Annual Silver Plan' 'Annual Travel Protect Gold'\n",
            " 'Annual Travel Protect Platinum' 'Annual Travel Protect Silver'\n",
            " 'Basic Plan' 'Bronze Plan' 'Cancellation Plan' 'Child Comprehensive Plan'\n",
            " 'Comprehensive Plan' 'Gold Plan' 'Individual Comprehensive Plan'\n",
            " 'Premier Plan' 'Rental Vehicle Excess Insurance' 'Silver Plan'\n",
            " 'Single Trip Travel Protect Gold' 'Single Trip Travel Protect Platinum'\n",
            " 'Single Trip Travel Protect Silver'\n",
            " 'Spouse or Parents Comprehensive Plan' 'Ticket Protector'\n",
            " 'Travel Cruise Protect' 'Value Plan']\n",
            "25\n",
            "****************************************************************************************************\n",
            "Column name is  Duration\n",
            "[  -2   -1    0    1    2    3    4    5    6    7    8    9   10   11\n",
            "   12   13   14   15   16   17   18   19   20   21   22   23   24   25\n",
            "   26   27   28   29   30   31   32   33   34   35   36   37   38   39\n",
            "   40   41   42   43   44   45   46   47   48   49   50   51   52   53\n",
            "   54   55   56   57   58   59   60   61   62   63   64   65   66   67\n",
            "   68   69   70   71   72   73   74   75   76   77   78   79   80   81\n",
            "   82   83   84   85   86   87   88   89   90   91   92   93   94   95\n",
            "   96   97   98   99  100  101  102  103  104  105  106  107  108  109\n",
            "  110  111  112  113  114  115  116  117  118  119  120  121  122  123\n",
            "  124  125  126  127  128  129  130  131  132  133  134  135  136  137\n",
            "  138  139  140  141  142  143  144  145  146  147  148  149  150  151\n",
            "  152  153  154  155  156  157  158  159  160  161  162  163  164  165\n",
            "  166  167  168  169  170  171  172  173  174  175  176  177  178  179\n",
            "  180  181  182  183  184  185  186  187  188  189  190  191  192  193\n",
            "  194  195  196  197  198  199  200  201  202  203  204  205  206  207\n",
            "  208  209  210  211  212  213  214  215  216  217  218  219  220  221\n",
            "  222  223  224  225  226  227  228  229  230  231  232  233  234  235\n",
            "  236  237  238  239  240  241  242  243  244  245  246  247  248  249\n",
            "  250  251  252  253  254  255  256  257  258  259  260  261  262  263\n",
            "  264  265  266  267  268  269  270  271  272  273  274  275  276  277\n",
            "  278  279  280  281  282  283  284  285  286  287  288  289  290  291\n",
            "  292  293  294  296  297  298  299  300  301  303  304  305  306  307\n",
            "  309  310  311  312  314  315  318  319  321  322  323  324  325  326\n",
            "  327  328  330  331  332  336  337  342  350  352  364  365  366  367\n",
            "  368  369  370  371  372  373  374  375  376  377  378  379  380  381\n",
            "  382  383  384  385  386  387  388  389  390  391  392  393  394  395\n",
            "  396  397  398  399  400  401  402  403  404  405  406  407  408  409\n",
            "  410  411  412  413  414  415  416  417  418  419  420  421  422  423\n",
            "  424  425  426  427  428  429  430  431  432  433  434  435  436  440\n",
            "  441  444  445  448  450  456  457  459  463  465  466  472  474  487\n",
            "  488  490  494  497  508  529  531  545  547  740 4580 4609 4736 4784\n",
            " 4815 4831 4844 4847 4881]\n",
            "439\n",
            "****************************************************************************************************\n",
            "Column name is  Destination\n",
            "['ARGENTINA' 'AUSTRALIA' 'AUSTRIA' 'AZERBAIJAN' 'BAHRAIN' 'BANGLADESH'\n",
            " 'BELARUS' 'BELGIUM' 'BERMUDA' 'BHUTAN' 'BOLIVIA' 'BRAZIL'\n",
            " 'BRUNEI DARUSSALAM' 'CAMBODIA' 'CANADA' 'CHILE' 'CHINA' 'COLOMBIA'\n",
            " 'COSTA RICA' 'CROATIA' 'CYPRUS' 'CZECH REPUBLIC' 'DENMARK' 'EGYPT'\n",
            " 'ESTONIA' 'ETHIOPIA' 'FIJI' 'FINLAND' 'FRANCE' 'GEORGIA' 'GERMANY'\n",
            " 'GREECE' 'GUAM' 'HONG KONG' 'HUNGARY' 'ICELAND' 'INDIA' 'INDONESIA'\n",
            " 'IRELAND' 'ISRAEL' 'ITALY' 'JAPAN' 'JORDAN' 'KAZAKHSTAN' 'KENYA'\n",
            " 'KOREA, REPUBLIC OF' 'KUWAIT' 'KYRGYZSTAN'\n",
            " \"LAO PEOPLE'S DEMOCRATIC REPUBLIC\" 'LEBANON' 'LITHUANIA' 'LUXEMBOURG'\n",
            " 'MACAO' 'MALAYSIA' 'MALDIVES' 'MALTA' 'MAURITIUS' 'MEXICO' 'MONGOLIA'\n",
            " 'MOROCCO' 'MYANMAR' 'NEPAL' 'NETHERLANDS' 'NEW ZEALAND' 'NORWAY' 'OMAN'\n",
            " 'PAKISTAN' 'PERU' 'PHILIPPINES' 'POLAND' 'PORTUGAL' 'QATAR' 'ROMANIA'\n",
            " 'RUSSIAN FEDERATION' 'SAUDI ARABIA' 'SINGAPORE' 'SLOVENIA' 'SOUTH AFRICA'\n",
            " 'SPAIN' 'SRI LANKA' 'SWEDEN' 'SWITZERLAND' 'TAIWAN, PROVINCE OF CHINA'\n",
            " 'TANZANIA, UNITED REPUBLIC OF' 'THAILAND' 'TUNISIA' 'TURKEY'\n",
            " 'TURKMENISTAN' 'UKRAINE' 'UNITED ARAB EMIRATES' 'UNITED KINGDOM'\n",
            " 'UNITED STATES' 'UZBEKISTAN' 'VANUATU' 'VENEZUELA' 'VIET NAM' 'ZAMBIA']\n",
            "97\n",
            "****************************************************************************************************\n",
            "Column name is  Net Sales\n",
            "[-389.   -357.5  -291.75 ...  599.    666.    682.  ]\n",
            "6700\n",
            "****************************************************************************************************\n",
            "Column name is  Commision (in value)\n",
            "[0.00000000e+00 9.47650022e-04 2.00000000e-02 ... 2.10210000e+02\n",
            " 2.62600000e+02 2.62760000e+02]\n",
            "5101\n",
            "****************************************************************************************************\n",
            "Column name is  Age\n",
            "[  0   1   2   3   4   5   7   8   9  10  11  12  13  14  15  16  17  18\n",
            "  19  20  21  22  23  24  25  26  27  28  29  30  31  32  33  34  35  36\n",
            "  37  38  39  40  41  42  43  44  45  46  47  48  49  50  51  52  53  54\n",
            "  55  56  57  58  59  60  61  62  63  64  65  66  67  68  69  70  71  72\n",
            "  73  74  75  76  77  78  79  80  81  82  83  84  85  86  87  88  89  92\n",
            "  94  96  97 101 105 108 115 117 118]\n",
            "99\n",
            "****************************************************************************************************\n",
            "Column name is  Claim\n",
            "[0 1]\n",
            "2\n",
            "****************************************************************************************************\n"
          ],
          "name": "stdout"
        }
      ]
    },
    {
      "cell_type": "code",
      "metadata": {
        "colab_type": "code",
        "id": "s_NltXYg9MaT",
        "colab": {
          "base_uri": "https://localhost:8080/",
          "height": 34
        },
        "outputId": "74dde270-10ac-49be-acf8-31c32c80fdf6"
      },
      "source": [
        "len(train[(train['Duration']<0) | (train['Duration']>500)])"
      ],
      "execution_count": null,
      "outputs": [
        {
          "output_type": "execute_result",
          "data": {
            "text/plain": [
              "20"
            ]
          },
          "metadata": {
            "tags": []
          },
          "execution_count": 23
        }
      ]
    },
    {
      "cell_type": "code",
      "metadata": {
        "colab_type": "code",
        "id": "2L8RAVNm9qSm",
        "colab": {
          "base_uri": "https://localhost:8080/",
          "height": 289
        },
        "outputId": "b42e2732-1f72-4b49-887b-da0f4d341d59"
      },
      "source": [
        "train[train['Net Sales']<0].head()"
      ],
      "execution_count": null,
      "outputs": [
        {
          "output_type": "execute_result",
          "data": {
            "text/html": [
              "<div>\n",
              "<style scoped>\n",
              "    .dataframe tbody tr th:only-of-type {\n",
              "        vertical-align: middle;\n",
              "    }\n",
              "\n",
              "    .dataframe tbody tr th {\n",
              "        vertical-align: top;\n",
              "    }\n",
              "\n",
              "    .dataframe thead th {\n",
              "        text-align: right;\n",
              "    }\n",
              "</style>\n",
              "<table border=\"1\" class=\"dataframe\">\n",
              "  <thead>\n",
              "    <tr style=\"text-align: right;\">\n",
              "      <th></th>\n",
              "      <th>ID</th>\n",
              "      <th>Agency</th>\n",
              "      <th>Agency Type</th>\n",
              "      <th>Distribution Channel</th>\n",
              "      <th>Product Name</th>\n",
              "      <th>Duration</th>\n",
              "      <th>Destination</th>\n",
              "      <th>Net Sales</th>\n",
              "      <th>Commision (in value)</th>\n",
              "      <th>Age</th>\n",
              "      <th>Claim</th>\n",
              "    </tr>\n",
              "  </thead>\n",
              "  <tbody>\n",
              "    <tr>\n",
              "      <th>104</th>\n",
              "      <td>9734</td>\n",
              "      <td>CWT</td>\n",
              "      <td>Travel Agency</td>\n",
              "      <td>Online</td>\n",
              "      <td>Rental Vehicle Excess Insurance</td>\n",
              "      <td>81</td>\n",
              "      <td>UNITED KINGDOM</td>\n",
              "      <td>-128.7</td>\n",
              "      <td>77.22</td>\n",
              "      <td>63</td>\n",
              "      <td>0</td>\n",
              "    </tr>\n",
              "    <tr>\n",
              "      <th>147</th>\n",
              "      <td>7747</td>\n",
              "      <td>EPX</td>\n",
              "      <td>Travel Agency</td>\n",
              "      <td>Online</td>\n",
              "      <td>Cancellation Plan</td>\n",
              "      <td>15</td>\n",
              "      <td>CANADA</td>\n",
              "      <td>-17.0</td>\n",
              "      <td>0.00</td>\n",
              "      <td>24</td>\n",
              "      <td>0</td>\n",
              "    </tr>\n",
              "    <tr>\n",
              "      <th>190</th>\n",
              "      <td>8778</td>\n",
              "      <td>CWT</td>\n",
              "      <td>Travel Agency</td>\n",
              "      <td>Online</td>\n",
              "      <td>Rental Vehicle Excess Insurance</td>\n",
              "      <td>178</td>\n",
              "      <td>AUSTRALIA</td>\n",
              "      <td>-69.3</td>\n",
              "      <td>41.58</td>\n",
              "      <td>29</td>\n",
              "      <td>0</td>\n",
              "    </tr>\n",
              "    <tr>\n",
              "      <th>485</th>\n",
              "      <td>9677</td>\n",
              "      <td>C2B</td>\n",
              "      <td>Airlines</td>\n",
              "      <td>Online</td>\n",
              "      <td>Annual Silver Plan</td>\n",
              "      <td>364</td>\n",
              "      <td>SINGAPORE</td>\n",
              "      <td>-389.0</td>\n",
              "      <td>97.25</td>\n",
              "      <td>27</td>\n",
              "      <td>0</td>\n",
              "    </tr>\n",
              "    <tr>\n",
              "      <th>587</th>\n",
              "      <td>5675</td>\n",
              "      <td>CWT</td>\n",
              "      <td>Travel Agency</td>\n",
              "      <td>Online</td>\n",
              "      <td>Rental Vehicle Excess Insurance</td>\n",
              "      <td>31</td>\n",
              "      <td>JAPAN</td>\n",
              "      <td>-69.3</td>\n",
              "      <td>41.58</td>\n",
              "      <td>26</td>\n",
              "      <td>0</td>\n",
              "    </tr>\n",
              "  </tbody>\n",
              "</table>\n",
              "</div>"
            ],
            "text/plain": [
              "       ID Agency    Agency Type  ... Commision (in value) Age  Claim\n",
              "104  9734    CWT  Travel Agency  ...                77.22  63      0\n",
              "147  7747    EPX  Travel Agency  ...                 0.00  24      0\n",
              "190  8778    CWT  Travel Agency  ...                41.58  29      0\n",
              "485  9677    C2B       Airlines  ...                97.25  27      0\n",
              "587  5675    CWT  Travel Agency  ...                41.58  26      0\n",
              "\n",
              "[5 rows x 11 columns]"
            ]
          },
          "metadata": {
            "tags": []
          },
          "execution_count": 24
        }
      ]
    },
    {
      "cell_type": "code",
      "metadata": {
        "colab_type": "code",
        "id": "76SgFRO-92Qm",
        "colab": {
          "base_uri": "https://localhost:8080/",
          "height": 66
        },
        "outputId": "96153897-61af-45c0-cb1e-2d234760a800"
      },
      "source": [
        "train[train['Commision (in value)']<0].head()"
      ],
      "execution_count": null,
      "outputs": [
        {
          "output_type": "execute_result",
          "data": {
            "text/html": [
              "<div>\n",
              "<style scoped>\n",
              "    .dataframe tbody tr th:only-of-type {\n",
              "        vertical-align: middle;\n",
              "    }\n",
              "\n",
              "    .dataframe tbody tr th {\n",
              "        vertical-align: top;\n",
              "    }\n",
              "\n",
              "    .dataframe thead th {\n",
              "        text-align: right;\n",
              "    }\n",
              "</style>\n",
              "<table border=\"1\" class=\"dataframe\">\n",
              "  <thead>\n",
              "    <tr style=\"text-align: right;\">\n",
              "      <th></th>\n",
              "      <th>ID</th>\n",
              "      <th>Agency</th>\n",
              "      <th>Agency Type</th>\n",
              "      <th>Distribution Channel</th>\n",
              "      <th>Product Name</th>\n",
              "      <th>Duration</th>\n",
              "      <th>Destination</th>\n",
              "      <th>Net Sales</th>\n",
              "      <th>Commision (in value)</th>\n",
              "      <th>Age</th>\n",
              "      <th>Claim</th>\n",
              "    </tr>\n",
              "  </thead>\n",
              "  <tbody>\n",
              "  </tbody>\n",
              "</table>\n",
              "</div>"
            ],
            "text/plain": [
              "Empty DataFrame\n",
              "Columns: [ID, Agency, Agency Type, Distribution Channel, Product Name, Duration, Destination, Net Sales, Commision (in value), Age, Claim]\n",
              "Index: []"
            ]
          },
          "metadata": {
            "tags": []
          },
          "execution_count": 25
        }
      ]
    },
    {
      "cell_type": "code",
      "metadata": {
        "colab_type": "code",
        "id": "TnkX1QYn-D6g",
        "colab": {
          "base_uri": "https://localhost:8080/",
          "height": 255
        },
        "outputId": "bf5e9946-a5dd-4286-8cc3-84802ad66f75"
      },
      "source": [
        "train[train['Duration']==0].head()"
      ],
      "execution_count": null,
      "outputs": [
        {
          "output_type": "execute_result",
          "data": {
            "text/html": [
              "<div>\n",
              "<style scoped>\n",
              "    .dataframe tbody tr th:only-of-type {\n",
              "        vertical-align: middle;\n",
              "    }\n",
              "\n",
              "    .dataframe tbody tr th {\n",
              "        vertical-align: top;\n",
              "    }\n",
              "\n",
              "    .dataframe thead th {\n",
              "        text-align: right;\n",
              "    }\n",
              "</style>\n",
              "<table border=\"1\" class=\"dataframe\">\n",
              "  <thead>\n",
              "    <tr style=\"text-align: right;\">\n",
              "      <th></th>\n",
              "      <th>ID</th>\n",
              "      <th>Agency</th>\n",
              "      <th>Agency Type</th>\n",
              "      <th>Distribution Channel</th>\n",
              "      <th>Product Name</th>\n",
              "      <th>Duration</th>\n",
              "      <th>Destination</th>\n",
              "      <th>Net Sales</th>\n",
              "      <th>Commision (in value)</th>\n",
              "      <th>Age</th>\n",
              "      <th>Claim</th>\n",
              "    </tr>\n",
              "  </thead>\n",
              "  <tbody>\n",
              "    <tr>\n",
              "      <th>1270</th>\n",
              "      <td>2274</td>\n",
              "      <td>SSI</td>\n",
              "      <td>Airlines</td>\n",
              "      <td>Online</td>\n",
              "      <td>Ticket Protector</td>\n",
              "      <td>0</td>\n",
              "      <td>SINGAPORE</td>\n",
              "      <td>0.51</td>\n",
              "      <td>0.14</td>\n",
              "      <td>48</td>\n",
              "      <td>0</td>\n",
              "    </tr>\n",
              "    <tr>\n",
              "      <th>1363</th>\n",
              "      <td>2359</td>\n",
              "      <td>C2B</td>\n",
              "      <td>Airlines</td>\n",
              "      <td>Online</td>\n",
              "      <td>Bronze Plan</td>\n",
              "      <td>0</td>\n",
              "      <td>SINGAPORE</td>\n",
              "      <td>27.00</td>\n",
              "      <td>6.75</td>\n",
              "      <td>23</td>\n",
              "      <td>0</td>\n",
              "    </tr>\n",
              "    <tr>\n",
              "      <th>2081</th>\n",
              "      <td>3412</td>\n",
              "      <td>JWT</td>\n",
              "      <td>Airlines</td>\n",
              "      <td>Online</td>\n",
              "      <td>Value Plan</td>\n",
              "      <td>0</td>\n",
              "      <td>INDIA</td>\n",
              "      <td>62.00</td>\n",
              "      <td>24.80</td>\n",
              "      <td>118</td>\n",
              "      <td>0</td>\n",
              "    </tr>\n",
              "    <tr>\n",
              "      <th>3191</th>\n",
              "      <td>7964</td>\n",
              "      <td>JWT</td>\n",
              "      <td>Airlines</td>\n",
              "      <td>Online</td>\n",
              "      <td>Value Plan</td>\n",
              "      <td>0</td>\n",
              "      <td>INDIA</td>\n",
              "      <td>31.00</td>\n",
              "      <td>12.40</td>\n",
              "      <td>118</td>\n",
              "      <td>0</td>\n",
              "    </tr>\n",
              "    <tr>\n",
              "      <th>7706</th>\n",
              "      <td>7433</td>\n",
              "      <td>SSI</td>\n",
              "      <td>Airlines</td>\n",
              "      <td>Online</td>\n",
              "      <td>Ticket Protector</td>\n",
              "      <td>0</td>\n",
              "      <td>SINGAPORE</td>\n",
              "      <td>14.40</td>\n",
              "      <td>4.04</td>\n",
              "      <td>48</td>\n",
              "      <td>0</td>\n",
              "    </tr>\n",
              "  </tbody>\n",
              "</table>\n",
              "</div>"
            ],
            "text/plain": [
              "        ID Agency Agency Type  ... Commision (in value)  Age  Claim\n",
              "1270  2274    SSI    Airlines  ...                 0.14   48      0\n",
              "1363  2359    C2B    Airlines  ...                 6.75   23      0\n",
              "2081  3412    JWT    Airlines  ...                24.80  118      0\n",
              "3191  7964    JWT    Airlines  ...                12.40  118      0\n",
              "7706  7433    SSI    Airlines  ...                 4.04   48      0\n",
              "\n",
              "[5 rows x 11 columns]"
            ]
          },
          "metadata": {
            "tags": []
          },
          "execution_count": 26
        }
      ]
    },
    {
      "cell_type": "code",
      "metadata": {
        "colab_type": "code",
        "id": "pPciEWXN-mAu",
        "colab": {
          "base_uri": "https://localhost:8080/",
          "height": 207
        },
        "outputId": "0781ddc1-84cb-43a8-bc86-a8b71dd1638d"
      },
      "source": [
        "train[train['Duration']<0].head()"
      ],
      "execution_count": null,
      "outputs": [
        {
          "output_type": "execute_result",
          "data": {
            "text/html": [
              "<div>\n",
              "<style scoped>\n",
              "    .dataframe tbody tr th:only-of-type {\n",
              "        vertical-align: middle;\n",
              "    }\n",
              "\n",
              "    .dataframe tbody tr th {\n",
              "        vertical-align: top;\n",
              "    }\n",
              "\n",
              "    .dataframe thead th {\n",
              "        text-align: right;\n",
              "    }\n",
              "</style>\n",
              "<table border=\"1\" class=\"dataframe\">\n",
              "  <thead>\n",
              "    <tr style=\"text-align: right;\">\n",
              "      <th></th>\n",
              "      <th>ID</th>\n",
              "      <th>Agency</th>\n",
              "      <th>Agency Type</th>\n",
              "      <th>Distribution Channel</th>\n",
              "      <th>Product Name</th>\n",
              "      <th>Duration</th>\n",
              "      <th>Destination</th>\n",
              "      <th>Net Sales</th>\n",
              "      <th>Commision (in value)</th>\n",
              "      <th>Age</th>\n",
              "      <th>Claim</th>\n",
              "    </tr>\n",
              "  </thead>\n",
              "  <tbody>\n",
              "    <tr>\n",
              "      <th>11523</th>\n",
              "      <td>9450</td>\n",
              "      <td>JZI</td>\n",
              "      <td>Airlines</td>\n",
              "      <td>Online</td>\n",
              "      <td>Basic Plan</td>\n",
              "      <td>-1</td>\n",
              "      <td>INDONESIA</td>\n",
              "      <td>18.0</td>\n",
              "      <td>6.3</td>\n",
              "      <td>118</td>\n",
              "      <td>0</td>\n",
              "    </tr>\n",
              "    <tr>\n",
              "      <th>15949</th>\n",
              "      <td>7015</td>\n",
              "      <td>JZI</td>\n",
              "      <td>Airlines</td>\n",
              "      <td>Online</td>\n",
              "      <td>Basic Plan</td>\n",
              "      <td>-1</td>\n",
              "      <td>BRUNEI DARUSSALAM</td>\n",
              "      <td>18.0</td>\n",
              "      <td>6.3</td>\n",
              "      <td>118</td>\n",
              "      <td>0</td>\n",
              "    </tr>\n",
              "    <tr>\n",
              "      <th>33398</th>\n",
              "      <td>4193</td>\n",
              "      <td>JZI</td>\n",
              "      <td>Airlines</td>\n",
              "      <td>Online</td>\n",
              "      <td>Basic Plan</td>\n",
              "      <td>-1</td>\n",
              "      <td>MALAYSIA</td>\n",
              "      <td>18.0</td>\n",
              "      <td>6.3</td>\n",
              "      <td>118</td>\n",
              "      <td>0</td>\n",
              "    </tr>\n",
              "    <tr>\n",
              "      <th>41424</th>\n",
              "      <td>7763</td>\n",
              "      <td>JZI</td>\n",
              "      <td>Airlines</td>\n",
              "      <td>Online</td>\n",
              "      <td>Basic Plan</td>\n",
              "      <td>-2</td>\n",
              "      <td>BANGLADESH</td>\n",
              "      <td>22.0</td>\n",
              "      <td>7.7</td>\n",
              "      <td>118</td>\n",
              "      <td>0</td>\n",
              "    </tr>\n",
              "  </tbody>\n",
              "</table>\n",
              "</div>"
            ],
            "text/plain": [
              "         ID Agency Agency Type  ... Commision (in value)  Age  Claim\n",
              "11523  9450    JZI    Airlines  ...                  6.3  118      0\n",
              "15949  7015    JZI    Airlines  ...                  6.3  118      0\n",
              "33398  4193    JZI    Airlines  ...                  6.3  118      0\n",
              "41424  7763    JZI    Airlines  ...                  7.7  118      0\n",
              "\n",
              "[4 rows x 11 columns]"
            ]
          },
          "metadata": {
            "tags": []
          },
          "execution_count": 27
        }
      ]
    },
    {
      "cell_type": "code",
      "metadata": {
        "colab_type": "code",
        "id": "vbJo9iqy_ExL",
        "colab": {
          "base_uri": "https://localhost:8080/",
          "height": 306
        },
        "outputId": "96b36130-0bad-43cb-e0b0-356aead6b382"
      },
      "source": [
        "train[train['Duration']>1000].head()"
      ],
      "execution_count": null,
      "outputs": [
        {
          "output_type": "execute_result",
          "data": {
            "text/html": [
              "<div>\n",
              "<style scoped>\n",
              "    .dataframe tbody tr th:only-of-type {\n",
              "        vertical-align: middle;\n",
              "    }\n",
              "\n",
              "    .dataframe tbody tr th {\n",
              "        vertical-align: top;\n",
              "    }\n",
              "\n",
              "    .dataframe thead th {\n",
              "        text-align: right;\n",
              "    }\n",
              "</style>\n",
              "<table border=\"1\" class=\"dataframe\">\n",
              "  <thead>\n",
              "    <tr style=\"text-align: right;\">\n",
              "      <th></th>\n",
              "      <th>ID</th>\n",
              "      <th>Agency</th>\n",
              "      <th>Agency Type</th>\n",
              "      <th>Distribution Channel</th>\n",
              "      <th>Product Name</th>\n",
              "      <th>Duration</th>\n",
              "      <th>Destination</th>\n",
              "      <th>Net Sales</th>\n",
              "      <th>Commision (in value)</th>\n",
              "      <th>Age</th>\n",
              "      <th>Claim</th>\n",
              "    </tr>\n",
              "  </thead>\n",
              "  <tbody>\n",
              "    <tr>\n",
              "      <th>382</th>\n",
              "      <td>9512</td>\n",
              "      <td>SSI</td>\n",
              "      <td>Airlines</td>\n",
              "      <td>Online</td>\n",
              "      <td>Ticket Protector</td>\n",
              "      <td>4736</td>\n",
              "      <td>SINGAPORE</td>\n",
              "      <td>0.32</td>\n",
              "      <td>0.09</td>\n",
              "      <td>48</td>\n",
              "      <td>0</td>\n",
              "    </tr>\n",
              "    <tr>\n",
              "      <th>7766</th>\n",
              "      <td>4113</td>\n",
              "      <td>SSI</td>\n",
              "      <td>Airlines</td>\n",
              "      <td>Online</td>\n",
              "      <td>Ticket Protector</td>\n",
              "      <td>4831</td>\n",
              "      <td>SINGAPORE</td>\n",
              "      <td>0.32</td>\n",
              "      <td>0.09</td>\n",
              "      <td>48</td>\n",
              "      <td>0</td>\n",
              "    </tr>\n",
              "    <tr>\n",
              "      <th>14544</th>\n",
              "      <td>3927</td>\n",
              "      <td>SSI</td>\n",
              "      <td>Airlines</td>\n",
              "      <td>Online</td>\n",
              "      <td>Ticket Protector</td>\n",
              "      <td>4847</td>\n",
              "      <td>SINGAPORE</td>\n",
              "      <td>0.32</td>\n",
              "      <td>0.09</td>\n",
              "      <td>48</td>\n",
              "      <td>0</td>\n",
              "    </tr>\n",
              "    <tr>\n",
              "      <th>22123</th>\n",
              "      <td>3165</td>\n",
              "      <td>SSI</td>\n",
              "      <td>Airlines</td>\n",
              "      <td>Online</td>\n",
              "      <td>Ticket Protector</td>\n",
              "      <td>4844</td>\n",
              "      <td>SINGAPORE</td>\n",
              "      <td>0.32</td>\n",
              "      <td>0.09</td>\n",
              "      <td>48</td>\n",
              "      <td>0</td>\n",
              "    </tr>\n",
              "    <tr>\n",
              "      <th>31985</th>\n",
              "      <td>5697</td>\n",
              "      <td>SSI</td>\n",
              "      <td>Airlines</td>\n",
              "      <td>Online</td>\n",
              "      <td>Ticket Protector</td>\n",
              "      <td>4815</td>\n",
              "      <td>SINGAPORE</td>\n",
              "      <td>0.32</td>\n",
              "      <td>0.09</td>\n",
              "      <td>48</td>\n",
              "      <td>0</td>\n",
              "    </tr>\n",
              "  </tbody>\n",
              "</table>\n",
              "</div>"
            ],
            "text/plain": [
              "         ID Agency Agency Type  ... Commision (in value) Age  Claim\n",
              "382    9512    SSI    Airlines  ...                 0.09  48      0\n",
              "7766   4113    SSI    Airlines  ...                 0.09  48      0\n",
              "14544  3927    SSI    Airlines  ...                 0.09  48      0\n",
              "22123  3165    SSI    Airlines  ...                 0.09  48      0\n",
              "31985  5697    SSI    Airlines  ...                 0.09  48      0\n",
              "\n",
              "[5 rows x 11 columns]"
            ]
          },
          "metadata": {
            "tags": []
          },
          "execution_count": 28
        }
      ]
    },
    {
      "cell_type": "code",
      "metadata": {
        "colab_type": "code",
        "id": "Hm_ixYUK_TaK",
        "colab": {}
      },
      "source": [
        "numerics = ['int16','int32','int64','float16','float32','float64']\n",
        "numerical_vars = list(train.select_dtypes(include=numerics).columns)\n",
        "df_numeric=train.loc[:,numerical_vars]\n",
        "\n",
        "# to generate categorical value\n",
        "df_category=train.drop(numerical_vars,axis=1)"
      ],
      "execution_count": null,
      "outputs": []
    },
    {
      "cell_type": "code",
      "metadata": {
        "colab_type": "code",
        "id": "xo2XEfxfQMjE",
        "colab": {
          "base_uri": "https://localhost:8080/",
          "height": 1000
        },
        "outputId": "a4f0ea4b-6d9d-42d0-a27f-42fd88a86ae5"
      },
      "source": [
        "# to check the data distribution in numerical values\n",
        "for i in df_numeric.columns:\n",
        "  print(i)\n",
        "  sns.distplot(df_numeric[i])\n",
        "  plt.show()"
      ],
      "execution_count": null,
      "outputs": [
        {
          "output_type": "stream",
          "text": [
            "ID\n"
          ],
          "name": "stdout"
        },
        {
          "output_type": "display_data",
          "data": {
            "image/png": "[encoded data removed]",
            "text/plain": [
              "<Figure size 432x288 with 1 Axes>"
            ]
          },
          "metadata": {
            "tags": [],
            "needs_background": "light"
          }
        },
        {
          "output_type": "stream",
          "text": [
            "Duration\n"
          ],
          "name": "stdout"
        },
        {
          "output_type": "display_data",
          "data": {
            "image/png": "[encoded data removed]",
            "text/plain": [
              "<Figure size 432x288 with 1 Axes>"
            ]
          },
          "metadata": {
            "tags": [],
            "needs_background": "light"
          }
        },
        {
          "output_type": "stream",
          "text": [
            "Net Sales\n"
          ],
          "name": "stdout"
        },
        {
          "output_type": "display_data",
          "data": {
            "image/png": "[encoded data removed]",
            "text/plain": [
              "<Figure size 432x288 with 1 Axes>"
            ]
          },
          "metadata": {
            "tags": [],
            "needs_background": "light"
          }
        },
        {
          "output_type": "stream",
          "text": [
            "Commision (in value)\n"
          ],
          "name": "stdout"
        },
        {
          "output_type": "display_data",
          "data": {
            "image/png": "[encoded data removed]",
            "text/plain": [
              "<Figure size 432x288 with 1 Axes>"
            ]
          },
          "metadata": {
            "tags": [],
            "needs_background": "light"
          }
        },
        {
          "output_type": "stream",
          "text": [
            "Age\n"
          ],
          "name": "stdout"
        },
        {
          "output_type": "display_data",
          "data": {
            "image/png": "[encoded data removed]",
            "text/plain": [
              "<Figure size 432x288 with 1 Axes>"
            ]
          },
          "metadata": {
            "tags": [],
            "needs_background": "light"
          }
        },
        {
          "output_type": "stream",
          "text": [
            "Claim\n"
          ],
          "name": "stdout"
        },
        {
          "output_type": "display_data",
          "data": {
            "image/png": "[encoded data removed]",
            "text/plain": [
              "<Figure size 432x288 with 1 Axes>"
            ]
          },
          "metadata": {
            "tags": [],
            "needs_background": "light"
          }
        }
      ]
    },
    {
      "cell_type": "code",
      "metadata": {
        "colab_type": "code",
        "id": "ek-Cq9OOQPq3",
        "colab": {
          "base_uri": "https://localhost:8080/",
          "height": 1000
        },
        "outputId": "536efd46-09a9-43c9-9dbe-2542acb2d631"
      },
      "source": [
        "# to check the data distribution in categorical values\n",
        "for i in df_category.columns:\n",
        "  #print(\"Column name is \",i)\n",
        "  train.groupby(i)['Claim'].value_counts().unstack().plot(kind='bar',stacked=True)"
      ],
      "execution_count": null,
      "outputs": [
        {
          "output_type": "display_data",
          "data": {
            "image/png": "[encoded data removed]",
            "text/plain": [
              "<Figure size 432x288 with 1 Axes>"
            ]
          },
          "metadata": {
            "tags": [],
            "needs_background": "light"
          }
        },
        {
          "output_type": "display_data",
          "data": {
            "image/png": "[encoded data removed]",
            "text/plain": [
              "<Figure size 432x288 with 1 Axes>"
            ]
          },
          "metadata": {
            "tags": [],
            "needs_background": "light"
          }
        },
        {
          "output_type": "display_data",
          "data": {
            "image/png": "[encoded data removed]",
            "text/plain": [
              "<Figure size 432x288 with 1 Axes>"
            ]
          },
          "metadata": {
            "tags": [],
            "needs_background": "light"
          }
        },
        {
          "output_type": "display_data",
          "data": {
            "image/png": "[encoded data removed]",
            "text/plain": [
              "<Figure size 432x288 with 1 Axes>"
            ]
          },
          "metadata": {
            "tags": [],
            "needs_background": "light"
          }
        },
        {
          "output_type": "display_data",
          "data": {
            "image/png": "[encoded data removed]",
            "text/plain": [
              "<Figure size 432x288 with 1 Axes>"
            ]
          },
          "metadata": {
            "tags": [],
            "needs_background": "light"
          }
        }
      ]
    },
    {
      "cell_type": "code",
      "metadata": {
        "colab_type": "code",
        "id": "83Sbyw3GQai4",
        "colab": {
          "base_uri": "https://localhost:8080/",
          "height": 1000
        },
        "outputId": "a093bb21-0c92-40cb-d01f-63d437330f83"
      },
      "source": [
        "# to check the data distribution in numerical values\n",
        "for i in df_numeric.columns:\n",
        "  print(i)\n",
        "  sns.boxplot(df_numeric[i])\n",
        "  plt.show()"
      ],
      "execution_count": null,
      "outputs": [
        {
          "output_type": "stream",
          "text": [
            "ID\n"
          ],
          "name": "stdout"
        },
        {
          "output_type": "display_data",
          "data": {
            "image/png": "[encoded data removed]",
            "text/plain": [
              "<Figure size 432x288 with 1 Axes>"
            ]
          },
          "metadata": {
            "tags": [],
            "needs_background": "light"
          }
        },
        {
          "output_type": "stream",
          "text": [
            "Duration\n"
          ],
          "name": "stdout"
        },
        {
          "output_type": "display_data",
          "data": {
            "image/png": "[encoded data removed]",
            "text/plain": [
              "<Figure size 432x288 with 1 Axes>"
            ]
          },
          "metadata": {
            "tags": [],
            "needs_background": "light"
          }
        },
        {
          "output_type": "stream",
          "text": [
            "Net Sales\n"
          ],
          "name": "stdout"
        },
        {
          "output_type": "display_data",
          "data": {
            "image/png": "[encoded data removed]",
            "text/plain": [
              "<Figure size 432x288 with 1 Axes>"
            ]
          },
          "metadata": {
            "tags": [],
            "needs_background": "light"
          }
        },
        {
          "output_type": "stream",
          "text": [
            "Commision (in value)\n"
          ],
          "name": "stdout"
        },
        {
          "output_type": "display_data",
          "data": {
            "image/png": "[encoded data removed]",
            "text/plain": [
              "<Figure size 432x288 with 1 Axes>"
            ]
          },
          "metadata": {
            "tags": [],
            "needs_background": "light"
          }
        },
        {
          "output_type": "stream",
          "text": [
            "Age\n"
          ],
          "name": "stdout"
        },
        {
          "output_type": "display_data",
          "data": {
            "image/png": "[encoded data removed]",
            "text/plain": [
              "<Figure size 432x288 with 1 Axes>"
            ]
          },
          "metadata": {
            "tags": [],
            "needs_background": "light"
          }
        },
        {
          "output_type": "stream",
          "text": [
            "Claim\n"
          ],
          "name": "stdout"
        },
        {
          "output_type": "display_data",
          "data": {
            "image/png": "[encoded data removed]",
            "text/plain": [
              "<Figure size 432x288 with 1 Axes>"
            ]
          },
          "metadata": {
            "tags": [],
            "needs_background": "light"
          }
        }
      ]
    },
    {
      "cell_type": "code",
      "metadata": {
        "colab_type": "code",
        "id": "HxfSgAKKRkih",
        "colab": {
          "base_uri": "https://localhost:8080/",
          "height": 720
        },
        "outputId": "1876aeee-951e-461f-b395-2f72aef7759e"
      },
      "source": [
        "# Finding the relations between the variables.\n",
        "plt.figure(figsize=(20,10))\n",
        "c= train.corr()\n",
        "sns.heatmap(c,cmap=\"BrBG\",annot=True)\n",
        "c"
      ],
      "execution_count": null,
      "outputs": [
        {
          "output_type": "execute_result",
          "data": {
            "text/html": [
              "<div>\n",
              "<style scoped>\n",
              "    .dataframe tbody tr th:only-of-type {\n",
              "        vertical-align: middle;\n",
              "    }\n",
              "\n",
              "    .dataframe tbody tr th {\n",
              "        vertical-align: top;\n",
              "    }\n",
              "\n",
              "    .dataframe thead th {\n",
              "        text-align: right;\n",
              "    }\n",
              "</style>\n",
              "<table border=\"1\" class=\"dataframe\">\n",
              "  <thead>\n",
              "    <tr style=\"text-align: right;\">\n",
              "      <th></th>\n",
              "      <th>ID</th>\n",
              "      <th>Duration</th>\n",
              "      <th>Net Sales</th>\n",
              "      <th>Commision (in value)</th>\n",
              "      <th>Age</th>\n",
              "      <th>Claim</th>\n",
              "    </tr>\n",
              "  </thead>\n",
              "  <tbody>\n",
              "    <tr>\n",
              "      <th>ID</th>\n",
              "      <td>1.000000</td>\n",
              "      <td>0.000355</td>\n",
              "      <td>0.004268</td>\n",
              "      <td>0.004822</td>\n",
              "      <td>-0.003083</td>\n",
              "      <td>0.006393</td>\n",
              "    </tr>\n",
              "    <tr>\n",
              "      <th>Duration</th>\n",
              "      <td>0.000355</td>\n",
              "      <td>1.000000</td>\n",
              "      <td>0.595261</td>\n",
              "      <td>0.483148</td>\n",
              "      <td>-0.003969</td>\n",
              "      <td>0.201583</td>\n",
              "    </tr>\n",
              "    <tr>\n",
              "      <th>Net Sales</th>\n",
              "      <td>0.004268</td>\n",
              "      <td>0.595261</td>\n",
              "      <td>1.000000</td>\n",
              "      <td>0.733110</td>\n",
              "      <td>0.022606</td>\n",
              "      <td>0.326799</td>\n",
              "    </tr>\n",
              "    <tr>\n",
              "      <th>Commision (in value)</th>\n",
              "      <td>0.004822</td>\n",
              "      <td>0.483148</td>\n",
              "      <td>0.733110</td>\n",
              "      <td>1.000000</td>\n",
              "      <td>0.087455</td>\n",
              "      <td>0.258688</td>\n",
              "    </tr>\n",
              "    <tr>\n",
              "      <th>Age</th>\n",
              "      <td>-0.003083</td>\n",
              "      <td>-0.003969</td>\n",
              "      <td>0.022606</td>\n",
              "      <td>0.087455</td>\n",
              "      <td>1.000000</td>\n",
              "      <td>-0.060228</td>\n",
              "    </tr>\n",
              "    <tr>\n",
              "      <th>Claim</th>\n",
              "      <td>0.006393</td>\n",
              "      <td>0.201583</td>\n",
              "      <td>0.326799</td>\n",
              "      <td>0.258688</td>\n",
              "      <td>-0.060228</td>\n",
              "      <td>1.000000</td>\n",
              "    </tr>\n",
              "  </tbody>\n",
              "</table>\n",
              "</div>"
            ],
            "text/plain": [
              "                            ID  Duration  ...       Age     Claim\n",
              "ID                    1.000000  0.000355  ... -0.003083  0.006393\n",
              "Duration              0.000355  1.000000  ... -0.003969  0.201583\n",
              "Net Sales             0.004268  0.595261  ...  0.022606  0.326799\n",
              "Commision (in value)  0.004822  0.483148  ...  0.087455  0.258688\n",
              "Age                  -0.003083 -0.003969  ...  1.000000 -0.060228\n",
              "Claim                 0.006393  0.201583  ... -0.060228  1.000000\n",
              "\n",
              "[6 rows x 6 columns]"
            ]
          },
          "metadata": {
            "tags": []
          },
          "execution_count": 14
        },
        {
          "output_type": "display_data",
          "data": {
            "image/png": "[encoded data removed]",
            "text/plain": [
              "<Figure size 1440x720 with 2 Axes>"
            ]
          },
          "metadata": {
            "tags": [],
            "needs_background": "light"
          }
        }
      ]
    },
    {
      "cell_type": "code",
      "metadata": {
        "colab_type": "code",
        "id": "W3OMEMReWZWM",
        "colab": {
          "base_uri": "https://localhost:8080/",
          "height": 1000
        },
        "outputId": "620bdbc7-61cf-4bbb-e1b8-86f6aae90f03"
      },
      "source": [
        "for column in test.columns:\n",
        "  print(\"Column name is \",column)\n",
        "  print(test[column].sort_values().unique())\n",
        "  print(len(test[column].unique()))\n",
        "  print(\"****************************************************************************************************\")"
      ],
      "execution_count": null,
      "outputs": [
        {
          "output_type": "stream",
          "text": [
            "Column name is  ID\n",
            "[11000 11001 11002 ... 19998 19999 20000]\n",
            "8226\n",
            "****************************************************************************************************\n",
            "Column name is  Agency\n",
            "['ADM' 'ART' 'C2B' 'CBH' 'CCR' 'CSR' 'CWT' 'EPX' 'JWT' 'JZI' 'KML' 'LWC'\n",
            " 'RAB' 'SSI' 'TST' 'TTW']\n",
            "16\n",
            "****************************************************************************************************\n",
            "Column name is  Agency Type\n",
            "['Airlines' 'Travel Agency']\n",
            "2\n",
            "****************************************************************************************************\n",
            "Column name is  Distribution Channel\n",
            "['Offline' 'Online']\n",
            "2\n",
            "****************************************************************************************************\n",
            "Column name is  Product Name\n",
            "['1 way Comprehensive Plan' '2 way Comprehensive Plan' '24 Protect'\n",
            " 'Annual Gold Plan' 'Annual Silver Plan' 'Annual Travel Protect Gold'\n",
            " 'Annual Travel Protect Platinum' 'Annual Travel Protect Silver'\n",
            " 'Basic Plan' 'Bronze Plan' 'Cancellation Plan' 'Child Comprehensive Plan'\n",
            " 'Comprehensive Plan' 'Gold Plan' 'Individual Comprehensive Plan'\n",
            " 'Premier Plan' 'Rental Vehicle Excess Insurance' 'Silver Plan'\n",
            " 'Single Trip Travel Protect Gold' 'Single Trip Travel Protect Platinum'\n",
            " 'Single Trip Travel Protect Silver'\n",
            " 'Spouse or Parents Comprehensive Plan' 'Ticket Protector'\n",
            " 'Travel Cruise Protect' 'Value Plan']\n",
            "25\n",
            "****************************************************************************************************\n",
            "Column name is  Duration\n",
            "[  -1    0    1    2    3    4    5    6    7    8    9   10   11   12\n",
            "   13   14   15   16   17   18   19   20   21   22   23   24   25   26\n",
            "   27   28   29   30   31   32   33   34   35   36   37   38   39   40\n",
            "   41   42   43   44   45   46   47   48   49   50   51   52   53   54\n",
            "   55   56   57   58   59   60   61   62   63   64   65   66   67   68\n",
            "   69   70   71   72   73   74   75   76   77   78   79   80   81   82\n",
            "   83   84   85   86   87   88   89   90   91   92   93   94   95   96\n",
            "   97   98   99  100  101  102  103  104  105  106  107  108  109  110\n",
            "  111  112  113  114  115  116  117  118  119  120  121  122  123  124\n",
            "  125  126  127  128  129  130  131  132  133  134  135  136  137  138\n",
            "  139  140  141  142  143  144  145  146  147  148  149  150  151  152\n",
            "  153  154  155  156  157  158  159  160  161  162  163  164  165  166\n",
            "  167  168  169  170  171  172  173  174  175  176  177  178  179  180\n",
            "  181  182  183  184  185  186  187  188  189  190  191  192  193  194\n",
            "  195  196  197  198  199  200  201  202  203  204  205  206  207  208\n",
            "  209  210  211  212  213  214  215  216  217  218  219  220  221  222\n",
            "  223  224  225  226  227  228  229  230  231  232  233  234  235  236\n",
            "  237  238  239  241  242  243  244  245  246  247  248  249  250  251\n",
            "  252  253  254  255  257  258  259  260  261  262  263  264  265  266\n",
            "  267  268  269  270  273  274  275  276  277  278  279  280  281  282\n",
            "  283  284  286  288  289  291  292  293  294  295  296  299  300  302\n",
            "  303  305  307  309  310  311  312  313  314  315  316  317  318  319\n",
            "  321  322  325  326  328  329  330  332  334  351  361  364  365  366\n",
            "  367  368  369  370  371  372  373  374  375  376  377  378  379  380\n",
            "  381  382  383  384  385  386  387  388  389  390  391  392  393  394\n",
            "  395  396  397  398  399  400  401  402  403  404  405  406  408  409\n",
            "  410  411  412  413  414  415  416  417  418  419  420  421  425  426\n",
            "  427  428  431  435  437  448  461  463  466  472  478  512  519  529\n",
            " 4652 4685 4738 4829 4857]\n",
            "397\n",
            "****************************************************************************************************\n",
            "Column name is  Destination\n",
            "['ARGENTINA' 'AUSTRALIA' 'AUSTRIA' 'AZERBAIJAN' 'BAHRAIN' 'BANGLADESH'\n",
            " 'BELARUS' 'BELGIUM' 'BERMUDA' 'BHUTAN' 'BOLIVIA' 'BRAZIL'\n",
            " 'BRUNEI DARUSSALAM' 'CAMBODIA' 'CANADA' 'CHILE' 'CHINA' 'COLOMBIA'\n",
            " 'COSTA RICA' 'CROATIA' 'CYPRUS' 'CZECH REPUBLIC' 'DENMARK' 'EGYPT'\n",
            " 'ESTONIA' 'ETHIOPIA' 'FIJI' 'FINLAND' 'FRANCE' 'GEORGIA' 'GERMANY'\n",
            " 'GREECE' 'GUAM' 'HONG KONG' 'HUNGARY' 'ICELAND' 'INDIA' 'INDONESIA'\n",
            " 'IRELAND' 'ISRAEL' 'ITALY' 'JAPAN' 'JORDAN' 'KAZAKHSTAN' 'KENYA'\n",
            " 'KOREA, REPUBLIC OF' 'KUWAIT' 'KYRGYZSTAN'\n",
            " \"LAO PEOPLE'S DEMOCRATIC REPUBLIC\" 'LEBANON' 'LITHUANIA' 'LUXEMBOURG'\n",
            " 'MACAO' 'MALAYSIA' 'MALDIVES' 'MALTA' 'MAURITIUS' 'MEXICO' 'MONGOLIA'\n",
            " 'MOROCCO' 'MYANMAR' 'NEPAL' 'NETHERLANDS' 'NEW ZEALAND' 'NORWAY' 'OMAN'\n",
            " 'PAKISTAN' 'PERU' 'PHILIPPINES' 'POLAND' 'PORTUGAL' 'QATAR' 'ROMANIA'\n",
            " 'RUSSIAN FEDERATION' 'SAUDI ARABIA' 'SINGAPORE' 'SLOVENIA' 'SOUTH AFRICA'\n",
            " 'SPAIN' 'SRI LANKA' 'SWEDEN' 'SWITZERLAND' 'TAIWAN, PROVINCE OF CHINA'\n",
            " 'TANZANIA, UNITED REPUBLIC OF' 'THAILAND' 'TUNISIA' 'TURKEY'\n",
            " 'TURKMENISTAN' 'UKRAINE' 'UNITED ARAB EMIRATES' 'UNITED KINGDOM'\n",
            " 'UNITED STATES' 'UZBEKISTAN' 'VANUATU' 'VENEZUELA' 'VIET NAM' 'ZAMBIA']\n",
            "97\n",
            "****************************************************************************************************\n",
            "Column name is  Net Sales\n",
            "[-297.  -289.  -259.2 ...  507.   599.   810. ]\n",
            "3082\n",
            "****************************************************************************************************\n",
            "Column name is  Commision (in value)\n",
            "[0.0000e+00 2.0000e-02 5.0000e-02 ... 2.1021e+02 2.6276e+02 2.8350e+02]\n",
            "2459\n",
            "****************************************************************************************************\n",
            "Column name is  Age\n",
            "[  1   3   7   8   9  11  12  13  14  15  16  17  18  19  20  21  22  23\n",
            "  24  25  26  27  28  29  30  31  32  33  34  35  36  37  38  39  40  41\n",
            "  42  43  44  45  46  47  48  49  50  51  52  53  54  55  56  57  58  59\n",
            "  60  61  62  63  64  65  66  67  68  69  70  71  72  73  74  75  76  77\n",
            "  78  79  80  81  82  83  84  85  87  91  94 112 118]\n",
            "85\n",
            "****************************************************************************************************\n"
          ],
          "name": "stdout"
        }
      ]
    },
    {
      "cell_type": "code",
      "metadata": {
        "id": "f676JnojOdTl",
        "colab_type": "code",
        "colab": {}
      },
      "source": [
        "!pip install https://github.com/pandas-profiling/pandas-profiling/archive/master.zip"
      ],
      "execution_count": null,
      "outputs": []
    },
    {
      "cell_type": "code",
      "metadata": {
        "colab_type": "code",
        "id": "ynZXUW1w2sCq",
        "colab": {
          "base_uri": "https://localhost:8080/",
          "height": 213,
          "referenced_widgets": [
            "8110f5382d22472cb023b8afd609e9aa",
            "21a4cb83d4074c04a3d26ec26858d2d4",
            "88ba42d943f0431894a7b00de629fbd0",
            "4eade550c6c34f2192ec3c5c08f2642e",
            "43a77ac5cb0a4a2da3fa432718dd1385",
            "a70969b9a3bb46afa87fa6d424e369f9",
            "2ebcb6dc99224921b302878b525ddc8e",
            "9b5a27ba1e66440f922e904aac84a6e2",
            "a0b33b22b38340adb3f99061e2d45fc1",
            "784573f0cf3444639a79909f8c17d1b6",
            "356d89f5a58049fead5bf691fe841cda",
            "04e77dc6c9e445bfb67f3d364e99d24d",
            "8542f303661c49c88f65108fd10844b3",
            "94b3814189264f7394230f177c8b98f7",
            "e39ab51189c64bc7ae66a78bd36ca0de",
            "5f66b6d4a4d04ad49091f782f0da9366",
            "a5e4bcfcfbfa442b8b8942b86d669b7a",
            "f68c1280f30b44e7ab206bd8caa70783",
            "d618808dda884039befc2676321bc4b4",
            "686b5b13002f4387992ba178ee3a8fe3",
            "c126535439754426a8a6bbb7ee9c2af5",
            "ab0d713ee08044b1adae13d5ac1ed27e",
            "d90d4866be49450695ec0da19e81e587",
            "1a08ca63c0bc441d8398a835dd90b17d",
            "ef78d80bfdfb4c8ab45cfa20f66c022d",
            "7e007eab06be4c8b9430658b960bdc6f",
            "dd671d7f043e42c9b2c1eadd61ff60bd",
            "05cb77a6745c4fd0b35e67691a99e802",
            "02aa3d7b4995484dbf7f5d5b784b5412",
            "27d946b94b0e4cd193a0a4062f0ff29f",
            "b1f4e45b29454b50bbf74e172f7e2aad",
            "01e3e6d9baa5446ab94c96c51845717a"
          ]
        },
        "outputId": "33f1b772-05ce-4100-cb1f-440b5cd191a7"
      },
      "source": [
        "import pandas_profiling as pp \n",
        "# forming ProfileReport and save \n",
        "# as output.html file \n",
        "profile = pp.ProfileReport(train) \n",
        "profile.to_file(\"output.html\")"
      ],
      "execution_count": null,
      "outputs": [
        {
          "output_type": "display_data",
          "data": {
            "application/vnd.jupyter.widget-view+json": {
              "model_id": "8110f5382d22472cb023b8afd609e9aa",
              "version_minor": 0,
              "version_major": 2
            },
            "text/plain": [
              "HBox(children=(FloatProgress(value=0.0, description='Summarize dataset', max=25.0, style=ProgressStyle(descrip…"
            ]
          },
          "metadata": {
            "tags": []
          }
        },
        {
          "output_type": "stream",
          "text": [
            "\n"
          ],
          "name": "stdout"
        },
        {
          "output_type": "display_data",
          "data": {
            "application/vnd.jupyter.widget-view+json": {
              "model_id": "a0b33b22b38340adb3f99061e2d45fc1",
              "version_minor": 0,
              "version_major": 2
            },
            "text/plain": [
              "HBox(children=(FloatProgress(value=0.0, description='Generate report structure', max=1.0, style=ProgressStyle(…"
            ]
          },
          "metadata": {
            "tags": []
          }
        },
        {
          "output_type": "stream",
          "text": [
            "\n"
          ],
          "name": "stdout"
        },
        {
          "output_type": "display_data",
          "data": {
            "application/vnd.jupyter.widget-view+json": {
              "model_id": "a5e4bcfcfbfa442b8b8942b86d669b7a",
              "version_minor": 0,
              "version_major": 2
            },
            "text/plain": [
              "HBox(children=(FloatProgress(value=0.0, description='Render HTML', max=1.0, style=ProgressStyle(description_wi…"
            ]
          },
          "metadata": {
            "tags": []
          }
        },
        {
          "output_type": "stream",
          "text": [
            "\n"
          ],
          "name": "stdout"
        },
        {
          "output_type": "display_data",
          "data": {
            "application/vnd.jupyter.widget-view+json": {
              "model_id": "ef78d80bfdfb4c8ab45cfa20f66c022d",
              "version_minor": 0,
              "version_major": 2
            },
            "text/plain": [
              "HBox(children=(FloatProgress(value=0.0, description='Export report to file', max=1.0, style=ProgressStyle(desc…"
            ]
          },
          "metadata": {
            "tags": []
          }
        },
        {
          "output_type": "stream",
          "text": [
            "\n"
          ],
          "name": "stdout"
        }
      ]
    },
    {
      "cell_type": "code",
      "metadata": {
        "id": "Nft54EcPQIdy",
        "colab_type": "code",
        "colab": {
          "base_uri": "https://localhost:8080/",
          "height": 479
        },
        "outputId": "2505770d-f8b3-42b2-a146-068257de1263"
      },
      "source": [
        "pip install sweetviz"
      ],
      "execution_count": null,
      "outputs": [
        {
          "output_type": "stream",
          "text": [
            "Collecting sweetviz\n",
            "\u001b[?25l  Downloading https://files.pythonhosted.org/packages/87/8a/a4025101bfc8141e3d9f2fd68b3861183dd165ee632af6bf4d9308c89229/sweetviz-1.0b6-py3-none-any.whl (325kB)\n",
            "\u001b[K     |████████████████████████████████| 327kB 2.8MB/s \n",
            "\u001b[?25hCollecting tqdm>=4.43.0\n",
            "\u001b[?25l  Downloading https://files.pythonhosted.org/packages/28/7e/281edb5bc3274dfb894d90f4dbacfceaca381c2435ec6187a2c6f329aed7/tqdm-4.48.2-py2.py3-none-any.whl (68kB)\n",
            "\u001b[K     |████████████████████████████████| 71kB 5.9MB/s \n",
            "\u001b[?25hCollecting importlib-resources>=1.2.0\n",
            "  Downloading https://files.pythonhosted.org/packages/ba/03/0f9595c0c2ef12590877f3c47e5f579759ce5caf817f8256d5dcbd8a1177/importlib_resources-3.0.0-py2.py3-none-any.whl\n",
            "Requirement already satisfied: numpy>=1.16.0 in /usr/local/lib/python3.6/dist-packages (from sweetviz) (1.18.5)\n",
            "Requirement already satisfied: jinja2>=2.11.1 in /usr/local/lib/python3.6/dist-packages (from sweetviz) (2.11.2)\n",
            "Requirement already satisfied: pandas!=1.0.0,!=1.0.1,!=1.0.2,>=0.25.3 in /usr/local/lib/python3.6/dist-packages (from sweetviz) (1.0.5)\n",
            "Requirement already satisfied: scipy>=1.3.2 in /usr/local/lib/python3.6/dist-packages (from sweetviz) (1.4.1)\n",
            "Requirement already satisfied: matplotlib>=3.1.3 in /usr/local/lib/python3.6/dist-packages (from sweetviz) (3.2.2)\n",
            "Requirement already satisfied: zipp>=0.4; python_version < \"3.8\" in /usr/local/lib/python3.6/dist-packages (from importlib-resources>=1.2.0->sweetviz) (3.1.0)\n",
            "Requirement already satisfied: MarkupSafe>=0.23 in /usr/local/lib/python3.6/dist-packages (from jinja2>=2.11.1->sweetviz) (1.1.1)\n",
            "Requirement already satisfied: pytz>=2017.2 in /usr/local/lib/python3.6/dist-packages (from pandas!=1.0.0,!=1.0.1,!=1.0.2,>=0.25.3->sweetviz) (2018.9)\n",
            "Requirement already satisfied: python-dateutil>=2.6.1 in /usr/local/lib/python3.6/dist-packages (from pandas!=1.0.0,!=1.0.1,!=1.0.2,>=0.25.3->sweetviz) (2.8.1)\n",
            "Requirement already satisfied: kiwisolver>=1.0.1 in /usr/local/lib/python3.6/dist-packages (from matplotlib>=3.1.3->sweetviz) (1.2.0)\n",
            "Requirement already satisfied: cycler>=0.10 in /usr/local/lib/python3.6/dist-packages (from matplotlib>=3.1.3->sweetviz) (0.10.0)\n",
            "Requirement already satisfied: pyparsing!=2.0.4,!=2.1.2,!=2.1.6,>=2.0.1 in /usr/local/lib/python3.6/dist-packages (from matplotlib>=3.1.3->sweetviz) (2.4.7)\n",
            "Requirement already satisfied: six>=1.5 in /usr/local/lib/python3.6/dist-packages (from python-dateutil>=2.6.1->pandas!=1.0.0,!=1.0.1,!=1.0.2,>=0.25.3->sweetviz) (1.15.0)\n",
            "Installing collected packages: tqdm, importlib-resources, sweetviz\n",
            "  Found existing installation: tqdm 4.41.1\n",
            "    Uninstalling tqdm-4.41.1:\n",
            "      Successfully uninstalled tqdm-4.41.1\n",
            "Successfully installed importlib-resources-3.0.0 sweetviz-1.0b6 tqdm-4.48.2\n"
          ],
          "name": "stdout"
        }
      ]
    },
    {
      "cell_type": "code",
      "metadata": {
        "colab_type": "code",
        "id": "nvMDjgEX_gBR",
        "colab": {
          "base_uri": "https://localhost:8080/",
          "height": 105
        },
        "outputId": "0b05dbdf-d47d-4a3c-98c7-fb6d3712a59f"
      },
      "source": [
        "# importing sweetviz\n",
        "import sweetviz as sv\n",
        "#analyzing the dataset\n",
        "advert_report = sv.analyze(train)\n",
        "#display the report\n",
        "advert_report.show_html('Advertising.html')"
      ],
      "execution_count": null,
      "outputs": [
        {
          "output_type": "stream",
          "text": [
            ":FEATURES DONE:                    |█████████████████████| [100%]   00:04  -> (00:00 left)\n",
            ":PAIRWISE DONE:                    |█████████████████████| [100%]   00:02  -> (00:00 left)\n"
          ],
          "name": "stderr"
        },
        {
          "output_type": "stream",
          "text": [
            "Creating Associations graph... DONE!\n",
            "Report Advertising.html was generated! NOTEBOOK/COLAB USERS: no browser will pop up, the report is saved in your notebook/colab files.\n"
          ],
          "name": "stdout"
        }
      ]
    },
    {
      "cell_type": "code",
      "metadata": {
        "colab_type": "code",
        "id": "fUCQRG677xTR",
        "colab": {
          "base_uri": "https://localhost:8080/",
          "height": 309
        },
        "outputId": "838fb0da-c212-4515-e92d-7c88a91ba4a8"
      },
      "source": [
        "!pip install pycountry_convert"
      ],
      "execution_count": null,
      "outputs": [
        {
          "output_type": "stream",
          "text": [
            "Requirement already satisfied: pycountry_convert in /usr/local/lib/python3.6/dist-packages (0.7.2)\n",
            "Requirement already satisfied: wheel>=0.30.0 in /usr/local/lib/python3.6/dist-packages (from pycountry_convert) (0.35.1)\n",
            "Requirement already satisfied: pycountry>=16.11.27.1 in /usr/local/lib/python3.6/dist-packages (from pycountry_convert) (20.7.3)\n",
            "Requirement already satisfied: pprintpp>=0.3.0 in /usr/local/lib/python3.6/dist-packages (from pycountry_convert) (0.4.0)\n",
            "Requirement already satisfied: pytest-cov>=2.5.1 in /usr/local/lib/python3.6/dist-packages (from pycountry_convert) (2.10.1)\n",
            "Requirement already satisfied: pytest-mock>=1.6.3 in /usr/local/lib/python3.6/dist-packages (from pycountry_convert) (3.3.1)\n",
            "Requirement already satisfied: repoze.lru>=0.7 in /usr/local/lib/python3.6/dist-packages (from pycountry_convert) (0.7)\n",
            "Requirement already satisfied: pytest>=3.4.0 in /usr/local/lib/python3.6/dist-packages (from pycountry_convert) (3.6.4)\n",
            "Requirement already satisfied: coverage>=4.4 in /usr/local/lib/python3.6/dist-packages (from pytest-cov>=2.5.1->pycountry_convert) (5.2.1)\n",
            "Requirement already satisfied: pluggy<0.8,>=0.5 in /usr/local/lib/python3.6/dist-packages (from pytest>=3.4.0->pycountry_convert) (0.7.1)\n",
            "Requirement already satisfied: atomicwrites>=1.0 in /usr/local/lib/python3.6/dist-packages (from pytest>=3.4.0->pycountry_convert) (1.4.0)\n",
            "Requirement already satisfied: setuptools in /usr/local/lib/python3.6/dist-packages (from pytest>=3.4.0->pycountry_convert) (49.6.0)\n",
            "Requirement already satisfied: py>=1.5.0 in /usr/local/lib/python3.6/dist-packages (from pytest>=3.4.0->pycountry_convert) (1.9.0)\n",
            "Requirement already satisfied: more-itertools>=4.0.0 in /usr/local/lib/python3.6/dist-packages (from pytest>=3.4.0->pycountry_convert) (8.4.0)\n",
            "Requirement already satisfied: six>=1.10.0 in /usr/local/lib/python3.6/dist-packages (from pytest>=3.4.0->pycountry_convert) (1.15.0)\n",
            "Requirement already satisfied: attrs>=17.4.0 in /usr/local/lib/python3.6/dist-packages (from pytest>=3.4.0->pycountry_convert) (20.1.0)\n"
          ],
          "name": "stdout"
        }
      ]
    },
    {
      "cell_type": "code",
      "metadata": {
        "colab_type": "code",
        "id": "FYIiF8zw_pF3",
        "colab": {
          "base_uri": "https://localhost:8080/",
          "height": 105
        },
        "outputId": "38bdcd25-2502-436c-8068-c8fc3b63541f"
      },
      "source": [
        "df1 = sv.compare(train[100:], train[:100])\n",
        "df1.show_html('Compare.html')"
      ],
      "execution_count": null,
      "outputs": [
        {
          "output_type": "stream",
          "text": [
            ":FEATURES DONE:                    |█████████████████████| [100%]   00:05  -> (00:00 left)\n",
            ":PAIRWISE DONE:                    |█████████████████████| [100%]   00:02  -> (00:00 left)\n"
          ],
          "name": "stderr"
        },
        {
          "output_type": "stream",
          "text": [
            "Creating Associations graph... DONE!\n",
            "Report Compare.html was generated! NOTEBOOK/COLAB USERS: no browser will pop up, the report is saved in your notebook/colab files.\n"
          ],
          "name": "stdout"
        }
      ]
    },
    {
      "cell_type": "code",
      "metadata": {
        "id": "R0gjX9mz8QLo",
        "colab_type": "code",
        "colab": {}
      },
      "source": [
        "import pandas_profiling\n",
        "pandas_profiling.ProfileReport(train)"
      ],
      "execution_count": null,
      "outputs": []
    },
    {
      "cell_type": "code",
      "metadata": {
        "id": "0MT_6bSa-KxU",
        "colab_type": "code",
        "colab": {
          "base_uri": "https://localhost:8080/",
          "height": 309
        },
        "outputId": "9127fa98-f6e7-498c-9766-d32b36b1e447"
      },
      "source": [
        "!pip install pycountry_convert"
      ],
      "execution_count": null,
      "outputs": [
        {
          "output_type": "stream",
          "text": [
            "Requirement already satisfied: pycountry_convert in /usr/local/lib/python3.6/dist-packages (0.7.2)\n",
            "Requirement already satisfied: pprintpp>=0.3.0 in /usr/local/lib/python3.6/dist-packages (from pycountry_convert) (0.4.0)\n",
            "Requirement already satisfied: pytest-cov>=2.5.1 in /usr/local/lib/python3.6/dist-packages (from pycountry_convert) (2.10.1)\n",
            "Requirement already satisfied: pytest>=3.4.0 in /usr/local/lib/python3.6/dist-packages (from pycountry_convert) (3.6.4)\n",
            "Requirement already satisfied: repoze.lru>=0.7 in /usr/local/lib/python3.6/dist-packages (from pycountry_convert) (0.7)\n",
            "Requirement already satisfied: wheel>=0.30.0 in /usr/local/lib/python3.6/dist-packages (from pycountry_convert) (0.35.1)\n",
            "Requirement already satisfied: pytest-mock>=1.6.3 in /usr/local/lib/python3.6/dist-packages (from pycountry_convert) (3.3.1)\n",
            "Requirement already satisfied: pycountry>=16.11.27.1 in /usr/local/lib/python3.6/dist-packages (from pycountry_convert) (20.7.3)\n",
            "Requirement already satisfied: coverage>=4.4 in /usr/local/lib/python3.6/dist-packages (from pytest-cov>=2.5.1->pycountry_convert) (5.2.1)\n",
            "Requirement already satisfied: more-itertools>=4.0.0 in /usr/local/lib/python3.6/dist-packages (from pytest>=3.4.0->pycountry_convert) (8.4.0)\n",
            "Requirement already satisfied: setuptools in /usr/local/lib/python3.6/dist-packages (from pytest>=3.4.0->pycountry_convert) (49.6.0)\n",
            "Requirement already satisfied: py>=1.5.0 in /usr/local/lib/python3.6/dist-packages (from pytest>=3.4.0->pycountry_convert) (1.9.0)\n",
            "Requirement already satisfied: attrs>=17.4.0 in /usr/local/lib/python3.6/dist-packages (from pytest>=3.4.0->pycountry_convert) (20.1.0)\n",
            "Requirement already satisfied: atomicwrites>=1.0 in /usr/local/lib/python3.6/dist-packages (from pytest>=3.4.0->pycountry_convert) (1.4.0)\n",
            "Requirement already satisfied: six>=1.10.0 in /usr/local/lib/python3.6/dist-packages (from pytest>=3.4.0->pycountry_convert) (1.15.0)\n",
            "Requirement already satisfied: pluggy<0.8,>=0.5 in /usr/local/lib/python3.6/dist-packages (from pytest>=3.4.0->pycountry_convert) (0.7.1)\n"
          ],
          "name": "stdout"
        }
      ]
    },
    {
      "cell_type": "markdown",
      "metadata": {
        "id": "YEU_S-Bi8QLv",
        "colab_type": "text"
      },
      "source": [
        "## to convert contries to continent"
      ]
    },
    {
      "cell_type": "code",
      "metadata": {
        "colab_type": "code",
        "id": "rLLWn9Ic1ChC",
        "colab": {}
      },
      "source": [
        "import pycountry_convert as pc\n",
        "import re\n",
        "\n",
        "def contry_to_continent(name):\n",
        "    country_code = pc.country_name_to_country_alpha2(name, cn_name_format=\"default\")\n",
        "    return pc.country_alpha2_to_continent_code(country_code)\n",
        "\n",
        "def snake_to_camel(word):\n",
        "    return ' '.join(x.capitalize() or ' ' for x in word.split(' '))\n"
      ],
      "execution_count": null,
      "outputs": []
    },
    {
      "cell_type": "code",
      "metadata": {
        "id": "87uddzjD8QL2",
        "colab_type": "code",
        "colab": {}
      },
      "source": [
        "train['Destination']=train['Destination'].str.partition(',')\n",
        "train['Destination']=train['Destination'].apply(lambda x: snake_to_camel(x))\n",
        "train['Destination'].replace(to_replace=\"Korea\",value=\"South Korea\",inplace=True)\n",
        "train['Destination_continent']=train['Destination'].apply(lambda x: contry_to_continent(x))"
      ],
      "execution_count": null,
      "outputs": []
    },
    {
      "cell_type": "code",
      "metadata": {
        "id": "BfQ2Scyb_eMZ",
        "colab_type": "code",
        "colab": {}
      },
      "source": [
        "test['Destination']=test['Destination'].str.partition(',')\n",
        "test['Destination']=test['Destination'].apply(lambda x: snake_to_camel(x))\n",
        "test['Destination'].replace(to_replace=\"Korea\",value=\"South Korea\",inplace=True)\n",
        "test['Destination_continent']=test['Destination'].apply(lambda x: contry_to_continent(x))"
      ],
      "execution_count": null,
      "outputs": []
    },
    {
      "cell_type": "code",
      "metadata": {
        "id": "oeGUzJ4w8QL8",
        "colab_type": "code",
        "colab": {
          "base_uri": "https://localhost:8080/",
          "height": 136
        },
        "outputId": "47222cb4-ff59-4a1c-8162-4a413f0402ec"
      },
      "source": [
        "train['Destination_continent'].value_counts(normalize=True)"
      ],
      "execution_count": null,
      "outputs": [
        {
          "output_type": "execute_result",
          "data": {
            "text/plain": [
              "AS    0.805142\n",
              "EU    0.072759\n",
              "OC    0.065227\n",
              "NA    0.050124\n",
              "AF    0.004263\n",
              "SA    0.002485\n",
              "Name: Destination_continent, dtype: float64"
            ]
          },
          "metadata": {
            "tags": []
          },
          "execution_count": 19
        }
      ]
    },
    {
      "cell_type": "code",
      "metadata": {
        "id": "H1AOlrE4HpPV",
        "colab_type": "code",
        "colab": {
          "base_uri": "https://localhost:8080/",
          "height": 136
        },
        "outputId": "d076b814-4ecc-4b19-d55d-c13899a9c5ff"
      },
      "source": [
        "test['Destination_continent'].value_counts(normalize=True)"
      ],
      "execution_count": null,
      "outputs": [
        {
          "output_type": "execute_result",
          "data": {
            "text/plain": [
              "AS    0.804514\n",
              "EU    0.074439\n",
              "OC    0.065028\n",
              "NA    0.048348\n",
              "AF    0.004862\n",
              "SA    0.002810\n",
              "Name: Destination_continent, dtype: float64"
            ]
          },
          "metadata": {
            "tags": []
          },
          "execution_count": 20
        }
      ]
    },
    {
      "cell_type": "code",
      "metadata": {
        "id": "3FATcjNC8QMB",
        "colab_type": "code",
        "colab": {
          "base_uri": "https://localhost:8080/",
          "height": 306
        },
        "outputId": "407d514b-da65-4c5c-be3f-184529280cfe"
      },
      "source": [
        "train['Agency'].value_counts(normalize=True)# We can make others in Agency name for less 1% data"
      ],
      "execution_count": null,
      "outputs": [
        {
          "output_type": "execute_result",
          "data": {
            "text/plain": [
              "EPX    0.501204\n",
              "C2B    0.202925\n",
              "CWT    0.130243\n",
              "JZI    0.088301\n",
              "LWC    0.015408\n",
              "SSI    0.014911\n",
              "JWT    0.010514\n",
              "RAB    0.010075\n",
              "TST    0.007532\n",
              "KML    0.005984\n",
              "ART    0.004263\n",
              "CCR    0.002982\n",
              "TTW    0.001988\n",
              "CBH    0.001453\n",
              "CSR    0.001147\n",
              "ADM    0.001071\n",
              "Name: Agency, dtype: float64"
            ]
          },
          "metadata": {
            "tags": []
          },
          "execution_count": 21
        }
      ]
    },
    {
      "cell_type": "code",
      "metadata": {
        "id": "MZOLf3zHHdwh",
        "colab_type": "code",
        "colab": {
          "base_uri": "https://localhost:8080/",
          "height": 306
        },
        "outputId": "678646a9-e3c5-4ccb-8253-7fa55854b0cc"
      },
      "source": [
        "test['Agency'].value_counts()# We can make others in Agency name for less 1% data"
      ],
      "execution_count": null,
      "outputs": [
        {
          "output_type": "execute_result",
          "data": {
            "text/plain": [
              "EPX    11260\n",
              "C2B     4538\n",
              "CWT     2879\n",
              "JZI     2032\n",
              "SSI      356\n",
              "LWC      330\n",
              "JWT      242\n",
              "RAB      198\n",
              "TST      161\n",
              "KML      143\n",
              "ART      105\n",
              "CCR       54\n",
              "TTW       46\n",
              "CSR       26\n",
              "ADM       26\n",
              "CBH       25\n",
              "Name: Agency, dtype: int64"
            ]
          },
          "metadata": {
            "tags": []
          },
          "execution_count": 22
        }
      ]
    },
    {
      "cell_type": "code",
      "metadata": {
        "id": "8q6hh7ZE8QMG",
        "colab_type": "code",
        "colab": {
          "base_uri": "https://localhost:8080/",
          "height": 187
        },
        "outputId": "f19236c6-feb0-48b2-9df5-698eb187bfeb"
      },
      "source": [
        "agency_list=train.groupby('Agency')['Agency'].agg('count').sort_values(ascending=False)\n",
        "top_agency=agency_list[agency_list>500]\n",
        "train['Agency']=train['Agency'].apply(lambda x: x if x in top_agency else 'OTHER')\n",
        "train['Agency'].value_counts(normalize=True)"
      ],
      "execution_count": null,
      "outputs": [
        {
          "output_type": "execute_result",
          "data": {
            "text/plain": [
              "EPX      0.501204\n",
              "C2B      0.202925\n",
              "CWT      0.130243\n",
              "JZI      0.088301\n",
              "OTHER    0.026419\n",
              "LWC      0.015408\n",
              "SSI      0.014911\n",
              "JWT      0.010514\n",
              "RAB      0.010075\n",
              "Name: Agency, dtype: float64"
            ]
          },
          "metadata": {
            "tags": []
          },
          "execution_count": 23
        }
      ]
    },
    {
      "cell_type": "code",
      "metadata": {
        "id": "-9Oln8vJ_p_o",
        "colab_type": "code",
        "colab": {
          "base_uri": "https://localhost:8080/",
          "height": 187
        },
        "outputId": "b07b2395-3c3a-49e5-b6fa-1817a68e32ea"
      },
      "source": [
        "agency_list=test.groupby('Agency')['Agency'].agg('count').sort_values(ascending=False)\n",
        "top_agency=agency_list[agency_list>190]\n",
        "test['Agency']=test['Agency'].apply(lambda x: x if x in top_agency else 'OTHER')\n",
        "test['Agency'].value_counts(normalize=True)"
      ],
      "execution_count": null,
      "outputs": [
        {
          "output_type": "execute_result",
          "data": {
            "text/plain": [
              "EPX      0.502208\n",
              "C2B      0.202400\n",
              "CWT      0.128406\n",
              "JZI      0.090629\n",
              "OTHER    0.026136\n",
              "SSI      0.015878\n",
              "LWC      0.014718\n",
              "JWT      0.010793\n",
              "RAB      0.008831\n",
              "Name: Agency, dtype: float64"
            ]
          },
          "metadata": {
            "tags": []
          },
          "execution_count": 24
        }
      ]
    },
    {
      "cell_type": "code",
      "metadata": {
        "id": "7mLlKLcu8QMM",
        "colab_type": "code",
        "colab": {
          "base_uri": "https://localhost:8080/",
          "height": 459
        },
        "outputId": "554dc00b-fd53-410f-d9c7-f9206b020357"
      },
      "source": [
        "train['Product Name'].value_counts(normalize=True)# We can make others in Agency name for less 1% data\n",
        "# check the plans relations"
      ],
      "execution_count": null,
      "outputs": [
        {
          "output_type": "execute_result",
          "data": {
            "text/plain": [
              "Cancellation Plan                       0.253374\n",
              "2 way Comprehensive Plan                0.201778\n",
              "Rental Vehicle Excess Insurance         0.130243\n",
              "Bronze Plan                             0.090289\n",
              "Basic Plan                              0.077270\n",
              "Silver Plan                             0.054712\n",
              "1 way Comprehensive Plan                0.046052\n",
              "Annual Silver Plan                      0.044886\n",
              "Value Plan                              0.037488\n",
              "Ticket Protector                        0.014911\n",
              "Travel Cruise Protect                   0.007532\n",
              "Gold Plan                               0.007264\n",
              "Annual Gold Plan                        0.005639\n",
              "Comprehensive Plan                      0.005314\n",
              "Single Trip Travel Protect Gold         0.004798\n",
              "Annual Travel Protect Gold              0.003498\n",
              "24 Protect                              0.003154\n",
              "Premier Plan                            0.002695\n",
              "Single Trip Travel Protect Silver       0.002485\n",
              "Single Trip Travel Protect Platinum     0.001912\n",
              "Annual Travel Protect Silver            0.001759\n",
              "Individual Comprehensive Plan           0.001606\n",
              "Annual Travel Protect Platinum          0.000956\n",
              "Spouse or Parents Comprehensive Plan    0.000229\n",
              "Child Comprehensive Plan                0.000153\n",
              "Name: Product Name, dtype: float64"
            ]
          },
          "metadata": {
            "tags": []
          },
          "execution_count": 25
        }
      ]
    },
    {
      "cell_type": "code",
      "metadata": {
        "id": "zrPQfycsIfL5",
        "colab_type": "code",
        "colab": {
          "base_uri": "https://localhost:8080/",
          "height": 459
        },
        "outputId": "09bfa701-4e44-46f8-dd14-5a37c5a0ea8d"
      },
      "source": [
        "test['Product Name'].value_counts(normalize=True)# We can make others in Agency name for less 1% data\n"
      ],
      "execution_count": null,
      "outputs": [
        {
          "output_type": "execute_result",
          "data": {
            "text/plain": [
              "Cancellation Plan                       0.257749\n",
              "2 way Comprehensive Plan                0.199634\n",
              "Rental Vehicle Excess Insurance         0.128406\n",
              "Bronze Plan                             0.088578\n",
              "Basic Plan                              0.077695\n",
              "Silver Plan                             0.054146\n",
              "Annual Silver Plan                      0.046207\n",
              "1 way Comprehensive Plan                0.044824\n",
              "Value Plan                              0.039204\n",
              "Ticket Protector                        0.015878\n",
              "Travel Cruise Protect                   0.007181\n",
              "Gold Plan                               0.006913\n",
              "Annual Gold Plan                        0.006423\n",
              "Single Trip Travel Protect Gold         0.005129\n",
              "Comprehensive Plan                      0.004549\n",
              "24 Protect                              0.003523\n",
              "Annual Travel Protect Gold              0.003122\n",
              "Single Trip Travel Protect Silver       0.002676\n",
              "Premier Plan                            0.002319\n",
              "Individual Comprehensive Plan           0.001873\n",
              "Single Trip Travel Protect Platinum     0.001516\n",
              "Annual Travel Protect Silver            0.001249\n",
              "Annual Travel Protect Platinum          0.001026\n",
              "Spouse or Parents Comprehensive Plan    0.000134\n",
              "Child Comprehensive Plan                0.000045\n",
              "Name: Product Name, dtype: float64"
            ]
          },
          "metadata": {
            "tags": []
          },
          "execution_count": 26
        }
      ]
    },
    {
      "cell_type": "code",
      "metadata": {
        "id": "lK9l5OvP8QMU",
        "colab_type": "code",
        "colab": {
          "base_uri": "https://localhost:8080/",
          "height": 221
        },
        "outputId": "8ae126fe-f35e-49da-f4b4-a9ef03848d9f"
      },
      "source": [
        "product_list=train.groupby('Product Name')['Product Name'].agg('count').sort_values(ascending=False)\n",
        "top_product=product_list[product_list>500]\n",
        "train['Product Name']=train['Product Name'].apply(lambda x: x if x in top_product else 'OTHER')\n",
        "train['Product Name'].value_counts(normalize=True)"
      ],
      "execution_count": null,
      "outputs": [
        {
          "output_type": "execute_result",
          "data": {
            "text/plain": [
              "Cancellation Plan                  0.253374\n",
              "2 way Comprehensive Plan           0.201778\n",
              "Rental Vehicle Excess Insurance    0.130243\n",
              "Bronze Plan                        0.090289\n",
              "Basic Plan                         0.077270\n",
              "Silver Plan                        0.054712\n",
              "OTHER                              0.048996\n",
              "1 way Comprehensive Plan           0.046052\n",
              "Annual Silver Plan                 0.044886\n",
              "Value Plan                         0.037488\n",
              "Ticket Protector                   0.014911\n",
              "Name: Product Name, dtype: float64"
            ]
          },
          "metadata": {
            "tags": []
          },
          "execution_count": 27
        }
      ]
    },
    {
      "cell_type": "code",
      "metadata": {
        "id": "cvaIZ-Xi_yj8",
        "colab_type": "code",
        "colab": {
          "base_uri": "https://localhost:8080/",
          "height": 221
        },
        "outputId": "a16cb4a4-44f0-4286-84f5-2cf343219eec"
      },
      "source": [
        "product_list=test.groupby('Product Name')['Product Name'].agg('count').sort_values(ascending=False)\n",
        "top_product=product_list[product_list>350]\n",
        "test['Product Name']=test['Product Name'].apply(lambda x: x if x in top_product else 'OTHER')\n",
        "test['Product Name'].value_counts(normalize=True)"
      ],
      "execution_count": null,
      "outputs": [
        {
          "output_type": "execute_result",
          "data": {
            "text/plain": [
              "Cancellation Plan                  0.257749\n",
              "2 way Comprehensive Plan           0.199634\n",
              "Rental Vehicle Excess Insurance    0.128406\n",
              "Bronze Plan                        0.088578\n",
              "Basic Plan                         0.077695\n",
              "Silver Plan                        0.054146\n",
              "OTHER                              0.047679\n",
              "Annual Silver Plan                 0.046207\n",
              "1 way Comprehensive Plan           0.044824\n",
              "Value Plan                         0.039204\n",
              "Ticket Protector                   0.015878\n",
              "Name: Product Name, dtype: float64"
            ]
          },
          "metadata": {
            "tags": []
          },
          "execution_count": 28
        }
      ]
    },
    {
      "cell_type": "code",
      "metadata": {
        "id": "WgfC4hag8QMp",
        "colab_type": "code",
        "colab": {
          "base_uri": "https://localhost:8080/",
          "height": 221
        },
        "outputId": "ecf0e5cf-3d3e-438a-e33c-4e6514e808cb"
      },
      "source": [
        "train['Destination'].value_counts(normalize=True)# make data continent wise"
      ],
      "execution_count": null,
      "outputs": [
        {
          "output_type": "execute_result",
          "data": {
            "text/plain": [
              "Singapore       0.272262\n",
              "Thailand        0.087211\n",
              "Malaysia        0.083330\n",
              "China           0.074728\n",
              "Australia       0.057561\n",
              "                  ...   \n",
              "Belarus         0.000038\n",
              "Bermuda         0.000038\n",
              "Bhutan          0.000038\n",
              "Zambia          0.000019\n",
              "Turkmenistan    0.000019\n",
              "Name: Destination, Length: 97, dtype: float64"
            ]
          },
          "metadata": {
            "tags": []
          },
          "execution_count": 29
        }
      ]
    },
    {
      "cell_type": "code",
      "metadata": {
        "id": "Ns_4RFMU8QMu",
        "colab_type": "code",
        "colab": {
          "base_uri": "https://localhost:8080/",
          "height": 221
        },
        "outputId": "06d335b2-a281-45e9-cb26-0c4495b5b80e"
      },
      "source": [
        "train['Age'].value_counts(normalize=True)# group wise by 4 parts"
      ],
      "execution_count": null,
      "outputs": [
        {
          "output_type": "execute_result",
          "data": {
            "text/plain": [
              "36    0.343701\n",
              "31    0.043663\n",
              "35    0.037947\n",
              "48    0.034850\n",
              "30    0.026209\n",
              "        ...   \n",
              "4     0.000019\n",
              "96    0.000019\n",
              "92    0.000019\n",
              "94    0.000019\n",
              "2     0.000019\n",
              "Name: Age, Length: 99, dtype: float64"
            ]
          },
          "metadata": {
            "tags": []
          },
          "execution_count": 30
        }
      ]
    },
    {
      "cell_type": "code",
      "metadata": {
        "id": "Ww07IfkM8QM2",
        "colab_type": "code",
        "colab": {
          "base_uri": "https://localhost:8080/",
          "height": 102
        },
        "outputId": "b4598044-68a3-4de8-be4d-4f2c1636cc7e"
      },
      "source": [
        "train['Age_window']=pd.cut(train.Age,bins=[0,31,61,91,120],labels=['0-30','31-60','61-90','91-120'])\n",
        "train['Age_window']=train['Age_window'].astype('object')\n",
        "train['Age_window'].value_counts(normalize=True).sort_values()"
      ],
      "execution_count": null,
      "outputs": [
        {
          "output_type": "execute_result",
          "data": {
            "text/plain": [
              "91-120    0.014166\n",
              "61-90     0.037547\n",
              "0-30      0.210236\n",
              "31-60     0.738052\n",
              "Name: Age_window, dtype: float64"
            ]
          },
          "metadata": {
            "tags": []
          },
          "execution_count": 31
        }
      ]
    },
    {
      "cell_type": "code",
      "metadata": {
        "id": "QUkBjplq_3tJ",
        "colab_type": "code",
        "colab": {
          "base_uri": "https://localhost:8080/",
          "height": 102
        },
        "outputId": "ae51bb8c-4111-4bd3-c0e0-b9f1e8ff901e"
      },
      "source": [
        "test['Age_window']=pd.cut(test.Age,bins=[0,31,61,91,120],labels=['0-30','31-60','61-90','91-120'])\n",
        "test['Age_window']=test['Age_window'].astype('object')\n",
        "test['Age_window'].value_counts(normalize=True).sort_values()"
      ],
      "execution_count": null,
      "outputs": [
        {
          "output_type": "execute_result",
          "data": {
            "text/plain": [
              "91-120    0.014897\n",
              "61-90     0.040052\n",
              "0-30      0.201998\n",
              "31-60     0.743053\n",
              "Name: Age_window, dtype: float64"
            ]
          },
          "metadata": {
            "tags": []
          },
          "execution_count": 32
        }
      ]
    },
    {
      "cell_type": "code",
      "metadata": {
        "scrolled": true,
        "id": "1nGQR7yz8QM-",
        "colab_type": "code",
        "colab": {
          "base_uri": "https://localhost:8080/",
          "height": 221
        },
        "outputId": "bd084b7a-bc67-4ab5-f3fc-09f5526a5ce5"
      },
      "source": [
        "train['Duration'].value_counts(normalize=True)# Negative values should be chamged to zero"
      ],
      "execution_count": null,
      "outputs": [
        {
          "output_type": "execute_result",
          "data": {
            "text/plain": [
              "5       0.031027\n",
              "6       0.030835\n",
              "8       0.029593\n",
              "7       0.029210\n",
              "10      0.028752\n",
              "          ...   \n",
              "434     0.000019\n",
              "529     0.000019\n",
              "497     0.000019\n",
              "4580    0.000019\n",
              "436     0.000019\n",
              "Name: Duration, Length: 439, dtype: float64"
            ]
          },
          "metadata": {
            "tags": []
          },
          "execution_count": 33
        }
      ]
    },
    {
      "cell_type": "code",
      "metadata": {
        "id": "w0R7nnka8QND",
        "colab_type": "code",
        "colab": {}
      },
      "source": [
        "train['Duration'].replace(-2,0,inplace=True)\n",
        "train['Duration'].replace(-1,0,inplace=True)\n",
        "## what is significance of this column"
      ],
      "execution_count": null,
      "outputs": []
    },
    {
      "cell_type": "code",
      "metadata": {
        "id": "SGnJvsei_-Qh",
        "colab_type": "code",
        "colab": {}
      },
      "source": [
        "test['Duration'].replace(-2,0,inplace=True)\n",
        "test['Duration'].replace(-1,0,inplace=True)\n",
        "## what is significance of this column"
      ],
      "execution_count": null,
      "outputs": []
    },
    {
      "cell_type": "code",
      "metadata": {
        "id": "TMicCscZ8QNP",
        "colab_type": "code",
        "colab": {
          "base_uri": "https://localhost:8080/",
          "height": 85
        },
        "outputId": "ecddfd2c-f64b-4fbf-ac4b-a87649ebb587"
      },
      "source": [
        "train.columns"
      ],
      "execution_count": null,
      "outputs": [
        {
          "output_type": "execute_result",
          "data": {
            "text/plain": [
              "Index(['ID', 'Agency', 'Agency Type', 'Distribution Channel', 'Product Name',\n",
              "       'Duration', 'Destination', 'Net Sales', 'Commision (in value)', 'Age',\n",
              "       'Claim', 'Destination_continent', 'Age_window'],\n",
              "      dtype='object')"
            ]
          },
          "metadata": {
            "tags": []
          },
          "execution_count": 36
        }
      ]
    },
    {
      "cell_type": "code",
      "metadata": {
        "id": "-w8j1RbN8QNU",
        "colab_type": "code",
        "colab": {
          "base_uri": "https://localhost:8080/",
          "height": 479
        },
        "outputId": "87a3c809-62bf-463b-b2ff-a2b1e1d84251"
      },
      "source": [
        "train[(train['Net Sales']<=0) & (train['Commision (in value)']>0)].head()\n",
        "## we have to do net sales  and commision 0 when sales is less than and equal to zero"
      ],
      "execution_count": null,
      "outputs": [
        {
          "output_type": "execute_result",
          "data": {
            "text/html": [
              "<div>\n",
              "<style scoped>\n",
              "    .dataframe tbody tr th:only-of-type {\n",
              "        vertical-align: middle;\n",
              "    }\n",
              "\n",
              "    .dataframe tbody tr th {\n",
              "        vertical-align: top;\n",
              "    }\n",
              "\n",
              "    .dataframe thead th {\n",
              "        text-align: right;\n",
              "    }\n",
              "</style>\n",
              "<table border=\"1\" class=\"dataframe\">\n",
              "  <thead>\n",
              "    <tr style=\"text-align: right;\">\n",
              "      <th></th>\n",
              "      <th>ID</th>\n",
              "      <th>Agency</th>\n",
              "      <th>Agency Type</th>\n",
              "      <th>Distribution Channel</th>\n",
              "      <th>Product Name</th>\n",
              "      <th>Duration</th>\n",
              "      <th>Destination</th>\n",
              "      <th>Net Sales</th>\n",
              "      <th>Commision (in value)</th>\n",
              "      <th>Age</th>\n",
              "      <th>Claim</th>\n",
              "      <th>Destination_continent</th>\n",
              "      <th>Age_window</th>\n",
              "    </tr>\n",
              "  </thead>\n",
              "  <tbody>\n",
              "    <tr>\n",
              "      <th>33</th>\n",
              "      <td>6138</td>\n",
              "      <td>CWT</td>\n",
              "      <td>Travel Agency</td>\n",
              "      <td>Online</td>\n",
              "      <td>Rental Vehicle Excess Insurance</td>\n",
              "      <td>4</td>\n",
              "      <td>Thailand</td>\n",
              "      <td>0.0</td>\n",
              "      <td>17.82</td>\n",
              "      <td>30</td>\n",
              "      <td>0</td>\n",
              "      <td>AS</td>\n",
              "      <td>0-30</td>\n",
              "    </tr>\n",
              "    <tr>\n",
              "      <th>62</th>\n",
              "      <td>5266</td>\n",
              "      <td>C2B</td>\n",
              "      <td>Airlines</td>\n",
              "      <td>Online</td>\n",
              "      <td>Bronze Plan</td>\n",
              "      <td>77</td>\n",
              "      <td>Singapore</td>\n",
              "      <td>0.0</td>\n",
              "      <td>15.00</td>\n",
              "      <td>28</td>\n",
              "      <td>0</td>\n",
              "      <td>AS</td>\n",
              "      <td>0-30</td>\n",
              "    </tr>\n",
              "    <tr>\n",
              "      <th>104</th>\n",
              "      <td>9734</td>\n",
              "      <td>CWT</td>\n",
              "      <td>Travel Agency</td>\n",
              "      <td>Online</td>\n",
              "      <td>Rental Vehicle Excess Insurance</td>\n",
              "      <td>81</td>\n",
              "      <td>United Kingdom</td>\n",
              "      <td>-128.7</td>\n",
              "      <td>77.22</td>\n",
              "      <td>63</td>\n",
              "      <td>0</td>\n",
              "      <td>EU</td>\n",
              "      <td>61-90</td>\n",
              "    </tr>\n",
              "    <tr>\n",
              "      <th>120</th>\n",
              "      <td>3642</td>\n",
              "      <td>CWT</td>\n",
              "      <td>Travel Agency</td>\n",
              "      <td>Online</td>\n",
              "      <td>Rental Vehicle Excess Insurance</td>\n",
              "      <td>13</td>\n",
              "      <td>Malaysia</td>\n",
              "      <td>0.0</td>\n",
              "      <td>11.88</td>\n",
              "      <td>62</td>\n",
              "      <td>0</td>\n",
              "      <td>AS</td>\n",
              "      <td>61-90</td>\n",
              "    </tr>\n",
              "    <tr>\n",
              "      <th>125</th>\n",
              "      <td>9233</td>\n",
              "      <td>CWT</td>\n",
              "      <td>Travel Agency</td>\n",
              "      <td>Online</td>\n",
              "      <td>Rental Vehicle Excess Insurance</td>\n",
              "      <td>26</td>\n",
              "      <td>Germany</td>\n",
              "      <td>0.0</td>\n",
              "      <td>47.52</td>\n",
              "      <td>39</td>\n",
              "      <td>0</td>\n",
              "      <td>EU</td>\n",
              "      <td>31-60</td>\n",
              "    </tr>\n",
              "  </tbody>\n",
              "</table>\n",
              "</div>"
            ],
            "text/plain": [
              "       ID Agency    Agency Type  ... Claim Destination_continent  Age_window\n",
              "33   6138    CWT  Travel Agency  ...     0                    AS        0-30\n",
              "62   5266    C2B       Airlines  ...     0                    AS        0-30\n",
              "104  9734    CWT  Travel Agency  ...     0                    EU       61-90\n",
              "120  3642    CWT  Travel Agency  ...     0                    AS       61-90\n",
              "125  9233    CWT  Travel Agency  ...     0                    EU       31-60\n",
              "\n",
              "[5 rows x 13 columns]"
            ]
          },
          "metadata": {
            "tags": []
          },
          "execution_count": 37
        }
      ]
    },
    {
      "cell_type": "code",
      "metadata": {
        "id": "9yLmBJLY8QNY",
        "colab_type": "code",
        "colab": {}
      },
      "source": [
        "train['Net Sales']=train['Net Sales'].apply(lambda x: 0 if x<0 else x)\n",
        "test['Net Sales']=test['Net Sales'].apply(lambda x: 0 if x<0 else x)"
      ],
      "execution_count": null,
      "outputs": []
    },
    {
      "cell_type": "code",
      "metadata": {
        "id": "UgkLMyGB8QNg",
        "colab_type": "code",
        "colab": {}
      },
      "source": [
        "#train['Commision (in value)']=train.loc[:,['Commision (in value)','Net Sales']].apply(lambda x,y: 0 if y==0 else x)\n",
        "train.loc[train['Net Sales']==0,'Commision (in value)']=0\n",
        "test.loc[test['Net Sales']==0,'Commision (in value)']=0"
      ],
      "execution_count": null,
      "outputs": []
    },
    {
      "cell_type": "code",
      "metadata": {
        "id": "VkFcS3hC8QNk",
        "colab_type": "code",
        "colab": {
          "base_uri": "https://localhost:8080/",
          "height": 343
        },
        "outputId": "0a0f5e4e-17ae-417a-b87c-cdf1a9df9f63"
      },
      "source": [
        "test.head()"
      ],
      "execution_count": null,
      "outputs": [
        {
          "output_type": "execute_result",
          "data": {
            "text/html": [
              "<div>\n",
              "<style scoped>\n",
              "    .dataframe tbody tr th:only-of-type {\n",
              "        vertical-align: middle;\n",
              "    }\n",
              "\n",
              "    .dataframe tbody tr th {\n",
              "        vertical-align: top;\n",
              "    }\n",
              "\n",
              "    .dataframe thead th {\n",
              "        text-align: right;\n",
              "    }\n",
              "</style>\n",
              "<table border=\"1\" class=\"dataframe\">\n",
              "  <thead>\n",
              "    <tr style=\"text-align: right;\">\n",
              "      <th></th>\n",
              "      <th>ID</th>\n",
              "      <th>Agency</th>\n",
              "      <th>Agency Type</th>\n",
              "      <th>Distribution Channel</th>\n",
              "      <th>Product Name</th>\n",
              "      <th>Duration</th>\n",
              "      <th>Destination</th>\n",
              "      <th>Net Sales</th>\n",
              "      <th>Commision (in value)</th>\n",
              "      <th>Age</th>\n",
              "      <th>Destination_continent</th>\n",
              "      <th>Age_window</th>\n",
              "    </tr>\n",
              "  </thead>\n",
              "  <tbody>\n",
              "    <tr>\n",
              "      <th>0</th>\n",
              "      <td>17631</td>\n",
              "      <td>EPX</td>\n",
              "      <td>Travel Agency</td>\n",
              "      <td>Online</td>\n",
              "      <td>Cancellation Plan</td>\n",
              "      <td>192</td>\n",
              "      <td>Hong Kong</td>\n",
              "      <td>18.0</td>\n",
              "      <td>0.00</td>\n",
              "      <td>36</td>\n",
              "      <td>AS</td>\n",
              "      <td>31-60</td>\n",
              "    </tr>\n",
              "    <tr>\n",
              "      <th>1</th>\n",
              "      <td>15064</td>\n",
              "      <td>EPX</td>\n",
              "      <td>Travel Agency</td>\n",
              "      <td>Online</td>\n",
              "      <td>1 way Comprehensive Plan</td>\n",
              "      <td>2</td>\n",
              "      <td>Singapore</td>\n",
              "      <td>20.0</td>\n",
              "      <td>0.00</td>\n",
              "      <td>36</td>\n",
              "      <td>AS</td>\n",
              "      <td>31-60</td>\n",
              "    </tr>\n",
              "    <tr>\n",
              "      <th>2</th>\n",
              "      <td>14139</td>\n",
              "      <td>C2B</td>\n",
              "      <td>Airlines</td>\n",
              "      <td>Online</td>\n",
              "      <td>Bronze Plan</td>\n",
              "      <td>13</td>\n",
              "      <td>Singapore</td>\n",
              "      <td>13.5</td>\n",
              "      <td>3.38</td>\n",
              "      <td>24</td>\n",
              "      <td>AS</td>\n",
              "      <td>0-30</td>\n",
              "    </tr>\n",
              "    <tr>\n",
              "      <th>3</th>\n",
              "      <td>19754</td>\n",
              "      <td>EPX</td>\n",
              "      <td>Travel Agency</td>\n",
              "      <td>Online</td>\n",
              "      <td>2 way Comprehensive Plan</td>\n",
              "      <td>133</td>\n",
              "      <td>Taiwan</td>\n",
              "      <td>41.0</td>\n",
              "      <td>0.00</td>\n",
              "      <td>36</td>\n",
              "      <td>AS</td>\n",
              "      <td>31-60</td>\n",
              "    </tr>\n",
              "    <tr>\n",
              "      <th>4</th>\n",
              "      <td>16439</td>\n",
              "      <td>C2B</td>\n",
              "      <td>Airlines</td>\n",
              "      <td>Online</td>\n",
              "      <td>Silver Plan</td>\n",
              "      <td>2</td>\n",
              "      <td>Singapore</td>\n",
              "      <td>30.0</td>\n",
              "      <td>7.50</td>\n",
              "      <td>32</td>\n",
              "      <td>AS</td>\n",
              "      <td>31-60</td>\n",
              "    </tr>\n",
              "  </tbody>\n",
              "</table>\n",
              "</div>"
            ],
            "text/plain": [
              "      ID Agency    Agency Type  ... Age Destination_continent  Age_window\n",
              "0  17631    EPX  Travel Agency  ...  36                    AS       31-60\n",
              "1  15064    EPX  Travel Agency  ...  36                    AS       31-60\n",
              "2  14139    C2B       Airlines  ...  24                    AS        0-30\n",
              "3  19754    EPX  Travel Agency  ...  36                    AS       31-60\n",
              "4  16439    C2B       Airlines  ...  32                    AS       31-60\n",
              "\n",
              "[5 rows x 12 columns]"
            ]
          },
          "metadata": {
            "tags": []
          },
          "execution_count": 68
        }
      ]
    },
    {
      "cell_type": "code",
      "metadata": {
        "id": "B4uOo-ZD8QOI",
        "colab_type": "code",
        "colab": {}
      },
      "source": [
        "X=train.drop(['ID','Destination','Age','Claim'],axis=1)\n",
        "#df=train.drop(['ID','Destination','Age'],axis=1)\n",
        "X_test=test.drop(['ID','Destination','Age'],axis=1)\n",
        "y=train['Claim']"
      ],
      "execution_count": null,
      "outputs": []
    },
    {
      "cell_type": "code",
      "metadata": {
        "id": "BG_kbk_PLjvc",
        "colab_type": "code",
        "colab": {}
      },
      "source": [
        "!pip install pycaret==2.0"
      ],
      "execution_count": null,
      "outputs": []
    },
    {
      "cell_type": "code",
      "metadata": {
        "id": "wZ4wpwzkLbmx",
        "colab_type": "code",
        "colab": {}
      },
      "source": [
        "from pycaret.utils import enable_colab \n",
        "enable_colab() \n",
        "import pandas as pd\n",
        "#pycaret_data=pd.read_csv('/content/train.csv') \n",
        "#pycaret_data.drop(['ID'],axis=1,inplace=True)\n",
        "from pycaret.classification import * \n",
        "exp_clf101 = setup(data = df,\n",
        "                   target = 'Claim', \n",
        "                   remove_outliers=True,\n",
        "                   normalize=True,\n",
        "                   transformation=True,\n",
        "                   pca=True,\n",
        "                   polynomial_features=True,\n",
        "                   #fix_imbalance=True,\n",
        "                   #fix_imbalance_method='smote',\n",
        "                   session_id=123)  "
      ],
      "execution_count": null,
      "outputs": []
    },
    {
      "cell_type": "code",
      "metadata": {
        "id": "axDfzTBBMPZ4",
        "colab_type": "code",
        "colab": {}
      },
      "source": [
        "compare_models()"
      ],
      "execution_count": null,
      "outputs": []
    },
    {
      "cell_type": "code",
      "metadata": {
        "id": "VUHNu6sqJ0Zx",
        "colab_type": "code",
        "colab": {
          "base_uri": "https://localhost:8080/",
          "height": 68
        },
        "outputId": "b3ddba82-d477-4b76-916d-2ef5ee0af85b"
      },
      "source": [
        "print(X.shape)\n",
        "print(X_test.shape)\n",
        "print(y.shape)"
      ],
      "execution_count": null,
      "outputs": [
        {
          "output_type": "stream",
          "text": [
            "(52310, 9)\n",
            "(22421, 9)\n",
            "(52310,)\n"
          ],
          "name": "stdout"
        }
      ]
    },
    {
      "cell_type": "code",
      "metadata": {
        "id": "rmf-1Cpg8QON",
        "colab_type": "code",
        "colab": {
          "base_uri": "https://localhost:8080/",
          "height": 85
        },
        "outputId": "b1d59eaa-b64d-4bcb-b1d4-45ce083654bd"
      },
      "source": [
        "X.columns"
      ],
      "execution_count": null,
      "outputs": [
        {
          "output_type": "execute_result",
          "data": {
            "text/plain": [
              "Index(['Agency', 'Agency Type', 'Distribution Channel', 'Product Name',\n",
              "       'Duration', 'Net Sales', 'Commision (in value)',\n",
              "       'Destination_continent', 'Age_window'],\n",
              "      dtype='object')"
            ]
          },
          "metadata": {
            "tags": []
          },
          "execution_count": 43
        }
      ]
    },
    {
      "cell_type": "code",
      "metadata": {
        "id": "IU4aDjHhKWF-",
        "colab_type": "code",
        "colab": {
          "base_uri": "https://localhost:8080/",
          "height": 85
        },
        "outputId": "952b19ba-af7c-4a43-de9f-ff529d63179c"
      },
      "source": [
        "X_test.columns"
      ],
      "execution_count": null,
      "outputs": [
        {
          "output_type": "execute_result",
          "data": {
            "text/plain": [
              "Index(['Agency', 'Agency Type', 'Distribution Channel', 'Product Name',\n",
              "       'Duration', 'Net Sales', 'Commision (in value)',\n",
              "       'Destination_continent', 'Age_window'],\n",
              "      dtype='object')"
            ]
          },
          "metadata": {
            "tags": []
          },
          "execution_count": 44
        }
      ]
    },
    {
      "cell_type": "code",
      "metadata": {
        "id": "7siH8gCt8QOS",
        "colab_type": "code",
        "colab": {}
      },
      "source": [
        "for i in ['Agency','Agency Type','Distribution Channel','Product Name','Destination_continent','Age_window']:\n",
        "  X_Dummy=pd.get_dummies(X[i],prefix=i,drop_first=True)\n",
        "  X = pd.concat([X,X_Dummy], axis=1)\n",
        "  X.drop([i],axis=1,inplace=True)"
      ],
      "execution_count": null,
      "outputs": []
    },
    {
      "cell_type": "code",
      "metadata": {
        "id": "l1IxM36XAb7F",
        "colab_type": "code",
        "colab": {}
      },
      "source": [
        "for i in ['Agency','Agency Type','Distribution Channel','Product Name','Destination_continent','Age_window']:\n",
        "  X_Dummy=pd.get_dummies(X_test[i],prefix=i,drop_first=True)\n",
        "  X_test = pd.concat([X_test,X_Dummy], axis=1)\n",
        "  X_test.drop([i],axis=1,inplace=True)"
      ],
      "execution_count": null,
      "outputs": []
    },
    {
      "cell_type": "code",
      "metadata": {
        "id": "gorF5WTA8QOZ",
        "colab_type": "code",
        "colab": {}
      },
      "source": [
        "from sklearn.model_selection import train_test_split\n",
        "from sklearn.linear_model import LogisticRegression\n",
        "from sklearn.preprocessing import MinMaxScaler\n",
        "\n",
        "scaler = MinMaxScaler()\n",
        "scaler.fit(X)\n",
        "X_new = scaler.transform(X)\n",
        "X_test_new = scaler.transform(X_test)"
      ],
      "execution_count": null,
      "outputs": []
    },
    {
      "cell_type": "code",
      "metadata": {
        "id": "qkwaVNuwI6Tg",
        "colab_type": "code",
        "colab": {
          "base_uri": "https://localhost:8080/",
          "height": 68
        },
        "outputId": "c274eb7b-54b5-4504-85b9-2eca34876417"
      },
      "source": [
        "print(X.shape)\n",
        "print(X_test.shape)\n",
        "print(y.shape)"
      ],
      "execution_count": null,
      "outputs": [
        {
          "output_type": "stream",
          "text": [
            "(52310, 31)\n",
            "(22421, 31)\n",
            "(52310,)\n"
          ],
          "name": "stdout"
        }
      ]
    },
    {
      "cell_type": "code",
      "metadata": {
        "id": "xtyo-ofG8QOc",
        "colab_type": "code",
        "colab": {}
      },
      "source": [
        "import warnings\n",
        "warnings.filterwarnings('ignore')\n",
        "from sklearn.metrics import precision_score, recall_score,confusion_matrix,accuracy_score,f1_score,roc_auc_score\n",
        "from sklearn.model_selection import cross_val_score\n",
        "\n",
        "def accuracy_check(model,X,y):\n",
        "  X_train, X_test, y_train, y_test = train_test_split(X, y, test_size=0.3, random_state = 42)\n",
        "  scores = cross_val_score(model, X_train, y_train, scoring='accuracy', n_jobs=-1, cv=10)\n",
        "  model.fit(X_train,y_train)\n",
        "  y_pred = model.predict(X_test)\n",
        "  print(\"score is                           \", model.score(X_test,y_test))\n",
        "  print('Cross-validation mean accuracy is ',np.mean(scores) * 100)\n",
        "  print('Standard deviation of accuracy is ',np.std(scores) * 100,\".\")\n",
        "  print('Accuracy score of Model is        ',accuracy_score(y_test,y_pred))\n",
        "  print('Precision score of model is       ',precision_score(y_test,y_pred,average='weighted'))\n",
        "  print('Recall score of model is          ',recall_score(y_test,y_pred,average='weighted'))\n",
        "  print('F1 score of model is              ',f1_score(y_test,y_pred,average='weighted'))\n",
        "  print('ROC AUC score is                  ',roc_auc_score(y_test,y_pred,average='weighted'))\n",
        "  matrix=pd.DataFrame(confusion_matrix(y_test,y_pred),index=[['actual', 'actual'], ['spam', 'ham']],columns=[['predicted', 'predicted'], ['spam', 'ham']])\n",
        "  print(matrix)"
      ],
      "execution_count": null,
      "outputs": []
    },
    {
      "cell_type": "code",
      "metadata": {
        "id": "Kq-RhuyQ8QOz",
        "colab_type": "code",
        "colab": {}
      },
      "source": [
        "from sklearn.ensemble import ExtraTreesClassifier \n",
        "from sklearn.ensemble import RandomForestClassifier\n",
        "from sklearn.ensemble import VotingClassifier\n",
        "from sklearn.ensemble import BaggingClassifier\n",
        "from sklearn.tree import DecisionTreeClassifier\n",
        "from sklearn.ensemble import AdaBoostClassifier\n",
        "from sklearn.svm import SVC\n",
        "from sklearn import svm\n",
        "from sklearn.neighbors import KNeighborsClassifier\n",
        "\n",
        "from sklearn.model_selection import GridSearchCV"
      ],
      "execution_count": null,
      "outputs": []
    },
    {
      "cell_type": "code",
      "metadata": {
        "id": "jTnyJooB8QO4",
        "colab_type": "code",
        "colab": {}
      },
      "source": [
        "model=ExtraTreesClassifier(bootstrap=False, ccp_alpha=0.0, class_weight=None,\n",
        "                     criterion='gini', max_depth=None, max_features='auto',\n",
        "                     max_leaf_nodes=None, max_samples=None,\n",
        "                     min_impurity_decrease=0.0, min_impurity_split=None,\n",
        "                     min_samples_leaf=1, min_samples_split=2,\n",
        "                     min_weight_fraction_leaf=0.0, n_estimators=100, n_jobs=-1,\n",
        "                     oob_score=False, random_state=123, verbose=0,\n",
        "                     warm_start=False)"
      ],
      "execution_count": null,
      "outputs": []
    },
    {
      "cell_type": "code",
      "metadata": {
        "id": "W-0AaUEw8QPD",
        "colab_type": "code",
        "colab": {
          "base_uri": "https://localhost:8080/",
          "height": 221
        },
        "outputId": "f5df1524-5be9-406a-e940-9cd244187cac"
      },
      "source": [
        "accuracy_check(model,X_new,y)"
      ],
      "execution_count": null,
      "outputs": [
        {
          "output_type": "stream",
          "text": [
            "score is                            0.9192633658318996\n",
            "Cross-validation mean accuracy is  91.5558238483157\n",
            "Standard deviation of accuracy is  0.4579333321863067 .\n",
            "Accuracy score of Model is         0.9192633658318996\n",
            "Precision score of model is        0.9165843593548679\n",
            "Recall score of model is           0.9192633658318996\n",
            "F1 score of model is               0.9174685105871694\n",
            "ROC AUC score is                   0.8337595513078891\n",
            "            predicted      \n",
            "                 spam   ham\n",
            "actual spam     12583   498\n",
            "       ham        769  1843\n"
          ],
          "name": "stdout"
        }
      ]
    },
    {
      "cell_type": "code",
      "metadata": {
        "id": "Ifc2mqbCYhjd",
        "colab_type": "code",
        "colab": {}
      },
      "source": [
        "model.fit(X_new,y)\n",
        "pred=model.predict(X_test)\n"
      ],
      "execution_count": null,
      "outputs": []
    },
    {
      "cell_type": "code",
      "metadata": {
        "id": "1XEJ9Jl3bw-T",
        "colab_type": "code",
        "colab": {
          "base_uri": "https://localhost:8080/",
          "height": 204
        },
        "outputId": "7a1005f4-3c3d-47c1-a5a9-b74391442816"
      },
      "source": [
        "df_pred=pd.DataFrame(pred)\n",
        "df_pred.columns=['Claim']\n",
        "df_pred.head()"
      ],
      "execution_count": null,
      "outputs": [
        {
          "output_type": "execute_result",
          "data": {
            "text/html": [
              "<div>\n",
              "<style scoped>\n",
              "    .dataframe tbody tr th:only-of-type {\n",
              "        vertical-align: middle;\n",
              "    }\n",
              "\n",
              "    .dataframe tbody tr th {\n",
              "        vertical-align: top;\n",
              "    }\n",
              "\n",
              "    .dataframe thead th {\n",
              "        text-align: right;\n",
              "    }\n",
              "</style>\n",
              "<table border=\"1\" class=\"dataframe\">\n",
              "  <thead>\n",
              "    <tr style=\"text-align: right;\">\n",
              "      <th></th>\n",
              "      <th>Claim</th>\n",
              "    </tr>\n",
              "  </thead>\n",
              "  <tbody>\n",
              "    <tr>\n",
              "      <th>0</th>\n",
              "      <td>0</td>\n",
              "    </tr>\n",
              "    <tr>\n",
              "      <th>1</th>\n",
              "      <td>0</td>\n",
              "    </tr>\n",
              "    <tr>\n",
              "      <th>2</th>\n",
              "      <td>0</td>\n",
              "    </tr>\n",
              "    <tr>\n",
              "      <th>3</th>\n",
              "      <td>0</td>\n",
              "    </tr>\n",
              "    <tr>\n",
              "      <th>4</th>\n",
              "      <td>0</td>\n",
              "    </tr>\n",
              "  </tbody>\n",
              "</table>\n",
              "</div>"
            ],
            "text/plain": [
              "   Claim\n",
              "0      0\n",
              "1      0\n",
              "2      0\n",
              "3      0\n",
              "4      0"
            ]
          },
          "metadata": {
            "tags": []
          },
          "execution_count": 53
        }
      ]
    },
    {
      "cell_type": "code",
      "metadata": {
        "id": "UezGJjmabrki",
        "colab_type": "code",
        "colab": {}
      },
      "source": [
        "sample.head()\n",
        "sample['Claim']=df_pred['Claim']\n",
        "sample.to_csv(\"sub.csv\",index=False)"
      ],
      "execution_count": null,
      "outputs": []
    },
    {
      "cell_type": "code",
      "metadata": {
        "id": "o0td7HE28QPI",
        "colab_type": "code",
        "colab": {}
      },
      "source": [
        "model=RandomForestClassifier()\n",
        "accuracy_check(model,X_new,y)"
      ],
      "execution_count": null,
      "outputs": []
    },
    {
      "cell_type": "code",
      "metadata": {
        "id": "zhcJNC4Y8QPR",
        "colab_type": "code",
        "colab": {}
      },
      "source": [
        "model=KNeighborsClassifier(n_neighbors=2)\n",
        "accuracy_check(model,X_new,y)"
      ],
      "execution_count": null,
      "outputs": []
    },
    {
      "cell_type": "code",
      "metadata": {
        "id": "ARyoVj818QPV",
        "colab_type": "code",
        "colab": {}
      },
      "source": [
        "model=AdaBoostClassifier(RandomForestClassifier(),learning_rate=0.1,n_estimators=50)\n",
        "accuracy_check(model,X_new,y)"
      ],
      "execution_count": null,
      "outputs": []
    },
    {
      "cell_type": "code",
      "metadata": {
        "id": "cB-oL3ZO8QPb",
        "colab_type": "code",
        "colab": {}
      },
      "source": [
        "model_params = {\n",
        "    'svm': {\n",
        "        'model': svm.SVC(gamma='auto'),\n",
        "        'params' : {\n",
        "            'C': [1,2,3,4,5,6],\n",
        "            'kernel': ['rbf','linear']\n",
        "        }  \n",
        "    },\n",
        "    'random_forest': {\n",
        "        'model': RandomForestClassifier(),\n",
        "        'params' : {\n",
        "            'n_estimators': [1000,1500,2000,2100,2200,2300,2400,2500],\n",
        "            'n_jobs':[-1]\n",
        "        }\n",
        "    },\n",
        "    'KNeighborsClassifier': {\n",
        "        'model':KNeighborsClassifier(),\n",
        "        'params':{\n",
        "            'n_neighbors':[2,3,4,5,6]\n",
        "        }\n",
        "    },\n",
        "    'Bagging':{\n",
        "        'model':BaggingClassifier(DecisionTreeClassifier()),\n",
        "        'params': {\n",
        "            'n_estimators':[500,1000,1500,2000,2100],\n",
        "            'max_samples':[100,200,300,400],\n",
        "            'bootstrap':[True,False],\n",
        "            'n_jobs':[-1]            \n",
        "        }\n",
        "    },\n",
        "    'Adaboost':{\n",
        "        'model': AdaBoostClassifier(DecisionTreeClassifier(max_depth=1)),\n",
        "        'params': {\n",
        "            'n_estimators':[500,1000,1500,2000,2100],\n",
        "            'algorithm':[\"SAMME.R\"],\n",
        "            'learning_rate':[0.1,0.2,0.3,0.01],\n",
        "            \n",
        "        }\n",
        "    }\n",
        "\n",
        "}\n"
      ],
      "execution_count": null,
      "outputs": []
    },
    {
      "cell_type": "code",
      "metadata": {
        "id": "5-hFDR2G8QPn",
        "colab_type": "code",
        "colab": {}
      },
      "source": [
        "scores = []\n",
        "\n",
        "for model_name, mp in model_params.items():\n",
        "    clf =  GridSearchCV(mp['model'], mp['params'], cv=5, return_train_score=False)\n",
        "    clf.fit(X_new, y)\n",
        "    scores.append({\n",
        "        'model': model_name,\n",
        "        'best_score': clf.best_score_,\n",
        "        'best_params': clf.best_params_\n",
        "    })"
      ],
      "execution_count": null,
      "outputs": []
    },
    {
      "cell_type": "code",
      "metadata": {
        "id": "ShPc1K5k8QPs",
        "colab_type": "code",
        "colab": {}
      },
      "source": [
        "df = pd.DataFrame(scores,columns=['model','best_score','best_params'])"
      ],
      "execution_count": null,
      "outputs": []
    },
    {
      "cell_type": "code",
      "metadata": {
        "id": "R9C97nweS9aW",
        "colab_type": "code",
        "colab": {}
      },
      "source": [
        "train1 = pd.concat([train,y],axis =1)\n",
        "train1.drop(columns = 'Claim',inplace =True)\n",
        "train1 = pd.concat([train1,y],axis =1)\n",
        "pred= pd.DataFrame(pred)\n",
        "test1=pd.concat([test,pred],axis =1)\n",
        "test1 = test1.rename(columns={0:'Claim'})"
      ],
      "execution_count": null,
      "outputs": []
    },
    {
      "cell_type": "code",
      "metadata": {
        "id": "p3xjeOINTVbY",
        "colab_type": "code",
        "colab": {
          "base_uri": "https://localhost:8080/",
          "height": 51
        },
        "outputId": "987fa77f-970e-4458-8693-08e196e5d738"
      },
      "source": [
        "print(train1.shape)\n",
        "print(test1.shape)"
      ],
      "execution_count": null,
      "outputs": [
        {
          "output_type": "stream",
          "text": [
            "(52310, 13)\n",
            "(22421, 13)\n"
          ],
          "name": "stdout"
        }
      ]
    },
    {
      "cell_type": "code",
      "metadata": {
        "id": "o7_yV_g9UPQg",
        "colab_type": "code",
        "colab": {}
      },
      "source": [
        "data_combined =  pd.concat([train1,test1],axis =0)"
      ],
      "execution_count": null,
      "outputs": []
    },
    {
      "cell_type": "code",
      "metadata": {
        "id": "ykmSadqgVfO3",
        "colab_type": "code",
        "colab": {
          "base_uri": "https://localhost:8080/",
          "height": 34
        },
        "outputId": "715743f2-7b30-4855-f44a-01af7db01064"
      },
      "source": [
        "data_combined.shape"
      ],
      "execution_count": null,
      "outputs": [
        {
          "output_type": "execute_result",
          "data": {
            "text/plain": [
              "(74731, 13)"
            ]
          },
          "metadata": {
            "tags": []
          },
          "execution_count": 57
        }
      ]
    },
    {
      "cell_type": "code",
      "metadata": {
        "id": "t5D12BO8Vi8l",
        "colab_type": "code",
        "colab": {}
      },
      "source": [
        "data_combined=data_combined.replace({'Destination_continent' : { 'AF' : 'Africa', 'SA' : 'South America', 'EU' : 'Europe', 'NA' : 'North America', 'OC' : 'Oceania' , 'AS' : 'Asia'}})"
      ],
      "execution_count": null,
      "outputs": []
    },
    {
      "cell_type": "code",
      "metadata": {
        "id": "5gqIbrHXVpYN",
        "colab_type": "code",
        "colab": {
          "base_uri": "https://localhost:8080/",
          "height": 136
        },
        "outputId": "55de3ba4-8c7e-4aed-94aa-ec974c0879db"
      },
      "source": [
        "data_combined['Destination_continent'].value_counts(normalize=True)"
      ],
      "execution_count": null,
      "outputs": [
        {
          "output_type": "execute_result",
          "data": {
            "text/plain": [
              "Asia             0.804954\n",
              "Europe           0.073263\n",
              "Oceania          0.065167\n",
              "North America    0.049591\n",
              "Africa           0.004443\n",
              "South America    0.002583\n",
              "Name: Destination_continent, dtype: float64"
            ]
          },
          "metadata": {
            "tags": []
          },
          "execution_count": 59
        }
      ]
    },
    {
      "cell_type": "code",
      "metadata": {
        "id": "UMDoXg3uWfv-",
        "colab_type": "code",
        "colab": {
          "base_uri": "https://localhost:8080/",
          "height": 306
        },
        "outputId": "af8eacdf-c29a-413f-8c5e-ae380502dca1"
      },
      "source": [
        "data_combined.groupby('Age_window')['Destination_continent'].value_counts().unstack().plot(kind='bar',stacked=True)\n",
        "plt.show()"
      ],
      "execution_count": null,
      "outputs": [
        {
          "output_type": "display_data",
          "data": {
            "image/png": "[encoded data removed]",
            "text/plain": [
              "<Figure size 432x288 with 1 Axes>"
            ]
          },
          "metadata": {
            "tags": [],
            "needs_background": "light"
          }
        }
      ]
    },
    {
      "cell_type": "code",
      "metadata": {
        "id": "X8x-K3FPsBGB",
        "colab_type": "code",
        "colab": {
          "base_uri": "https://localhost:8080/",
          "height": 515
        },
        "outputId": "9af7a3ee-e7a3-4fe6-e571-5af4dbfd078d"
      },
      "source": [
        "data_combined.groupby('Destination')['Age_window'].value_counts().unstack().plot(kind='bar',stacked=True,figsize=(17,6))\n",
        "#plt.legend(frameon=True)\n",
        "plt.show()"
      ],
      "execution_count": null,
      "outputs": [
        {
          "output_type": "display_data",
          "data": {
            "image/png": "[encoded data removed]",
            "text/plain": [
              "<Figure size 1224x432 with 1 Axes>"
            ]
          },
          "metadata": {
            "tags": [],
            "needs_background": "light"
          }
        }
      ]
    },
    {
      "cell_type": "code",
      "metadata": {
        "id": "PJlR4zzXbvTt",
        "colab_type": "code",
        "colab": {
          "base_uri": "https://localhost:8080/",
          "height": 447
        },
        "outputId": "f78c9efd-13fe-4923-8d81-d962678abe1b"
      },
      "source": [
        "data_combined.groupby(['Product Name'],sort=True)['Claim'].value_counts().unstack().plot(kind='bar',stacked=True)"
      ],
      "execution_count": null,
      "outputs": [
        {
          "output_type": "execute_result",
          "data": {
            "text/plain": [
              "<matplotlib.axes._subplots.AxesSubplot at 0x7f91e4d6be80>"
            ]
          },
          "metadata": {
            "tags": []
          },
          "execution_count": 64
        },
        {
          "output_type": "display_data",
          "data": {
            "image/png": "[encoded data removed]",
            "text/plain": [
              "<Figure size 432x288 with 1 Axes>"
            ]
          },
          "metadata": {
            "tags": [],
            "needs_background": "light"
          }
        }
      ]
    },
    {
      "cell_type": "code",
      "metadata": {
        "id": "_jxH9GqWcj2X",
        "colab_type": "code",
        "colab": {
          "base_uri": "https://localhost:8080/",
          "height": 34
        },
        "outputId": "cea53cb6-1c22-479f-e9fa-07e3713832e8"
      },
      "source": [
        "Products_stats = data_combined.groupby(['Product Name','Claim'],sort=True,as_index=False).agg('count').iloc[:,:3]\n",
        "Products_stats.rename(columns={'ID':'Count'},inplace=True)\n",
        "len = data_combined['ID'].count()\n",
        "Products_stats['Claim_Proportion'] = Products_stats['Count']/len*100\n",
        "Max_Claim_Product = Products_stats[Products_stats['Claim']==1].sort_values(by='Claim_Proportion',ascending = False).iloc[0,:]\n",
        "print(\"The Product with the Maximum Claim Ratio : \" + Max_Claim_Product['Product Name'])"
      ],
      "execution_count": null,
      "outputs": [
        {
          "output_type": "stream",
          "text": [
            "The Product with the Maximum Claim Ratio : Bronze Plan\n"
          ],
          "name": "stdout"
        }
      ]
    },
    {
      "cell_type": "code",
      "metadata": {
        "id": "a7b-47IeFDyT",
        "colab_type": "code",
        "colab": {
          "base_uri": "https://localhost:8080/",
          "height": 85
        },
        "outputId": "f851c83b-ae8f-4f5b-e803-cbe4126507b2"
      },
      "source": [
        "data_combined['Product Name'].unique()"
      ],
      "execution_count": null,
      "outputs": [
        {
          "output_type": "execute_result",
          "data": {
            "text/plain": [
              "array(['Cancellation Plan', 'Rental Vehicle Excess Insurance',\n",
              "       '2 way Comprehensive Plan', 'Basic Plan', 'Bronze Plan',\n",
              "       'Silver Plan', '1 way Comprehensive Plan', 'Value Plan',\n",
              "       'Annual Silver Plan', 'OTHER', 'Ticket Protector'], dtype=object)"
            ]
          },
          "metadata": {
            "tags": []
          },
          "execution_count": 66
        }
      ]
    },
    {
      "cell_type": "code",
      "metadata": {
        "id": "tJfWR9isFeWL",
        "colab_type": "code",
        "colab": {
          "base_uri": "https://localhost:8080/",
          "height": 282
        },
        "outputId": "df1b16bd-9a63-4189-ae2d-5bba8f5b166e"
      },
      "source": [
        "data_combined[data_combined['Product Name'] == 'Cancellation Plan']['Commision (in value)'].hist(bins = 5)"
      ],
      "execution_count": null,
      "outputs": [
        {
          "output_type": "execute_result",
          "data": {
            "text/plain": [
              "<matplotlib.axes._subplots.AxesSubplot at 0x7f91e479c358>"
            ]
          },
          "metadata": {
            "tags": []
          },
          "execution_count": 67
        },
        {
          "output_type": "display_data",
          "data": {
            "image/png": "[encoded data removed]",
            "text/plain": [
              "<Figure size 432x288 with 1 Axes>"
            ]
          },
          "metadata": {
            "tags": [],
            "needs_background": "light"
          }
        }
      ]
    },
    {
      "cell_type": "code",
      "metadata": {
        "id": "7kWSs6KhgiOw",
        "colab_type": "code",
        "colab": {
          "base_uri": "https://localhost:8080/",
          "height": 1000
        },
        "outputId": "6c32f700-af33-4133-ee10-8b502b013510"
      },
      "source": [
        "for i in data_combined['Product Name'].unique():\n",
        "  print(i)\n",
        "  data_combined[data_combined['Product Name'] == i]['Commision (in value)'].hist(bins = 7)\n",
        "  plt.show()"
      ],
      "execution_count": null,
      "outputs": [
        {
          "output_type": "stream",
          "text": [
            "Cancellation Plan\n"
          ],
          "name": "stdout"
        },
        {
          "output_type": "display_data",
          "data": {
            "image/png": "[encoded data removed]",
            "text/plain": [
              "<Figure size 432x288 with 1 Axes>"
            ]
          },
          "metadata": {
            "tags": [],
            "needs_background": "light"
          }
        },
        {
          "output_type": "stream",
          "text": [
            "Rental Vehicle Excess Insurance\n"
          ],
          "name": "stdout"
        },
        {
          "output_type": "display_data",
          "data": {
            "image/png": "[encoded data removed]",
            "text/plain": [
              "<Figure size 432x288 with 1 Axes>"
            ]
          },
          "metadata": {
            "tags": [],
            "needs_background": "light"
          }
        },
        {
          "output_type": "stream",
          "text": [
            "2 way Comprehensive Plan\n"
          ],
          "name": "stdout"
        },
        {
          "output_type": "display_data",
          "data": {
            "image/png": "[encoded data removed]",
            "text/plain": [
              "<Figure size 432x288 with 1 Axes>"
            ]
          },
          "metadata": {
            "tags": [],
            "needs_background": "light"
          }
        },
        {
          "output_type": "stream",
          "text": [
            "Basic Plan\n"
          ],
          "name": "stdout"
        },
        {
          "output_type": "display_data",
          "data": {
            "image/png": "[encoded data removed]",
            "text/plain": [
              "<Figure size 432x288 with 1 Axes>"
            ]
          },
          "metadata": {
            "tags": [],
            "needs_background": "light"
          }
        },
        {
          "output_type": "stream",
          "text": [
            "Bronze Plan\n"
          ],
          "name": "stdout"
        },
        {
          "output_type": "display_data",
          "data": {
            "image/png": "[encoded data removed]",
            "text/plain": [
              "<Figure size 432x288 with 1 Axes>"
            ]
          },
          "metadata": {
            "tags": [],
            "needs_background": "light"
          }
        },
        {
          "output_type": "stream",
          "text": [
            "Silver Plan\n"
          ],
          "name": "stdout"
        },
        {
          "output_type": "display_data",
          "data": {
            "image/png": "[encoded data removed]",
            "text/plain": [
              "<Figure size 432x288 with 1 Axes>"
            ]
          },
          "metadata": {
            "tags": [],
            "needs_background": "light"
          }
        },
        {
          "output_type": "stream",
          "text": [
            "1 way Comprehensive Plan\n"
          ],
          "name": "stdout"
        },
        {
          "output_type": "display_data",
          "data": {
            "image/png": "[encoded data removed]",
            "text/plain": [
              "<Figure size 432x288 with 1 Axes>"
            ]
          },
          "metadata": {
            "tags": [],
            "needs_background": "light"
          }
        },
        {
          "output_type": "stream",
          "text": [
            "Value Plan\n"
          ],
          "name": "stdout"
        },
        {
          "output_type": "display_data",
          "data": {
            "image/png": "[encoded data removed]",
            "text/plain": [
              "<Figure size 432x288 with 1 Axes>"
            ]
          },
          "metadata": {
            "tags": [],
            "needs_background": "light"
          }
        },
        {
          "output_type": "stream",
          "text": [
            "Annual Silver Plan\n"
          ],
          "name": "stdout"
        },
        {
          "output_type": "display_data",
          "data": {
            "image/png": "[encoded data removed]",
            "text/plain": [
              "<Figure size 432x288 with 1 Axes>"
            ]
          },
          "metadata": {
            "tags": [],
            "needs_background": "light"
          }
        },
        {
          "output_type": "stream",
          "text": [
            "OTHER\n"
          ],
          "name": "stdout"
        },
        {
          "output_type": "display_data",
          "data": {
            "image/png": "[encoded data removed]",
            "text/plain": [
              "<Figure size 432x288 with 1 Axes>"
            ]
          },
          "metadata": {
            "tags": [],
            "needs_background": "light"
          }
        },
        {
          "output_type": "stream",
          "text": [
            "Ticket Protector\n"
          ],
          "name": "stdout"
        },
        {
          "output_type": "display_data",
          "data": {
            "image/png": "[encoded data removed]",
            "text/plain": [
              "<Figure size 432x288 with 1 Axes>"
            ]
          },
          "metadata": {
            "tags": [],
            "needs_background": "light"
          }
        }
      ]
    },
    {
      "cell_type": "code",
      "metadata": {
        "id": "5pc-8kUJhBb0",
        "colab_type": "code",
        "colab": {
          "base_uri": "https://localhost:8080/",
          "height": 265
        },
        "outputId": "84a81717-1d45-4eff-c5e4-3afd8b0acf72"
      },
      "source": [
        "data_combined['Commision (in value)'].hist()\n",
        "plt.show()"
      ],
      "execution_count": null,
      "outputs": [
        {
          "output_type": "display_data",
          "data": {
            "image/png": "[encoded data removed]",
            "text/plain": [
              "<Figure size 432x288 with 1 Axes>"
            ]
          },
          "metadata": {
            "tags": [],
            "needs_background": "light"
          }
        }
      ]
    },
    {
      "cell_type": "code",
      "metadata": {
        "id": "-Xjqa8P7oEdX",
        "colab_type": "code",
        "colab": {
          "base_uri": "https://localhost:8080/",
          "height": 34
        },
        "outputId": "37fd587f-42b7-4f50-9ddf-0058099cf362"
      },
      "source": [
        "Products_Commission_stats = data_combined.groupby(['Product Name'],as_index=False)['Commision (in value)'].sum().sort_values(by ='Commision (in value)',ascending = False)\n",
        "Max_Commission_EArned_Product = Products_Commission_stats.iloc[0]\n",
        "print(\"The Product where Maximum Commission was earned : \" + Max_Commission_EArned_Product['Product Name'])"
      ],
      "execution_count": null,
      "outputs": [
        {
          "output_type": "stream",
          "text": [
            "The Product where Maximum Commission was earned : Rental Vehicle Excess Insurance\n"
          ],
          "name": "stdout"
        }
      ]
    },
    {
      "cell_type": "code",
      "metadata": {
        "id": "UcGnNG1xpU7n",
        "colab_type": "code",
        "colab": {
          "base_uri": "https://localhost:8080/",
          "height": 390
        },
        "outputId": "914c6690-a3f3-47a5-b7ff-58c0a95e4aa9"
      },
      "source": [
        "Products_Commission_stats"
      ],
      "execution_count": null,
      "outputs": [
        {
          "output_type": "execute_result",
          "data": {
            "text/html": [
              "<div>\n",
              "<style scoped>\n",
              "    .dataframe tbody tr th:only-of-type {\n",
              "        vertical-align: middle;\n",
              "    }\n",
              "\n",
              "    .dataframe tbody tr th {\n",
              "        vertical-align: top;\n",
              "    }\n",
              "\n",
              "    .dataframe thead th {\n",
              "        text-align: right;\n",
              "    }\n",
              "</style>\n",
              "<table border=\"1\" class=\"dataframe\">\n",
              "  <thead>\n",
              "    <tr style=\"text-align: right;\">\n",
              "      <th></th>\n",
              "      <th>Product Name</th>\n",
              "      <th>Commision (in value)</th>\n",
              "    </tr>\n",
              "  </thead>\n",
              "  <tbody>\n",
              "    <tr>\n",
              "      <th>7</th>\n",
              "      <td>Rental Vehicle Excess Insurance</td>\n",
              "      <td>282357.405620</td>\n",
              "    </tr>\n",
              "    <tr>\n",
              "      <th>2</th>\n",
              "      <td>Annual Silver Plan</td>\n",
              "      <td>192896.938799</td>\n",
              "    </tr>\n",
              "    <tr>\n",
              "      <th>6</th>\n",
              "      <td>OTHER</td>\n",
              "      <td>157428.793190</td>\n",
              "    </tr>\n",
              "    <tr>\n",
              "      <th>8</th>\n",
              "      <td>Silver Plan</td>\n",
              "      <td>61224.001010</td>\n",
              "    </tr>\n",
              "    <tr>\n",
              "      <th>4</th>\n",
              "      <td>Bronze Plan</td>\n",
              "      <td>59601.992795</td>\n",
              "    </tr>\n",
              "    <tr>\n",
              "      <th>3</th>\n",
              "      <td>Basic Plan</td>\n",
              "      <td>54158.316556</td>\n",
              "    </tr>\n",
              "    <tr>\n",
              "      <th>10</th>\n",
              "      <td>Value Plan</td>\n",
              "      <td>51722.919611</td>\n",
              "    </tr>\n",
              "    <tr>\n",
              "      <th>9</th>\n",
              "      <td>Ticket Protector</td>\n",
              "      <td>2084.777841</td>\n",
              "    </tr>\n",
              "    <tr>\n",
              "      <th>1</th>\n",
              "      <td>2 way Comprehensive Plan</td>\n",
              "      <td>435.773809</td>\n",
              "    </tr>\n",
              "    <tr>\n",
              "      <th>5</th>\n",
              "      <td>Cancellation Plan</td>\n",
              "      <td>130.954791</td>\n",
              "    </tr>\n",
              "    <tr>\n",
              "      <th>0</th>\n",
              "      <td>1 way Comprehensive Plan</td>\n",
              "      <td>65.816178</td>\n",
              "    </tr>\n",
              "  </tbody>\n",
              "</table>\n",
              "</div>"
            ],
            "text/plain": [
              "                       Product Name  Commision (in value)\n",
              "7   Rental Vehicle Excess Insurance         282357.405620\n",
              "2                Annual Silver Plan         192896.938799\n",
              "6                             OTHER         157428.793190\n",
              "8                       Silver Plan          61224.001010\n",
              "4                       Bronze Plan          59601.992795\n",
              "3                        Basic Plan          54158.316556\n",
              "10                       Value Plan          51722.919611\n",
              "9                  Ticket Protector           2084.777841\n",
              "1          2 way Comprehensive Plan            435.773809\n",
              "5                 Cancellation Plan            130.954791\n",
              "0          1 way Comprehensive Plan             65.816178"
            ]
          },
          "metadata": {
            "tags": []
          },
          "execution_count": 75
        }
      ]
    },
    {
      "cell_type": "code",
      "metadata": {
        "id": "id_xOroYRTCq",
        "colab_type": "code",
        "colab": {
          "base_uri": "https://localhost:8080/",
          "height": 85
        },
        "outputId": "4a6233d3-f448-4eb8-bc37-685e248e3745"
      },
      "source": [
        "data_combined.columns"
      ],
      "execution_count": null,
      "outputs": [
        {
          "output_type": "execute_result",
          "data": {
            "text/plain": [
              "Index(['ID', 'Agency', 'Agency Type', 'Distribution Channel', 'Product Name',\n",
              "       'Duration', 'Destination', 'Net Sales', 'Commision (in value)', 'Age',\n",
              "       'Destination_continent', 'Age_window', 'Claim'],\n",
              "      dtype='object')"
            ]
          },
          "metadata": {
            "tags": []
          },
          "execution_count": 76
        }
      ]
    },
    {
      "cell_type": "code",
      "metadata": {
        "id": "2VAUiUpoHdg9",
        "colab_type": "code",
        "colab": {}
      },
      "source": [
        "import pycountry_convert as pc\n",
        "\n",
        "def contry_to_country_code(name):\n",
        "    return pc.country_name_to_country_alpha3(name, cn_name_format=\"default\")\n"
      ],
      "execution_count": null,
      "outputs": []
    },
    {
      "cell_type": "code",
      "metadata": {
        "id": "WXKuk-37DnMV",
        "colab_type": "code",
        "colab": {}
      },
      "source": [
        "data_combined['Country_Code']=data_combined['Destination'].apply(lambda x: contry_to_country_code(x))\n",
        "#data_combined['Continent_Code']=data_combined['Destination'].apply(lambda x: contry_to_continent(x))\n",
        "Contry_Travel_Stats = data_combined.groupby(['Destination','Country_Code','Destination_continent'],as_index=False).count().sort_values(by ='Country_Code',ascending = False).iloc[:,:4]\n",
        "Contry_Travel_Stats.rename(columns={'ID':'Count'},inplace=True)"
      ],
      "execution_count": null,
      "outputs": []
    },
    {
      "cell_type": "code",
      "metadata": {
        "id": "APBT-gpERcSf",
        "colab_type": "code",
        "colab": {
          "base_uri": "https://localhost:8080/",
          "height": 419
        },
        "outputId": "67974d3d-e33b-41bd-8a18-67748e24fccf"
      },
      "source": [
        "Contry_Travel_Stats"
      ],
      "execution_count": null,
      "outputs": [
        {
          "output_type": "execute_result",
          "data": {
            "text/html": [
              "<div>\n",
              "<style scoped>\n",
              "    .dataframe tbody tr th:only-of-type {\n",
              "        vertical-align: middle;\n",
              "    }\n",
              "\n",
              "    .dataframe tbody tr th {\n",
              "        vertical-align: top;\n",
              "    }\n",
              "\n",
              "    .dataframe thead th {\n",
              "        text-align: right;\n",
              "    }\n",
              "</style>\n",
              "<table border=\"1\" class=\"dataframe\">\n",
              "  <thead>\n",
              "    <tr style=\"text-align: right;\">\n",
              "      <th></th>\n",
              "      <th>Destination</th>\n",
              "      <th>Country_Code</th>\n",
              "      <th>Destination_continent</th>\n",
              "      <th>Count</th>\n",
              "    </tr>\n",
              "  </thead>\n",
              "  <tbody>\n",
              "    <tr>\n",
              "      <th>96</th>\n",
              "      <td>Zambia</td>\n",
              "      <td>ZMB</td>\n",
              "      <td>Africa</td>\n",
              "      <td>3</td>\n",
              "    </tr>\n",
              "    <tr>\n",
              "      <th>76</th>\n",
              "      <td>South Africa</td>\n",
              "      <td>ZAF</td>\n",
              "      <td>Africa</td>\n",
              "      <td>227</td>\n",
              "    </tr>\n",
              "    <tr>\n",
              "      <th>93</th>\n",
              "      <td>Vanuatu</td>\n",
              "      <td>VUT</td>\n",
              "      <td>Oceania</td>\n",
              "      <td>5</td>\n",
              "    </tr>\n",
              "    <tr>\n",
              "      <th>95</th>\n",
              "      <td>Viet Nam</td>\n",
              "      <td>VNM</td>\n",
              "      <td>Asia</td>\n",
              "      <td>1778</td>\n",
              "    </tr>\n",
              "    <tr>\n",
              "      <th>94</th>\n",
              "      <td>Venezuela</td>\n",
              "      <td>VEN</td>\n",
              "      <td>South America</td>\n",
              "      <td>5</td>\n",
              "    </tr>\n",
              "    <tr>\n",
              "      <th>...</th>\n",
              "      <td>...</td>\n",
              "      <td>...</td>\n",
              "      <td>...</td>\n",
              "      <td>...</td>\n",
              "    </tr>\n",
              "    <tr>\n",
              "      <th>3</th>\n",
              "      <td>Azerbaijan</td>\n",
              "      <td>AZE</td>\n",
              "      <td>Asia</td>\n",
              "      <td>8</td>\n",
              "    </tr>\n",
              "    <tr>\n",
              "      <th>2</th>\n",
              "      <td>Austria</td>\n",
              "      <td>AUT</td>\n",
              "      <td>Europe</td>\n",
              "      <td>102</td>\n",
              "    </tr>\n",
              "    <tr>\n",
              "      <th>1</th>\n",
              "      <td>Australia</td>\n",
              "      <td>AUS</td>\n",
              "      <td>Oceania</td>\n",
              "      <td>4294</td>\n",
              "    </tr>\n",
              "    <tr>\n",
              "      <th>0</th>\n",
              "      <td>Argentina</td>\n",
              "      <td>ARG</td>\n",
              "      <td>South America</td>\n",
              "      <td>22</td>\n",
              "    </tr>\n",
              "    <tr>\n",
              "      <th>89</th>\n",
              "      <td>United Arab Emirates</td>\n",
              "      <td>ARE</td>\n",
              "      <td>Asia</td>\n",
              "      <td>286</td>\n",
              "    </tr>\n",
              "  </tbody>\n",
              "</table>\n",
              "<p>97 rows × 4 columns</p>\n",
              "</div>"
            ],
            "text/plain": [
              "             Destination Country_Code Destination_continent  Count\n",
              "96                Zambia          ZMB                Africa      3\n",
              "76          South Africa          ZAF                Africa    227\n",
              "93               Vanuatu          VUT               Oceania      5\n",
              "95              Viet Nam          VNM                  Asia   1778\n",
              "94             Venezuela          VEN         South America      5\n",
              "..                   ...          ...                   ...    ...\n",
              "3             Azerbaijan          AZE                  Asia      8\n",
              "2                Austria          AUT                Europe    102\n",
              "1              Australia          AUS               Oceania   4294\n",
              "0              Argentina          ARG         South America     22\n",
              "89  United Arab Emirates          ARE                  Asia    286\n",
              "\n",
              "[97 rows x 4 columns]"
            ]
          },
          "metadata": {
            "tags": []
          },
          "execution_count": 80
        }
      ]
    },
    {
      "cell_type": "code",
      "metadata": {
        "id": "oyTgPKBer3hL",
        "colab_type": "code",
        "colab": {
          "base_uri": "https://localhost:8080/",
          "height": 542
        },
        "outputId": "7d0b6065-3f71-4f80-cc5f-607bee690f87"
      },
      "source": [
        "import plotly.express as px\n",
        "df = Contry_Travel_Stats.copy()\n",
        "fig = px.scatter_geo(df, locations=\"Country_Code\",color=\"Destination\",\n",
        "                     hover_name=\"Destination\", size=df.Count, size_max=75,projection='natural earth')\n",
        "\n",
        "fig.update_layout({\n",
        "    'geo': {\n",
        "        'resolution': 50\n",
        "    }\n",
        "})\n",
        "\n",
        "fig.show()"
      ],
      "execution_count": null,
      "outputs": [
        {
          "output_type": "display_data",
          "data": {
            "text/html": [
              "<html>\n",
              "<head><meta charset=\"utf-8\" /></head>\n",
              "<body>\n",
              "    <div>\n",
              "            <script src=\"https://cdnjs.cloudflare.com/ajax/libs/mathjax/2.7.5/MathJax.js?config=TeX-AMS-MML_SVG\"></script><script type=\"text/javascript\">if (window.MathJax) {MathJax.Hub.Config({SVG: {font: \"STIX-Web\"}});}</script>\n",
              "                <script type=\"text/javascript\">window.PlotlyConfig = {MathJaxConfig: 'local'};</script>\n",
              "        <script src=\"https://cdn.plot.ly/plotly-latest.min.js\"></script>    \n",
              "            <div id=\"7bf09055-3909-4363-8cb0-3eb5e87e7912\" class=\"plotly-graph-div\" style=\"height:525px; width:100%;\"></div>\n",
              "            <script type=\"text/javascript\">\n",
              "                \n",
              "                    window.PLOTLYENV=window.PLOTLYENV || {};\n",
              "                    \n",
              "                if (document.getElementById(\"7bf09055-3909-4363-8cb0-3eb5e87e7912\")) {\n",
              "                    Plotly.newPlot(\n",
              "                        '7bf09055-3909-4363-8cb0-3eb5e87e7912',\n",
              "                        [{\"geo\": \"geo\", \"hoverlabel\": {\"namelength\": 0}, \"hovertemplate\": \"<b>%{hovertext}</b><br><br>Destination=Zambia<br>Count=%{marker.size}<br>Country_Code=%{location}\", \"hovertext\": [\"Zambia\"], \"legendgroup\": \"Destination=Zambia\", \"locations\": [\"ZMB\"], \"marker\": {\"color\": \"#636efa\", \"size\": [3], \"sizemode\": \"area\", \"sizeref\": 3.6122666666666667}, \"name\": \"Destination=Zambia\", \"showlegend\": true, \"type\": \"scattergeo\"}, {\"geo\": \"geo\", \"hoverlabel\": {\"namelength\": 0}, \"hovertemplate\": \"<b>%{hovertext}</b><br><br>Destination=South Africa<br>Count=%{marker.size}<br>Country_Code=%{location}\", \"hovertext\": [\"South Africa\"], \"legendgroup\": \"Destination=South Africa\", \"locations\": [\"ZAF\"], \"marker\": {\"color\": \"#EF553B\", \"size\": [227], \"sizemode\": \"area\", \"sizeref\": 3.6122666666666667}, \"name\": \"Destination=South Africa\", \"showlegend\": true, \"type\": \"scattergeo\"}, {\"geo\": \"geo\", \"hoverlabel\": {\"namelength\": 0}, \"hovertemplate\": \"<b>%{hovertext}</b><br><br>Destination=Vanuatu<br>Count=%{marker.size}<br>Country_Code=%{location}\", \"hovertext\": [\"Vanuatu\"], \"legendgroup\": \"Destination=Vanuatu\", \"locations\": [\"VUT\"], \"marker\": {\"color\": \"#00cc96\", \"size\": [5], \"sizemode\": \"area\", \"sizeref\": 3.6122666666666667}, \"name\": \"Destination=Vanuatu\", \"showlegend\": true, \"type\": \"scattergeo\"}, {\"geo\": \"geo\", \"hoverlabel\": {\"namelength\": 0}, \"hovertemplate\": \"<b>%{hovertext}</b><br><br>Destination=Viet Nam<br>Count=%{marker.size}<br>Country_Code=%{location}\", \"hovertext\": [\"Viet Nam\"], \"legendgroup\": \"Destination=Viet Nam\", \"locations\": [\"VNM\"], \"marker\": {\"color\": \"#ab63fa\", \"size\": [1778], \"sizemode\": \"area\", \"sizeref\": 3.6122666666666667}, \"name\": \"Destination=Viet Nam\", \"showlegend\": true, \"type\": \"scattergeo\"}, {\"geo\": \"geo\", \"hoverlabel\": {\"namelength\": 0}, \"hovertemplate\": \"<b>%{hovertext}</b><br><br>Destination=Venezuela<br>Count=%{marker.size}<br>Country_Code=%{location}\", \"hovertext\": [\"Venezuela\"], \"legendgroup\": \"Destination=Venezuela\", \"locations\": [\"VEN\"], \"marker\": {\"color\": \"#FFA15A\", \"size\": [5], \"sizemode\": \"area\", \"sizeref\": 3.6122666666666667}, \"name\": \"Destination=Venezuela\", \"showlegend\": true, \"type\": \"scattergeo\"}, {\"geo\": \"geo\", \"hoverlabel\": {\"namelength\": 0}, \"hovertemplate\": \"<b>%{hovertext}</b><br><br>Destination=Uzbekistan<br>Count=%{marker.size}<br>Country_Code=%{location}\", \"hovertext\": [\"Uzbekistan\"], \"legendgroup\": \"Destination=Uzbekistan\", \"locations\": [\"UZB\"], \"marker\": {\"color\": \"#19d3f3\", \"size\": [10], \"sizemode\": \"area\", \"sizeref\": 3.6122666666666667}, \"name\": \"Destination=Uzbekistan\", \"showlegend\": true, \"type\": \"scattergeo\"}, {\"geo\": \"geo\", \"hoverlabel\": {\"namelength\": 0}, \"hovertemplate\": \"<b>%{hovertext}</b><br><br>Destination=United States<br>Count=%{marker.size}<br>Country_Code=%{location}\", \"hovertext\": [\"United States\"], \"legendgroup\": \"Destination=United States\", \"locations\": [\"USA\"], \"marker\": {\"color\": \"#FF6692\", \"size\": [3117], \"sizemode\": \"area\", \"sizeref\": 3.6122666666666667}, \"name\": \"Destination=United States\", \"showlegend\": true, \"type\": \"scattergeo\"}, {\"geo\": \"geo\", \"hoverlabel\": {\"namelength\": 0}, \"hovertemplate\": \"<b>%{hovertext}</b><br><br>Destination=Ukraine<br>Count=%{marker.size}<br>Country_Code=%{location}\", \"hovertext\": [\"Ukraine\"], \"legendgroup\": \"Destination=Ukraine\", \"locations\": [\"UKR\"], \"marker\": {\"color\": \"#B6E880\", \"size\": [10], \"sizemode\": \"area\", \"sizeref\": 3.6122666666666667}, \"name\": \"Destination=Ukraine\", \"showlegend\": true, \"type\": \"scattergeo\"}, {\"geo\": \"geo\", \"hoverlabel\": {\"namelength\": 0}, \"hovertemplate\": \"<b>%{hovertext}</b><br><br>Destination=Tanzania<br>Count=%{marker.size}<br>Country_Code=%{location}\", \"hovertext\": [\"Tanzania\"], \"legendgroup\": \"Destination=Tanzania\", \"locations\": [\"TZA\"], \"marker\": {\"color\": \"#FF97FF\", \"size\": [21], \"sizemode\": \"area\", \"sizeref\": 3.6122666666666667}, \"name\": \"Destination=Tanzania\", \"showlegend\": true, \"type\": \"scattergeo\"}, {\"geo\": \"geo\", \"hoverlabel\": {\"namelength\": 0}, \"hovertemplate\": \"<b>%{hovertext}</b><br><br>Destination=Taiwan<br>Count=%{marker.size}<br>Country_Code=%{location}\", \"hovertext\": [\"Taiwan\"], \"legendgroup\": \"Destination=Taiwan\", \"locations\": [\"TWN\"], \"marker\": {\"color\": \"#FECB52\", \"size\": [1194], \"sizemode\": \"area\", \"sizeref\": 3.6122666666666667}, \"name\": \"Destination=Taiwan\", \"showlegend\": true, \"type\": \"scattergeo\"}, {\"geo\": \"geo\", \"hoverlabel\": {\"namelength\": 0}, \"hovertemplate\": \"<b>%{hovertext}</b><br><br>Destination=Turkey<br>Count=%{marker.size}<br>Country_Code=%{location}\", \"hovertext\": [\"Turkey\"], \"legendgroup\": \"Destination=Turkey\", \"locations\": [\"TUR\"], \"marker\": {\"color\": \"#636efa\", \"size\": [93], \"sizemode\": \"area\", \"sizeref\": 3.6122666666666667}, \"name\": \"Destination=Turkey\", \"showlegend\": true, \"type\": \"scattergeo\"}, {\"geo\": \"geo\", \"hoverlabel\": {\"namelength\": 0}, \"hovertemplate\": \"<b>%{hovertext}</b><br><br>Destination=Tunisia<br>Count=%{marker.size}<br>Country_Code=%{location}\", \"hovertext\": [\"Tunisia\"], \"legendgroup\": \"Destination=Tunisia\", \"locations\": [\"TUN\"], \"marker\": {\"color\": \"#EF553B\", \"size\": [7], \"sizemode\": \"area\", \"sizeref\": 3.6122666666666667}, \"name\": \"Destination=Tunisia\", \"showlegend\": true, \"type\": \"scattergeo\"}, {\"geo\": \"geo\", \"hoverlabel\": {\"namelength\": 0}, \"hovertemplate\": \"<b>%{hovertext}</b><br><br>Destination=Turkmenistan<br>Count=%{marker.size}<br>Country_Code=%{location}\", \"hovertext\": [\"Turkmenistan\"], \"legendgroup\": \"Destination=Turkmenistan\", \"locations\": [\"TKM\"], \"marker\": {\"color\": \"#00cc96\", \"size\": [2], \"sizemode\": \"area\", \"sizeref\": 3.6122666666666667}, \"name\": \"Destination=Turkmenistan\", \"showlegend\": true, \"type\": \"scattergeo\"}, {\"geo\": \"geo\", \"hoverlabel\": {\"namelength\": 0}, \"hovertemplate\": \"<b>%{hovertext}</b><br><br>Destination=Thailand<br>Count=%{marker.size}<br>Country_Code=%{location}\", \"hovertext\": [\"Thailand\"], \"legendgroup\": \"Destination=Thailand\", \"locations\": [\"THA\"], \"marker\": {\"color\": \"#ab63fa\", \"size\": [6523], \"sizemode\": \"area\", \"sizeref\": 3.6122666666666667}, \"name\": \"Destination=Thailand\", \"showlegend\": true, \"type\": \"scattergeo\"}, {\"geo\": \"geo\", \"hoverlabel\": {\"namelength\": 0}, \"hovertemplate\": \"<b>%{hovertext}</b><br><br>Destination=Sweden<br>Count=%{marker.size}<br>Country_Code=%{location}\", \"hovertext\": [\"Sweden\"], \"legendgroup\": \"Destination=Sweden\", \"locations\": [\"SWE\"], \"marker\": {\"color\": \"#FFA15A\", \"size\": [64], \"sizemode\": \"area\", \"sizeref\": 3.6122666666666667}, \"name\": \"Destination=Sweden\", \"showlegend\": true, \"type\": \"scattergeo\"}, {\"geo\": \"geo\", \"hoverlabel\": {\"namelength\": 0}, \"hovertemplate\": \"<b>%{hovertext}</b><br><br>Destination=Slovenia<br>Count=%{marker.size}<br>Country_Code=%{location}\", \"hovertext\": [\"Slovenia\"], \"legendgroup\": \"Destination=Slovenia\", \"locations\": [\"SVN\"], \"marker\": {\"color\": \"#19d3f3\", \"size\": [10], \"sizemode\": \"area\", \"sizeref\": 3.6122666666666667}, \"name\": \"Destination=Slovenia\", \"showlegend\": true, \"type\": \"scattergeo\"}, {\"geo\": \"geo\", \"hoverlabel\": {\"namelength\": 0}, \"hovertemplate\": \"<b>%{hovertext}</b><br><br>Destination=Singapore<br>Count=%{marker.size}<br>Country_Code=%{location}\", \"hovertext\": [\"Singapore\"], \"legendgroup\": \"Destination=Singapore\", \"locations\": [\"SGP\"], \"marker\": {\"color\": \"#FF6692\", \"size\": [20319], \"sizemode\": \"area\", \"sizeref\": 3.6122666666666667}, \"name\": \"Destination=Singapore\", \"showlegend\": true, \"type\": \"scattergeo\"}, {\"geo\": \"geo\", \"hoverlabel\": {\"namelength\": 0}, \"hovertemplate\": \"<b>%{hovertext}</b><br><br>Destination=Saudi Arabia<br>Count=%{marker.size}<br>Country_Code=%{location}\", \"hovertext\": [\"Saudi Arabia\"], \"legendgroup\": \"Destination=Saudi Arabia\", \"locations\": [\"SAU\"], \"marker\": {\"color\": \"#B6E880\", \"size\": [62], \"sizemode\": \"area\", \"sizeref\": 3.6122666666666667}, \"name\": \"Destination=Saudi Arabia\", \"showlegend\": true, \"type\": \"scattergeo\"}, {\"geo\": \"geo\", \"hoverlabel\": {\"namelength\": 0}, \"hovertemplate\": \"<b>%{hovertext}</b><br><br>Destination=Russian Federation<br>Count=%{marker.size}<br>Country_Code=%{location}\", \"hovertext\": [\"Russian Federation\"], \"legendgroup\": \"Destination=Russian Federation\", \"locations\": [\"RUS\"], \"marker\": {\"color\": \"#FF97FF\", \"size\": [80], \"sizemode\": \"area\", \"sizeref\": 3.6122666666666667}, \"name\": \"Destination=Russian Federation\", \"showlegend\": true, \"type\": \"scattergeo\"}, {\"geo\": \"geo\", \"hoverlabel\": {\"namelength\": 0}, \"hovertemplate\": \"<b>%{hovertext}</b><br><br>Destination=Romania<br>Count=%{marker.size}<br>Country_Code=%{location}\", \"hovertext\": [\"Romania\"], \"legendgroup\": \"Destination=Romania\", \"locations\": [\"ROU\"], \"marker\": {\"color\": \"#FECB52\", \"size\": [23], \"sizemode\": \"area\", \"sizeref\": 3.6122666666666667}, \"name\": \"Destination=Romania\", \"showlegend\": true, \"type\": \"scattergeo\"}, {\"geo\": \"geo\", \"hoverlabel\": {\"namelength\": 0}, \"hovertemplate\": \"<b>%{hovertext}</b><br><br>Destination=Qatar<br>Count=%{marker.size}<br>Country_Code=%{location}\", \"hovertext\": [\"Qatar\"], \"legendgroup\": \"Destination=Qatar\", \"locations\": [\"QAT\"], \"marker\": {\"color\": \"#636efa\", \"size\": [17], \"sizemode\": \"area\", \"sizeref\": 3.6122666666666667}, \"name\": \"Destination=Qatar\", \"showlegend\": true, \"type\": \"scattergeo\"}, {\"geo\": \"geo\", \"hoverlabel\": {\"namelength\": 0}, \"hovertemplate\": \"<b>%{hovertext}</b><br><br>Destination=Portugal<br>Count=%{marker.size}<br>Country_Code=%{location}\", \"hovertext\": [\"Portugal\"], \"legendgroup\": \"Destination=Portugal\", \"locations\": [\"PRT\"], \"marker\": {\"color\": \"#EF553B\", \"size\": [96], \"sizemode\": \"area\", \"sizeref\": 3.6122666666666667}, \"name\": \"Destination=Portugal\", \"showlegend\": true, \"type\": \"scattergeo\"}, {\"geo\": \"geo\", \"hoverlabel\": {\"namelength\": 0}, \"hovertemplate\": \"<b>%{hovertext}</b><br><br>Destination=Poland<br>Count=%{marker.size}<br>Country_Code=%{location}\", \"hovertext\": [\"Poland\"], \"legendgroup\": \"Destination=Poland\", \"locations\": [\"POL\"], \"marker\": {\"color\": \"#00cc96\", \"size\": [34], \"sizemode\": \"area\", \"sizeref\": 3.6122666666666667}, \"name\": \"Destination=Poland\", \"showlegend\": true, \"type\": \"scattergeo\"}, {\"geo\": \"geo\", \"hoverlabel\": {\"namelength\": 0}, \"hovertemplate\": \"<b>%{hovertext}</b><br><br>Destination=Philippines<br>Count=%{marker.size}<br>Country_Code=%{location}\", \"hovertext\": [\"Philippines\"], \"legendgroup\": \"Destination=Philippines\", \"locations\": [\"PHL\"], \"marker\": {\"color\": \"#ab63fa\", \"size\": [2603], \"sizemode\": \"area\", \"sizeref\": 3.6122666666666667}, \"name\": \"Destination=Philippines\", \"showlegend\": true, \"type\": \"scattergeo\"}, {\"geo\": \"geo\", \"hoverlabel\": {\"namelength\": 0}, \"hovertemplate\": \"<b>%{hovertext}</b><br><br>Destination=Peru<br>Count=%{marker.size}<br>Country_Code=%{location}\", \"hovertext\": [\"Peru\"], \"legendgroup\": \"Destination=Peru\", \"locations\": [\"PER\"], \"marker\": {\"color\": \"#FFA15A\", \"size\": [92], \"sizemode\": \"area\", \"sizeref\": 3.6122666666666667}, \"name\": \"Destination=Peru\", \"showlegend\": true, \"type\": \"scattergeo\"}, {\"geo\": \"geo\", \"hoverlabel\": {\"namelength\": 0}, \"hovertemplate\": \"<b>%{hovertext}</b><br><br>Destination=Pakistan<br>Count=%{marker.size}<br>Country_Code=%{location}\", \"hovertext\": [\"Pakistan\"], \"legendgroup\": \"Destination=Pakistan\", \"locations\": [\"PAK\"], \"marker\": {\"color\": \"#19d3f3\", \"size\": [29], \"sizemode\": \"area\", \"sizeref\": 3.6122666666666667}, \"name\": \"Destination=Pakistan\", \"showlegend\": true, \"type\": \"scattergeo\"}, {\"geo\": \"geo\", \"hoverlabel\": {\"namelength\": 0}, \"hovertemplate\": \"<b>%{hovertext}</b><br><br>Destination=Oman<br>Count=%{marker.size}<br>Country_Code=%{location}\", \"hovertext\": [\"Oman\"], \"legendgroup\": \"Destination=Oman\", \"locations\": [\"OMN\"], \"marker\": {\"color\": \"#FF6692\", \"size\": [18], \"sizemode\": \"area\", \"sizeref\": 3.6122666666666667}, \"name\": \"Destination=Oman\", \"showlegend\": true, \"type\": \"scattergeo\"}, {\"geo\": \"geo\", \"hoverlabel\": {\"namelength\": 0}, \"hovertemplate\": \"<b>%{hovertext}</b><br><br>Destination=New Zealand<br>Count=%{marker.size}<br>Country_Code=%{location}\", \"hovertext\": [\"New Zealand\"], \"legendgroup\": \"Destination=New Zealand\", \"locations\": [\"NZL\"], \"marker\": {\"color\": \"#B6E880\", \"size\": [549], \"sizemode\": \"area\", \"sizeref\": 3.6122666666666667}, \"name\": \"Destination=New Zealand\", \"showlegend\": true, \"type\": \"scattergeo\"}, {\"geo\": \"geo\", \"hoverlabel\": {\"namelength\": 0}, \"hovertemplate\": \"<b>%{hovertext}</b><br><br>Destination=Nepal<br>Count=%{marker.size}<br>Country_Code=%{location}\", \"hovertext\": [\"Nepal\"], \"legendgroup\": \"Destination=Nepal\", \"locations\": [\"NPL\"], \"marker\": {\"color\": \"#FF97FF\", \"size\": [179], \"sizemode\": \"area\", \"sizeref\": 3.6122666666666667}, \"name\": \"Destination=Nepal\", \"showlegend\": true, \"type\": \"scattergeo\"}, {\"geo\": \"geo\", \"hoverlabel\": {\"namelength\": 0}, \"hovertemplate\": \"<b>%{hovertext}</b><br><br>Destination=Norway<br>Count=%{marker.size}<br>Country_Code=%{location}\", \"hovertext\": [\"Norway\"], \"legendgroup\": \"Destination=Norway\", \"locations\": [\"NOR\"], \"marker\": {\"color\": \"#FECB52\", \"size\": [164], \"sizemode\": \"area\", \"sizeref\": 3.6122666666666667}, \"name\": \"Destination=Norway\", \"showlegend\": true, \"type\": \"scattergeo\"}, {\"geo\": \"geo\", \"hoverlabel\": {\"namelength\": 0}, \"hovertemplate\": \"<b>%{hovertext}</b><br><br>Destination=Netherlands<br>Count=%{marker.size}<br>Country_Code=%{location}\", \"hovertext\": [\"Netherlands\"], \"legendgroup\": \"Destination=Netherlands\", \"locations\": [\"NLD\"], \"marker\": {\"color\": \"#636efa\", \"size\": [438], \"sizemode\": \"area\", \"sizeref\": 3.6122666666666667}, \"name\": \"Destination=Netherlands\", \"showlegend\": true, \"type\": \"scattergeo\"}, {\"geo\": \"geo\", \"hoverlabel\": {\"namelength\": 0}, \"hovertemplate\": \"<b>%{hovertext}</b><br><br>Destination=Malaysia<br>Count=%{marker.size}<br>Country_Code=%{location}\", \"hovertext\": [\"Malaysia\"], \"legendgroup\": \"Destination=Malaysia\", \"locations\": [\"MYS\"], \"marker\": {\"color\": \"#EF553B\", \"size\": [6154], \"sizemode\": \"area\", \"sizeref\": 3.6122666666666667}, \"name\": \"Destination=Malaysia\", \"showlegend\": true, \"type\": \"scattergeo\"}, {\"geo\": \"geo\", \"hoverlabel\": {\"namelength\": 0}, \"hovertemplate\": \"<b>%{hovertext}</b><br><br>Destination=Mauritius<br>Count=%{marker.size}<br>Country_Code=%{location}\", \"hovertext\": [\"Mauritius\"], \"legendgroup\": \"Destination=Mauritius\", \"locations\": [\"MUS\"], \"marker\": {\"color\": \"#00cc96\", \"size\": [11], \"sizemode\": \"area\", \"sizeref\": 3.6122666666666667}, \"name\": \"Destination=Mauritius\", \"showlegend\": true, \"type\": \"scattergeo\"}, {\"geo\": \"geo\", \"hoverlabel\": {\"namelength\": 0}, \"hovertemplate\": \"<b>%{hovertext}</b><br><br>Destination=Mongolia<br>Count=%{marker.size}<br>Country_Code=%{location}\", \"hovertext\": [\"Mongolia\"], \"legendgroup\": \"Destination=Mongolia\", \"locations\": [\"MNG\"], \"marker\": {\"color\": \"#ab63fa\", \"size\": [44], \"sizemode\": \"area\", \"sizeref\": 3.6122666666666667}, \"name\": \"Destination=Mongolia\", \"showlegend\": true, \"type\": \"scattergeo\"}, {\"geo\": \"geo\", \"hoverlabel\": {\"namelength\": 0}, \"hovertemplate\": \"<b>%{hovertext}</b><br><br>Destination=Myanmar<br>Count=%{marker.size}<br>Country_Code=%{location}\", \"hovertext\": [\"Myanmar\"], \"legendgroup\": \"Destination=Myanmar\", \"locations\": [\"MMR\"], \"marker\": {\"color\": \"#FFA15A\", \"size\": [806], \"sizemode\": \"area\", \"sizeref\": 3.6122666666666667}, \"name\": \"Destination=Myanmar\", \"showlegend\": true, \"type\": \"scattergeo\"}, {\"geo\": \"geo\", \"hoverlabel\": {\"namelength\": 0}, \"hovertemplate\": \"<b>%{hovertext}</b><br><br>Destination=Malta<br>Count=%{marker.size}<br>Country_Code=%{location}\", \"hovertext\": [\"Malta\"], \"legendgroup\": \"Destination=Malta\", \"locations\": [\"MLT\"], \"marker\": {\"color\": \"#19d3f3\", \"size\": [11], \"sizemode\": \"area\", \"sizeref\": 3.6122666666666667}, \"name\": \"Destination=Malta\", \"showlegend\": true, \"type\": \"scattergeo\"}, {\"geo\": \"geo\", \"hoverlabel\": {\"namelength\": 0}, \"hovertemplate\": \"<b>%{hovertext}</b><br><br>Destination=Mexico<br>Count=%{marker.size}<br>Country_Code=%{location}\", \"hovertext\": [\"Mexico\"], \"legendgroup\": \"Destination=Mexico\", \"locations\": [\"MEX\"], \"marker\": {\"color\": \"#FF6692\", \"size\": [33], \"sizemode\": \"area\", \"sizeref\": 3.6122666666666667}, \"name\": \"Destination=Mexico\", \"showlegend\": true, \"type\": \"scattergeo\"}, {\"geo\": \"geo\", \"hoverlabel\": {\"namelength\": 0}, \"hovertemplate\": \"<b>%{hovertext}</b><br><br>Destination=Maldives<br>Count=%{marker.size}<br>Country_Code=%{location}\", \"hovertext\": [\"Maldives\"], \"legendgroup\": \"Destination=Maldives\", \"locations\": [\"MDV\"], \"marker\": {\"color\": \"#B6E880\", \"size\": [25], \"sizemode\": \"area\", \"sizeref\": 3.6122666666666667}, \"name\": \"Destination=Maldives\", \"showlegend\": true, \"type\": \"scattergeo\"}, {\"geo\": \"geo\", \"hoverlabel\": {\"namelength\": 0}, \"hovertemplate\": \"<b>%{hovertext}</b><br><br>Destination=Morocco<br>Count=%{marker.size}<br>Country_Code=%{location}\", \"hovertext\": [\"Morocco\"], \"legendgroup\": \"Destination=Morocco\", \"locations\": [\"MAR\"], \"marker\": {\"color\": \"#FF97FF\", \"size\": [15], \"sizemode\": \"area\", \"sizeref\": 3.6122666666666667}, \"name\": \"Destination=Morocco\", \"showlegend\": true, \"type\": \"scattergeo\"}, {\"geo\": \"geo\", \"hoverlabel\": {\"namelength\": 0}, \"hovertemplate\": \"<b>%{hovertext}</b><br><br>Destination=Macao<br>Count=%{marker.size}<br>Country_Code=%{location}\", \"hovertext\": [\"Macao\"], \"legendgroup\": \"Destination=Macao\", \"locations\": [\"MAC\"], \"marker\": {\"color\": \"#FECB52\", \"size\": [110], \"sizemode\": \"area\", \"sizeref\": 3.6122666666666667}, \"name\": \"Destination=Macao\", \"showlegend\": true, \"type\": \"scattergeo\"}, {\"geo\": \"geo\", \"hoverlabel\": {\"namelength\": 0}, \"hovertemplate\": \"<b>%{hovertext}</b><br><br>Destination=Luxembourg<br>Count=%{marker.size}<br>Country_Code=%{location}\", \"hovertext\": [\"Luxembourg\"], \"legendgroup\": \"Destination=Luxembourg\", \"locations\": [\"LUX\"], \"marker\": {\"color\": \"#636efa\", \"size\": [9], \"sizemode\": \"area\", \"sizeref\": 3.6122666666666667}, \"name\": \"Destination=Luxembourg\", \"showlegend\": true, \"type\": \"scattergeo\"}, {\"geo\": \"geo\", \"hoverlabel\": {\"namelength\": 0}, \"hovertemplate\": \"<b>%{hovertext}</b><br><br>Destination=Lithuania<br>Count=%{marker.size}<br>Country_Code=%{location}\", \"hovertext\": [\"Lithuania\"], \"legendgroup\": \"Destination=Lithuania\", \"locations\": [\"LTU\"], \"marker\": {\"color\": \"#EF553B\", \"size\": [5], \"sizemode\": \"area\", \"sizeref\": 3.6122666666666667}, \"name\": \"Destination=Lithuania\", \"showlegend\": true, \"type\": \"scattergeo\"}, {\"geo\": \"geo\", \"hoverlabel\": {\"namelength\": 0}, \"hovertemplate\": \"<b>%{hovertext}</b><br><br>Destination=Sri Lanka<br>Count=%{marker.size}<br>Country_Code=%{location}\", \"hovertext\": [\"Sri Lanka\"], \"legendgroup\": \"Destination=Sri Lanka\", \"locations\": [\"LKA\"], \"marker\": {\"color\": \"#00cc96\", \"size\": [256], \"sizemode\": \"area\", \"sizeref\": 3.6122666666666667}, \"name\": \"Destination=Sri Lanka\", \"showlegend\": true, \"type\": \"scattergeo\"}, {\"geo\": \"geo\", \"hoverlabel\": {\"namelength\": 0}, \"hovertemplate\": \"<b>%{hovertext}</b><br><br>Destination=Lebanon<br>Count=%{marker.size}<br>Country_Code=%{location}\", \"hovertext\": [\"Lebanon\"], \"legendgroup\": \"Destination=Lebanon\", \"locations\": [\"LBN\"], \"marker\": {\"color\": \"#ab63fa\", \"size\": [5], \"sizemode\": \"area\", \"sizeref\": 3.6122666666666667}, \"name\": \"Destination=Lebanon\", \"showlegend\": true, \"type\": \"scattergeo\"}, {\"geo\": \"geo\", \"hoverlabel\": {\"namelength\": 0}, \"hovertemplate\": \"<b>%{hovertext}</b><br><br>Destination=Lao People's Democratic Republic<br>Count=%{marker.size}<br>Country_Code=%{location}\", \"hovertext\": [\"Lao People's Democratic Republic\"], \"legendgroup\": \"Destination=Lao People's Democratic Republic\", \"locations\": [\"LAO\"], \"marker\": {\"color\": \"#FFA15A\", \"size\": [149], \"sizemode\": \"area\", \"sizeref\": 3.6122666666666667}, \"name\": \"Destination=Lao People's Democratic Republic\", \"showlegend\": true, \"type\": \"scattergeo\"}, {\"geo\": \"geo\", \"hoverlabel\": {\"namelength\": 0}, \"hovertemplate\": \"<b>%{hovertext}</b><br><br>Destination=Kuwait<br>Count=%{marker.size}<br>Country_Code=%{location}\", \"hovertext\": [\"Kuwait\"], \"legendgroup\": \"Destination=Kuwait\", \"locations\": [\"KWT\"], \"marker\": {\"color\": \"#19d3f3\", \"size\": [8], \"sizemode\": \"area\", \"sizeref\": 3.6122666666666667}, \"name\": \"Destination=Kuwait\", \"showlegend\": true, \"type\": \"scattergeo\"}, {\"geo\": \"geo\", \"hoverlabel\": {\"namelength\": 0}, \"hovertemplate\": \"<b>%{hovertext}</b><br><br>Destination=South Korea<br>Count=%{marker.size}<br>Country_Code=%{location}\", \"hovertext\": [\"South Korea\"], \"legendgroup\": \"Destination=South Korea\", \"locations\": [\"KOR\"], \"marker\": {\"color\": \"#FF6692\", \"size\": [1643], \"sizemode\": \"area\", \"sizeref\": 3.6122666666666667}, \"name\": \"Destination=South Korea\", \"showlegend\": true, \"type\": \"scattergeo\"}, {\"geo\": \"geo\", \"hoverlabel\": {\"namelength\": 0}, \"hovertemplate\": \"<b>%{hovertext}</b><br><br>Destination=Cambodia<br>Count=%{marker.size}<br>Country_Code=%{location}\", \"hovertext\": [\"Cambodia\"], \"legendgroup\": \"Destination=Cambodia\", \"locations\": [\"KHM\"], \"marker\": {\"color\": \"#B6E880\", \"size\": [493], \"sizemode\": \"area\", \"sizeref\": 3.6122666666666667}, \"name\": \"Destination=Cambodia\", \"showlegend\": true, \"type\": \"scattergeo\"}, {\"geo\": \"geo\", \"hoverlabel\": {\"namelength\": 0}, \"hovertemplate\": \"<b>%{hovertext}</b><br><br>Destination=Kyrgyzstan<br>Count=%{marker.size}<br>Country_Code=%{location}\", \"hovertext\": [\"Kyrgyzstan\"], \"legendgroup\": \"Destination=Kyrgyzstan\", \"locations\": [\"KGZ\"], \"marker\": {\"color\": \"#FF97FF\", \"size\": [6], \"sizemode\": \"area\", \"sizeref\": 3.6122666666666667}, \"name\": \"Destination=Kyrgyzstan\", \"showlegend\": true, \"type\": \"scattergeo\"}, {\"geo\": \"geo\", \"hoverlabel\": {\"namelength\": 0}, \"hovertemplate\": \"<b>%{hovertext}</b><br><br>Destination=Kenya<br>Count=%{marker.size}<br>Country_Code=%{location}\", \"hovertext\": [\"Kenya\"], \"legendgroup\": \"Destination=Kenya\", \"locations\": [\"KEN\"], \"marker\": {\"color\": \"#FECB52\", \"size\": [21], \"sizemode\": \"area\", \"sizeref\": 3.6122666666666667}, \"name\": \"Destination=Kenya\", \"showlegend\": true, \"type\": \"scattergeo\"}, {\"geo\": \"geo\", \"hoverlabel\": {\"namelength\": 0}, \"hovertemplate\": \"<b>%{hovertext}</b><br><br>Destination=Kazakhstan<br>Count=%{marker.size}<br>Country_Code=%{location}\", \"hovertext\": [\"Kazakhstan\"], \"legendgroup\": \"Destination=Kazakhstan\", \"locations\": [\"KAZ\"], \"marker\": {\"color\": \"#636efa\", \"size\": [15], \"sizemode\": \"area\", \"sizeref\": 3.6122666666666667}, \"name\": \"Destination=Kazakhstan\", \"showlegend\": true, \"type\": \"scattergeo\"}, {\"geo\": \"geo\", \"hoverlabel\": {\"namelength\": 0}, \"hovertemplate\": \"<b>%{hovertext}</b><br><br>Destination=Japan<br>Count=%{marker.size}<br>Country_Code=%{location}\", \"hovertext\": [\"Japan\"], \"legendgroup\": \"Destination=Japan\", \"locations\": [\"JPN\"], \"marker\": {\"color\": \"#EF553B\", \"size\": [2256], \"sizemode\": \"area\", \"sizeref\": 3.6122666666666667}, \"name\": \"Destination=Japan\", \"showlegend\": true, \"type\": \"scattergeo\"}, {\"geo\": \"geo\", \"hoverlabel\": {\"namelength\": 0}, \"hovertemplate\": \"<b>%{hovertext}</b><br><br>Destination=Jordan<br>Count=%{marker.size}<br>Country_Code=%{location}\", \"hovertext\": [\"Jordan\"], \"legendgroup\": \"Destination=Jordan\", \"locations\": [\"JOR\"], \"marker\": {\"color\": \"#00cc96\", \"size\": [16], \"sizemode\": \"area\", \"sizeref\": 3.6122666666666667}, \"name\": \"Destination=Jordan\", \"showlegend\": true, \"type\": \"scattergeo\"}, {\"geo\": \"geo\", \"hoverlabel\": {\"namelength\": 0}, \"hovertemplate\": \"<b>%{hovertext}</b><br><br>Destination=Italy<br>Count=%{marker.size}<br>Country_Code=%{location}\", \"hovertext\": [\"Italy\"], \"legendgroup\": \"Destination=Italy\", \"locations\": [\"ITA\"], \"marker\": {\"color\": \"#ab63fa\", \"size\": [552], \"sizemode\": \"area\", \"sizeref\": 3.6122666666666667}, \"name\": \"Destination=Italy\", \"showlegend\": true, \"type\": \"scattergeo\"}, {\"geo\": \"geo\", \"hoverlabel\": {\"namelength\": 0}, \"hovertemplate\": \"<b>%{hovertext}</b><br><br>Destination=Israel<br>Count=%{marker.size}<br>Country_Code=%{location}\", \"hovertext\": [\"Israel\"], \"legendgroup\": \"Destination=Israel\", \"locations\": [\"ISR\"], \"marker\": {\"color\": \"#FFA15A\", \"size\": [48], \"sizemode\": \"area\", \"sizeref\": 3.6122666666666667}, \"name\": \"Destination=Israel\", \"showlegend\": true, \"type\": \"scattergeo\"}, {\"geo\": \"geo\", \"hoverlabel\": {\"namelength\": 0}, \"hovertemplate\": \"<b>%{hovertext}</b><br><br>Destination=Iceland<br>Count=%{marker.size}<br>Country_Code=%{location}\", \"hovertext\": [\"Iceland\"], \"legendgroup\": \"Destination=Iceland\", \"locations\": [\"ISL\"], \"marker\": {\"color\": \"#19d3f3\", \"size\": [117], \"sizemode\": \"area\", \"sizeref\": 3.6122666666666667}, \"name\": \"Destination=Iceland\", \"showlegend\": true, \"type\": \"scattergeo\"}, {\"geo\": \"geo\", \"hoverlabel\": {\"namelength\": 0}, \"hovertemplate\": \"<b>%{hovertext}</b><br><br>Destination=Ireland<br>Count=%{marker.size}<br>Country_Code=%{location}\", \"hovertext\": [\"Ireland\"], \"legendgroup\": \"Destination=Ireland\", \"locations\": [\"IRL\"], \"marker\": {\"color\": \"#FF6692\", \"size\": [123], \"sizemode\": \"area\", \"sizeref\": 3.6122666666666667}, \"name\": \"Destination=Ireland\", \"showlegend\": true, \"type\": \"scattergeo\"}, {\"geo\": \"geo\", \"hoverlabel\": {\"namelength\": 0}, \"hovertemplate\": \"<b>%{hovertext}</b><br><br>Destination=India<br>Count=%{marker.size}<br>Country_Code=%{location}\", \"hovertext\": [\"India\"], \"legendgroup\": \"Destination=India\", \"locations\": [\"IND\"], \"marker\": {\"color\": \"#B6E880\", \"size\": [2294], \"sizemode\": \"area\", \"sizeref\": 3.6122666666666667}, \"name\": \"Destination=India\", \"showlegend\": true, \"type\": \"scattergeo\"}, {\"geo\": \"geo\", \"hoverlabel\": {\"namelength\": 0}, \"hovertemplate\": \"<b>%{hovertext}</b><br><br>Destination=Indonesia<br>Count=%{marker.size}<br>Country_Code=%{location}\", \"hovertext\": [\"Indonesia\"], \"legendgroup\": \"Destination=Indonesia\", \"locations\": [\"IDN\"], \"marker\": {\"color\": \"#FF97FF\", \"size\": [3584], \"sizemode\": \"area\", \"sizeref\": 3.6122666666666667}, \"name\": \"Destination=Indonesia\", \"showlegend\": true, \"type\": \"scattergeo\"}, {\"geo\": \"geo\", \"hoverlabel\": {\"namelength\": 0}, \"hovertemplate\": \"<b>%{hovertext}</b><br><br>Destination=Hungary<br>Count=%{marker.size}<br>Country_Code=%{location}\", \"hovertext\": [\"Hungary\"], \"legendgroup\": \"Destination=Hungary\", \"locations\": [\"HUN\"], \"marker\": {\"color\": \"#FECB52\", \"size\": [23], \"sizemode\": \"area\", \"sizeref\": 3.6122666666666667}, \"name\": \"Destination=Hungary\", \"showlegend\": true, \"type\": \"scattergeo\"}, {\"geo\": \"geo\", \"hoverlabel\": {\"namelength\": 0}, \"hovertemplate\": \"<b>%{hovertext}</b><br><br>Destination=Croatia<br>Count=%{marker.size}<br>Country_Code=%{location}\", \"hovertext\": [\"Croatia\"], \"legendgroup\": \"Destination=Croatia\", \"locations\": [\"HRV\"], \"marker\": {\"color\": \"#636efa\", \"size\": [56], \"sizemode\": \"area\", \"sizeref\": 3.6122666666666667}, \"name\": \"Destination=Croatia\", \"showlegend\": true, \"type\": \"scattergeo\"}, {\"geo\": \"geo\", \"hoverlabel\": {\"namelength\": 0}, \"hovertemplate\": \"<b>%{hovertext}</b><br><br>Destination=Hong Kong<br>Count=%{marker.size}<br>Country_Code=%{location}\", \"hovertext\": [\"Hong Kong\"], \"legendgroup\": \"Destination=Hong Kong\", \"locations\": [\"HKG\"], \"marker\": {\"color\": \"#EF553B\", \"size\": [2553], \"sizemode\": \"area\", \"sizeref\": 3.6122666666666667}, \"name\": \"Destination=Hong Kong\", \"showlegend\": true, \"type\": \"scattergeo\"}, {\"geo\": \"geo\", \"hoverlabel\": {\"namelength\": 0}, \"hovertemplate\": \"<b>%{hovertext}</b><br><br>Destination=Guam<br>Count=%{marker.size}<br>Country_Code=%{location}\", \"hovertext\": [\"Guam\"], \"legendgroup\": \"Destination=Guam\", \"locations\": [\"GUM\"], \"marker\": {\"color\": \"#00cc96\", \"size\": [9], \"sizemode\": \"area\", \"sizeref\": 3.6122666666666667}, \"name\": \"Destination=Guam\", \"showlegend\": true, \"type\": \"scattergeo\"}, {\"geo\": \"geo\", \"hoverlabel\": {\"namelength\": 0}, \"hovertemplate\": \"<b>%{hovertext}</b><br><br>Destination=Greece<br>Count=%{marker.size}<br>Country_Code=%{location}\", \"hovertext\": [\"Greece\"], \"legendgroup\": \"Destination=Greece\", \"locations\": [\"GRC\"], \"marker\": {\"color\": \"#ab63fa\", \"size\": [110], \"sizemode\": \"area\", \"sizeref\": 3.6122666666666667}, \"name\": \"Destination=Greece\", \"showlegend\": true, \"type\": \"scattergeo\"}, {\"geo\": \"geo\", \"hoverlabel\": {\"namelength\": 0}, \"hovertemplate\": \"<b>%{hovertext}</b><br><br>Destination=Georgia<br>Count=%{marker.size}<br>Country_Code=%{location}\", \"hovertext\": [\"Georgia\"], \"legendgroup\": \"Destination=Georgia\", \"locations\": [\"GEO\"], \"marker\": {\"color\": \"#FFA15A\", \"size\": [15], \"sizemode\": \"area\", \"sizeref\": 3.6122666666666667}, \"name\": \"Destination=Georgia\", \"showlegend\": true, \"type\": \"scattergeo\"}, {\"geo\": \"geo\", \"hoverlabel\": {\"namelength\": 0}, \"hovertemplate\": \"<b>%{hovertext}</b><br><br>Destination=United Kingdom<br>Count=%{marker.size}<br>Country_Code=%{location}\", \"hovertext\": [\"United Kingdom\"], \"legendgroup\": \"Destination=United Kingdom\", \"locations\": [\"GBR\"], \"marker\": {\"color\": \"#19d3f3\", \"size\": [1493], \"sizemode\": \"area\", \"sizeref\": 3.6122666666666667}, \"name\": \"Destination=United Kingdom\", \"showlegend\": true, \"type\": \"scattergeo\"}, {\"geo\": \"geo\", \"hoverlabel\": {\"namelength\": 0}, \"hovertemplate\": \"<b>%{hovertext}</b><br><br>Destination=France<br>Count=%{marker.size}<br>Country_Code=%{location}\", \"hovertext\": [\"France\"], \"legendgroup\": \"Destination=France\", \"locations\": [\"FRA\"], \"marker\": {\"color\": \"#FF6692\", \"size\": [483], \"sizemode\": \"area\", \"sizeref\": 3.6122666666666667}, \"name\": \"Destination=France\", \"showlegend\": true, \"type\": \"scattergeo\"}, {\"geo\": \"geo\", \"hoverlabel\": {\"namelength\": 0}, \"hovertemplate\": \"<b>%{hovertext}</b><br><br>Destination=Fiji<br>Count=%{marker.size}<br>Country_Code=%{location}\", \"hovertext\": [\"Fiji\"], \"legendgroup\": \"Destination=Fiji\", \"locations\": [\"FJI\"], \"marker\": {\"color\": \"#B6E880\", \"size\": [13], \"sizemode\": \"area\", \"sizeref\": 3.6122666666666667}, \"name\": \"Destination=Fiji\", \"showlegend\": true, \"type\": \"scattergeo\"}, {\"geo\": \"geo\", \"hoverlabel\": {\"namelength\": 0}, \"hovertemplate\": \"<b>%{hovertext}</b><br><br>Destination=Finland<br>Count=%{marker.size}<br>Country_Code=%{location}\", \"hovertext\": [\"Finland\"], \"legendgroup\": \"Destination=Finland\", \"locations\": [\"FIN\"], \"marker\": {\"color\": \"#FF97FF\", \"size\": [96], \"sizemode\": \"area\", \"sizeref\": 3.6122666666666667}, \"name\": \"Destination=Finland\", \"showlegend\": true, \"type\": \"scattergeo\"}, {\"geo\": \"geo\", \"hoverlabel\": {\"namelength\": 0}, \"hovertemplate\": \"<b>%{hovertext}</b><br><br>Destination=Ethiopia<br>Count=%{marker.size}<br>Country_Code=%{location}\", \"hovertext\": [\"Ethiopia\"], \"legendgroup\": \"Destination=Ethiopia\", \"locations\": [\"ETH\"], \"marker\": {\"color\": \"#FECB52\", \"size\": [6], \"sizemode\": \"area\", \"sizeref\": 3.6122666666666667}, \"name\": \"Destination=Ethiopia\", \"showlegend\": true, \"type\": \"scattergeo\"}, {\"geo\": \"geo\", \"hoverlabel\": {\"namelength\": 0}, \"hovertemplate\": \"<b>%{hovertext}</b><br><br>Destination=Estonia<br>Count=%{marker.size}<br>Country_Code=%{location}\", \"hovertext\": [\"Estonia\"], \"legendgroup\": \"Destination=Estonia\", \"locations\": [\"EST\"], \"marker\": {\"color\": \"#636efa\", \"size\": [9], \"sizemode\": \"area\", \"sizeref\": 3.6122666666666667}, \"name\": \"Destination=Estonia\", \"showlegend\": true, \"type\": \"scattergeo\"}, {\"geo\": \"geo\", \"hoverlabel\": {\"namelength\": 0}, \"hovertemplate\": \"<b>%{hovertext}</b><br><br>Destination=Spain<br>Count=%{marker.size}<br>Country_Code=%{location}\", \"hovertext\": [\"Spain\"], \"legendgroup\": \"Destination=Spain\", \"locations\": [\"ESP\"], \"marker\": {\"color\": \"#EF553B\", \"size\": [388], \"sizemode\": \"area\", \"sizeref\": 3.6122666666666667}, \"name\": \"Destination=Spain\", \"showlegend\": true, \"type\": \"scattergeo\"}, {\"geo\": \"geo\", \"hoverlabel\": {\"namelength\": 0}, \"hovertemplate\": \"<b>%{hovertext}</b><br><br>Destination=Egypt<br>Count=%{marker.size}<br>Country_Code=%{location}\", \"hovertext\": [\"Egypt\"], \"legendgroup\": \"Destination=Egypt\", \"locations\": [\"EGY\"], \"marker\": {\"color\": \"#00cc96\", \"size\": [21], \"sizemode\": \"area\", \"sizeref\": 3.6122666666666667}, \"name\": \"Destination=Egypt\", \"showlegend\": true, \"type\": \"scattergeo\"}, {\"geo\": \"geo\", \"hoverlabel\": {\"namelength\": 0}, \"hovertemplate\": \"<b>%{hovertext}</b><br><br>Destination=Denmark<br>Count=%{marker.size}<br>Country_Code=%{location}\", \"hovertext\": [\"Denmark\"], \"legendgroup\": \"Destination=Denmark\", \"locations\": [\"DNK\"], \"marker\": {\"color\": \"#ab63fa\", \"size\": [105], \"sizemode\": \"area\", \"sizeref\": 3.6122666666666667}, \"name\": \"Destination=Denmark\", \"showlegend\": true, \"type\": \"scattergeo\"}, {\"geo\": \"geo\", \"hoverlabel\": {\"namelength\": 0}, \"hovertemplate\": \"<b>%{hovertext}</b><br><br>Destination=Germany<br>Count=%{marker.size}<br>Country_Code=%{location}\", \"hovertext\": [\"Germany\"], \"legendgroup\": \"Destination=Germany\", \"locations\": [\"DEU\"], \"marker\": {\"color\": \"#FFA15A\", \"size\": [473], \"sizemode\": \"area\", \"sizeref\": 3.6122666666666667}, \"name\": \"Destination=Germany\", \"showlegend\": true, \"type\": \"scattergeo\"}, {\"geo\": \"geo\", \"hoverlabel\": {\"namelength\": 0}, \"hovertemplate\": \"<b>%{hovertext}</b><br><br>Destination=Czech Republic<br>Count=%{marker.size}<br>Country_Code=%{location}\", \"hovertext\": [\"Czech Republic\"], \"legendgroup\": \"Destination=Czech Republic\", \"locations\": [\"CZE\"], \"marker\": {\"color\": \"#19d3f3\", \"size\": [69], \"sizemode\": \"area\", \"sizeref\": 3.6122666666666667}, \"name\": \"Destination=Czech Republic\", \"showlegend\": true, \"type\": \"scattergeo\"}, {\"geo\": \"geo\", \"hoverlabel\": {\"namelength\": 0}, \"hovertemplate\": \"<b>%{hovertext}</b><br><br>Destination=Cyprus<br>Count=%{marker.size}<br>Country_Code=%{location}\", \"hovertext\": [\"Cyprus\"], \"legendgroup\": \"Destination=Cyprus\", \"locations\": [\"CYP\"], \"marker\": {\"color\": \"#FF6692\", \"size\": [15], \"sizemode\": \"area\", \"sizeref\": 3.6122666666666667}, \"name\": \"Destination=Cyprus\", \"showlegend\": true, \"type\": \"scattergeo\"}, {\"geo\": \"geo\", \"hoverlabel\": {\"namelength\": 0}, \"hovertemplate\": \"<b>%{hovertext}</b><br><br>Destination=Costa Rica<br>Count=%{marker.size}<br>Country_Code=%{location}\", \"hovertext\": [\"Costa Rica\"], \"legendgroup\": \"Destination=Costa Rica\", \"locations\": [\"CRI\"], \"marker\": {\"color\": \"#B6E880\", \"size\": [7], \"sizemode\": \"area\", \"sizeref\": 3.6122666666666667}, \"name\": \"Destination=Costa Rica\", \"showlegend\": true, \"type\": \"scattergeo\"}, {\"geo\": \"geo\", \"hoverlabel\": {\"namelength\": 0}, \"hovertemplate\": \"<b>%{hovertext}</b><br><br>Destination=Colombia<br>Count=%{marker.size}<br>Country_Code=%{location}\", \"hovertext\": [\"Colombia\"], \"legendgroup\": \"Destination=Colombia\", \"locations\": [\"COL\"], \"marker\": {\"color\": \"#FF97FF\", \"size\": [15], \"sizemode\": \"area\", \"sizeref\": 3.6122666666666667}, \"name\": \"Destination=Colombia\", \"showlegend\": true, \"type\": \"scattergeo\"}, {\"geo\": \"geo\", \"hoverlabel\": {\"namelength\": 0}, \"hovertemplate\": \"<b>%{hovertext}</b><br><br>Destination=China<br>Count=%{marker.size}<br>Country_Code=%{location}\", \"hovertext\": [\"China\"], \"legendgroup\": \"Destination=China\", \"locations\": [\"CHN\"], \"marker\": {\"color\": \"#FECB52\", \"size\": [5641], \"sizemode\": \"area\", \"sizeref\": 3.6122666666666667}, \"name\": \"Destination=China\", \"showlegend\": true, \"type\": \"scattergeo\"}, {\"geo\": \"geo\", \"hoverlabel\": {\"namelength\": 0}, \"hovertemplate\": \"<b>%{hovertext}</b><br><br>Destination=Chile<br>Count=%{marker.size}<br>Country_Code=%{location}\", \"hovertext\": [\"Chile\"], \"legendgroup\": \"Destination=Chile\", \"locations\": [\"CHL\"], \"marker\": {\"color\": \"#636efa\", \"size\": [12], \"sizemode\": \"area\", \"sizeref\": 3.6122666666666667}, \"name\": \"Destination=Chile\", \"showlegend\": true, \"type\": \"scattergeo\"}, {\"geo\": \"geo\", \"hoverlabel\": {\"namelength\": 0}, \"hovertemplate\": \"<b>%{hovertext}</b><br><br>Destination=Switzerland<br>Count=%{marker.size}<br>Country_Code=%{location}\", \"hovertext\": [\"Switzerland\"], \"legendgroup\": \"Destination=Switzerland\", \"locations\": [\"CHE\"], \"marker\": {\"color\": \"#EF553B\", \"size\": [283], \"sizemode\": \"area\", \"sizeref\": 3.6122666666666667}, \"name\": \"Destination=Switzerland\", \"showlegend\": true, \"type\": \"scattergeo\"}, {\"geo\": \"geo\", \"hoverlabel\": {\"namelength\": 0}, \"hovertemplate\": \"<b>%{hovertext}</b><br><br>Destination=Canada<br>Count=%{marker.size}<br>Country_Code=%{location}\", \"hovertext\": [\"Canada\"], \"legendgroup\": \"Destination=Canada\", \"locations\": [\"CAN\"], \"marker\": {\"color\": \"#00cc96\", \"size\": [546], \"sizemode\": \"area\", \"sizeref\": 3.6122666666666667}, \"name\": \"Destination=Canada\", \"showlegend\": true, \"type\": \"scattergeo\"}, {\"geo\": \"geo\", \"hoverlabel\": {\"namelength\": 0}, \"hovertemplate\": \"<b>%{hovertext}</b><br><br>Destination=Bhutan<br>Count=%{marker.size}<br>Country_Code=%{location}\", \"hovertext\": [\"Bhutan\"], \"legendgroup\": \"Destination=Bhutan\", \"locations\": [\"BTN\"], \"marker\": {\"color\": \"#ab63fa\", \"size\": [4], \"sizemode\": \"area\", \"sizeref\": 3.6122666666666667}, \"name\": \"Destination=Bhutan\", \"showlegend\": true, \"type\": \"scattergeo\"}, {\"geo\": \"geo\", \"hoverlabel\": {\"namelength\": 0}, \"hovertemplate\": \"<b>%{hovertext}</b><br><br>Destination=Brunei Darussalam<br>Count=%{marker.size}<br>Country_Code=%{location}\", \"hovertext\": [\"Brunei Darussalam\"], \"legendgroup\": \"Destination=Brunei Darussalam\", \"locations\": [\"BRN\"], \"marker\": {\"color\": \"#FFA15A\", \"size\": [780], \"sizemode\": \"area\", \"sizeref\": 3.6122666666666667}, \"name\": \"Destination=Brunei Darussalam\", \"showlegend\": true, \"type\": \"scattergeo\"}, {\"geo\": \"geo\", \"hoverlabel\": {\"namelength\": 0}, \"hovertemplate\": \"<b>%{hovertext}</b><br><br>Destination=Brazil<br>Count=%{marker.size}<br>Country_Code=%{location}\", \"hovertext\": [\"Brazil\"], \"legendgroup\": \"Destination=Brazil\", \"locations\": [\"BRA\"], \"marker\": {\"color\": \"#19d3f3\", \"size\": [37], \"sizemode\": \"area\", \"sizeref\": 3.6122666666666667}, \"name\": \"Destination=Brazil\", \"showlegend\": true, \"type\": \"scattergeo\"}, {\"geo\": \"geo\", \"hoverlabel\": {\"namelength\": 0}, \"hovertemplate\": \"<b>%{hovertext}</b><br><br>Destination=Bolivia<br>Count=%{marker.size}<br>Country_Code=%{location}\", \"hovertext\": [\"Bolivia\"], \"legendgroup\": \"Destination=Bolivia\", \"locations\": [\"BOL\"], \"marker\": {\"color\": \"#FF6692\", \"size\": [10], \"sizemode\": \"area\", \"sizeref\": 3.6122666666666667}, \"name\": \"Destination=Bolivia\", \"showlegend\": true, \"type\": \"scattergeo\"}, {\"geo\": \"geo\", \"hoverlabel\": {\"namelength\": 0}, \"hovertemplate\": \"<b>%{hovertext}</b><br><br>Destination=Bermuda<br>Count=%{marker.size}<br>Country_Code=%{location}\", \"hovertext\": [\"Bermuda\"], \"legendgroup\": \"Destination=Bermuda\", \"locations\": [\"BMU\"], \"marker\": {\"color\": \"#B6E880\", \"size\": [3], \"sizemode\": \"area\", \"sizeref\": 3.6122666666666667}, \"name\": \"Destination=Bermuda\", \"showlegend\": true, \"type\": \"scattergeo\"}, {\"geo\": \"geo\", \"hoverlabel\": {\"namelength\": 0}, \"hovertemplate\": \"<b>%{hovertext}</b><br><br>Destination=Belarus<br>Count=%{marker.size}<br>Country_Code=%{location}\", \"hovertext\": [\"Belarus\"], \"legendgroup\": \"Destination=Belarus\", \"locations\": [\"BLR\"], \"marker\": {\"color\": \"#FF97FF\", \"size\": [3], \"sizemode\": \"area\", \"sizeref\": 3.6122666666666667}, \"name\": \"Destination=Belarus\", \"showlegend\": true, \"type\": \"scattergeo\"}, {\"geo\": \"geo\", \"hoverlabel\": {\"namelength\": 0}, \"hovertemplate\": \"<b>%{hovertext}</b><br><br>Destination=Bahrain<br>Count=%{marker.size}<br>Country_Code=%{location}\", \"hovertext\": [\"Bahrain\"], \"legendgroup\": \"Destination=Bahrain\", \"locations\": [\"BHR\"], \"marker\": {\"color\": \"#FECB52\", \"size\": [13], \"sizemode\": \"area\", \"sizeref\": 3.6122666666666667}, \"name\": \"Destination=Bahrain\", \"showlegend\": true, \"type\": \"scattergeo\"}, {\"geo\": \"geo\", \"hoverlabel\": {\"namelength\": 0}, \"hovertemplate\": \"<b>%{hovertext}</b><br><br>Destination=Bangladesh<br>Count=%{marker.size}<br>Country_Code=%{location}\", \"hovertext\": [\"Bangladesh\"], \"legendgroup\": \"Destination=Bangladesh\", \"locations\": [\"BGD\"], \"marker\": {\"color\": \"#636efa\", \"size\": [101], \"sizemode\": \"area\", \"sizeref\": 3.6122666666666667}, \"name\": \"Destination=Bangladesh\", \"showlegend\": true, \"type\": \"scattergeo\"}, {\"geo\": \"geo\", \"hoverlabel\": {\"namelength\": 0}, \"hovertemplate\": \"<b>%{hovertext}</b><br><br>Destination=Belgium<br>Count=%{marker.size}<br>Country_Code=%{location}\", \"hovertext\": [\"Belgium\"], \"legendgroup\": \"Destination=Belgium\", \"locations\": [\"BEL\"], \"marker\": {\"color\": \"#EF553B\", \"size\": [46], \"sizemode\": \"area\", \"sizeref\": 3.6122666666666667}, \"name\": \"Destination=Belgium\", \"showlegend\": true, \"type\": \"scattergeo\"}, {\"geo\": \"geo\", \"hoverlabel\": {\"namelength\": 0}, \"hovertemplate\": \"<b>%{hovertext}</b><br><br>Destination=Azerbaijan<br>Count=%{marker.size}<br>Country_Code=%{location}\", \"hovertext\": [\"Azerbaijan\"], \"legendgroup\": \"Destination=Azerbaijan\", \"locations\": [\"AZE\"], \"marker\": {\"color\": \"#00cc96\", \"size\": [8], \"sizemode\": \"area\", \"sizeref\": 3.6122666666666667}, \"name\": \"Destination=Azerbaijan\", \"showlegend\": true, \"type\": \"scattergeo\"}, {\"geo\": \"geo\", \"hoverlabel\": {\"namelength\": 0}, \"hovertemplate\": \"<b>%{hovertext}</b><br><br>Destination=Austria<br>Count=%{marker.size}<br>Country_Code=%{location}\", \"hovertext\": [\"Austria\"], \"legendgroup\": \"Destination=Austria\", \"locations\": [\"AUT\"], \"marker\": {\"color\": \"#ab63fa\", \"size\": [102], \"sizemode\": \"area\", \"sizeref\": 3.6122666666666667}, \"name\": \"Destination=Austria\", \"showlegend\": true, \"type\": \"scattergeo\"}, {\"geo\": \"geo\", \"hoverlabel\": {\"namelength\": 0}, \"hovertemplate\": \"<b>%{hovertext}</b><br><br>Destination=Australia<br>Count=%{marker.size}<br>Country_Code=%{location}\", \"hovertext\": [\"Australia\"], \"legendgroup\": \"Destination=Australia\", \"locations\": [\"AUS\"], \"marker\": {\"color\": \"#FFA15A\", \"size\": [4294], \"sizemode\": \"area\", \"sizeref\": 3.6122666666666667}, \"name\": \"Destination=Australia\", \"showlegend\": true, \"type\": \"scattergeo\"}, {\"geo\": \"geo\", \"hoverlabel\": {\"namelength\": 0}, \"hovertemplate\": \"<b>%{hovertext}</b><br><br>Destination=Argentina<br>Count=%{marker.size}<br>Country_Code=%{location}\", \"hovertext\": [\"Argentina\"], \"legendgroup\": \"Destination=Argentina\", \"locations\": [\"ARG\"], \"marker\": {\"color\": \"#19d3f3\", \"size\": [22], \"sizemode\": \"area\", \"sizeref\": 3.6122666666666667}, \"name\": \"Destination=Argentina\", \"showlegend\": true, \"type\": \"scattergeo\"}, {\"geo\": \"geo\", \"hoverlabel\": {\"namelength\": 0}, \"hovertemplate\": \"<b>%{hovertext}</b><br><br>Destination=United Arab Emirates<br>Count=%{marker.size}<br>Country_Code=%{location}\", \"hovertext\": [\"United Arab Emirates\"], \"legendgroup\": \"Destination=United Arab Emirates\", \"locations\": [\"ARE\"], \"marker\": {\"color\": \"#FF6692\", \"size\": [286], \"sizemode\": \"area\", \"sizeref\": 3.6122666666666667}, \"name\": \"Destination=United Arab Emirates\", \"showlegend\": true, \"type\": \"scattergeo\"}],\n",
              "                        {\"geo\": {\"center\": {}, \"domain\": {\"x\": [0.0, 1.0], \"y\": [0.0, 1.0]}, \"projection\": {\"type\": \"natural earth\"}, \"resolution\": 50}, \"legend\": {\"itemsizing\": \"constant\", \"tracegroupgap\": 0}, \"margin\": {\"t\": 60}, \"template\": {\"data\": {\"bar\": [{\"error_x\": {\"color\": \"#2a3f5f\"}, \"error_y\": {\"color\": \"#2a3f5f\"}, \"marker\": {\"line\": {\"color\": \"#E5ECF6\", \"width\": 0.5}}, \"type\": \"bar\"}], \"barpolar\": [{\"marker\": {\"line\": {\"color\": \"#E5ECF6\", \"width\": 0.5}}, \"type\": \"barpolar\"}], \"carpet\": [{\"aaxis\": {\"endlinecolor\": \"#2a3f5f\", \"gridcolor\": \"white\", \"linecolor\": \"white\", \"minorgridcolor\": \"white\", \"startlinecolor\": \"#2a3f5f\"}, \"baxis\": {\"endlinecolor\": \"#2a3f5f\", \"gridcolor\": \"white\", \"linecolor\": \"white\", \"minorgridcolor\": \"white\", \"startlinecolor\": \"#2a3f5f\"}, \"type\": \"carpet\"}], \"choropleth\": [{\"colorbar\": {\"outlinewidth\": 0, \"ticks\": \"\"}, \"type\": \"choropleth\"}], \"contour\": [{\"colorbar\": {\"outlinewidth\": 0, \"ticks\": \"\"}, \"colorscale\": [[0.0, \"#0d0887\"], [0.1111111111111111, \"#46039f\"], [0.2222222222222222, \"#7201a8\"], [0.3333333333333333, \"#9c179e\"], [0.4444444444444444, \"#bd3786\"], [0.5555555555555556, \"#d8576b\"], [0.6666666666666666, \"#ed7953\"], [0.7777777777777778, \"#fb9f3a\"], [0.8888888888888888, \"#fdca26\"], [1.0, \"#f0f921\"]], \"type\": \"contour\"}], \"contourcarpet\": [{\"colorbar\": {\"outlinewidth\": 0, \"ticks\": \"\"}, \"type\": \"contourcarpet\"}], \"heatmap\": [{\"colorbar\": {\"outlinewidth\": 0, \"ticks\": \"\"}, \"colorscale\": [[0.0, \"#0d0887\"], [0.1111111111111111, \"#46039f\"], [0.2222222222222222, \"#7201a8\"], [0.3333333333333333, \"#9c179e\"], [0.4444444444444444, \"#bd3786\"], [0.5555555555555556, \"#d8576b\"], [0.6666666666666666, \"#ed7953\"], [0.7777777777777778, \"#fb9f3a\"], [0.8888888888888888, \"#fdca26\"], [1.0, \"#f0f921\"]], \"type\": \"heatmap\"}], \"heatmapgl\": [{\"colorbar\": {\"outlinewidth\": 0, \"ticks\": \"\"}, \"colorscale\": [[0.0, \"#0d0887\"], [0.1111111111111111, \"#46039f\"], [0.2222222222222222, \"#7201a8\"], [0.3333333333333333, \"#9c179e\"], [0.4444444444444444, \"#bd3786\"], [0.5555555555555556, \"#d8576b\"], [0.6666666666666666, \"#ed7953\"], [0.7777777777777778, \"#fb9f3a\"], [0.8888888888888888, \"#fdca26\"], [1.0, \"#f0f921\"]], \"type\": \"heatmapgl\"}], \"histogram\": [{\"marker\": {\"colorbar\": {\"outlinewidth\": 0, \"ticks\": \"\"}}, \"type\": \"histogram\"}], \"histogram2d\": [{\"colorbar\": {\"outlinewidth\": 0, \"ticks\": \"\"}, \"colorscale\": [[0.0, \"#0d0887\"], [0.1111111111111111, \"#46039f\"], [0.2222222222222222, \"#7201a8\"], [0.3333333333333333, \"#9c179e\"], [0.4444444444444444, \"#bd3786\"], [0.5555555555555556, \"#d8576b\"], [0.6666666666666666, \"#ed7953\"], [0.7777777777777778, \"#fb9f3a\"], [0.8888888888888888, \"#fdca26\"], [1.0, \"#f0f921\"]], \"type\": \"histogram2d\"}], \"histogram2dcontour\": [{\"colorbar\": {\"outlinewidth\": 0, \"ticks\": \"\"}, \"colorscale\": [[0.0, \"#0d0887\"], [0.1111111111111111, \"#46039f\"], [0.2222222222222222, \"#7201a8\"], [0.3333333333333333, \"#9c179e\"], [0.4444444444444444, \"#bd3786\"], [0.5555555555555556, \"#d8576b\"], [0.6666666666666666, \"#ed7953\"], [0.7777777777777778, \"#fb9f3a\"], [0.8888888888888888, \"#fdca26\"], [1.0, \"#f0f921\"]], \"type\": \"histogram2dcontour\"}], \"mesh3d\": [{\"colorbar\": {\"outlinewidth\": 0, \"ticks\": \"\"}, \"type\": \"mesh3d\"}], \"parcoords\": [{\"line\": {\"colorbar\": {\"outlinewidth\": 0, \"ticks\": \"\"}}, \"type\": \"parcoords\"}], \"pie\": [{\"automargin\": true, \"type\": \"pie\"}], \"scatter\": [{\"marker\": {\"colorbar\": {\"outlinewidth\": 0, \"ticks\": \"\"}}, \"type\": \"scatter\"}], \"scatter3d\": [{\"line\": {\"colorbar\": {\"outlinewidth\": 0, \"ticks\": \"\"}}, \"marker\": {\"colorbar\": {\"outlinewidth\": 0, \"ticks\": \"\"}}, \"type\": \"scatter3d\"}], \"scattercarpet\": [{\"marker\": {\"colorbar\": {\"outlinewidth\": 0, \"ticks\": \"\"}}, \"type\": \"scattercarpet\"}], \"scattergeo\": [{\"marker\": {\"colorbar\": {\"outlinewidth\": 0, \"ticks\": \"\"}}, \"type\": \"scattergeo\"}], \"scattergl\": [{\"marker\": {\"colorbar\": {\"outlinewidth\": 0, \"ticks\": \"\"}}, \"type\": \"scattergl\"}], \"scattermapbox\": [{\"marker\": {\"colorbar\": {\"outlinewidth\": 0, \"ticks\": \"\"}}, \"type\": \"scattermapbox\"}], \"scatterpolar\": [{\"marker\": {\"colorbar\": {\"outlinewidth\": 0, \"ticks\": \"\"}}, \"type\": \"scatterpolar\"}], \"scatterpolargl\": [{\"marker\": {\"colorbar\": {\"outlinewidth\": 0, \"ticks\": \"\"}}, \"type\": \"scatterpolargl\"}], \"scatterternary\": [{\"marker\": {\"colorbar\": {\"outlinewidth\": 0, \"ticks\": \"\"}}, \"type\": \"scatterternary\"}], \"surface\": [{\"colorbar\": {\"outlinewidth\": 0, \"ticks\": \"\"}, \"colorscale\": [[0.0, \"#0d0887\"], [0.1111111111111111, \"#46039f\"], [0.2222222222222222, \"#7201a8\"], [0.3333333333333333, \"#9c179e\"], [0.4444444444444444, \"#bd3786\"], [0.5555555555555556, \"#d8576b\"], [0.6666666666666666, \"#ed7953\"], [0.7777777777777778, \"#fb9f3a\"], [0.8888888888888888, \"#fdca26\"], [1.0, \"#f0f921\"]], \"type\": \"surface\"}], \"table\": [{\"cells\": {\"fill\": {\"color\": \"#EBF0F8\"}, \"line\": {\"color\": \"white\"}}, \"header\": {\"fill\": {\"color\": \"#C8D4E3\"}, \"line\": {\"color\": \"white\"}}, \"type\": \"table\"}]}, \"layout\": {\"annotationdefaults\": {\"arrowcolor\": \"#2a3f5f\", \"arrowhead\": 0, \"arrowwidth\": 1}, \"coloraxis\": {\"colorbar\": {\"outlinewidth\": 0, \"ticks\": \"\"}}, \"colorscale\": {\"diverging\": [[0, \"#8e0152\"], [0.1, \"#c51b7d\"], [0.2, \"#de77ae\"], [0.3, \"#f1b6da\"], [0.4, \"#fde0ef\"], [0.5, \"#f7f7f7\"], [0.6, \"#e6f5d0\"], [0.7, \"#b8e186\"], [0.8, \"#7fbc41\"], [0.9, \"#4d9221\"], [1, \"#276419\"]], \"sequential\": [[0.0, \"#0d0887\"], [0.1111111111111111, \"#46039f\"], [0.2222222222222222, \"#7201a8\"], [0.3333333333333333, \"#9c179e\"], [0.4444444444444444, \"#bd3786\"], [0.5555555555555556, \"#d8576b\"], [0.6666666666666666, \"#ed7953\"], [0.7777777777777778, \"#fb9f3a\"], [0.8888888888888888, \"#fdca26\"], [1.0, \"#f0f921\"]], \"sequentialminus\": [[0.0, \"#0d0887\"], [0.1111111111111111, \"#46039f\"], [0.2222222222222222, \"#7201a8\"], [0.3333333333333333, \"#9c179e\"], [0.4444444444444444, \"#bd3786\"], [0.5555555555555556, \"#d8576b\"], [0.6666666666666666, \"#ed7953\"], [0.7777777777777778, \"#fb9f3a\"], [0.8888888888888888, \"#fdca26\"], [1.0, \"#f0f921\"]]}, \"colorway\": [\"#636efa\", \"#EF553B\", \"#00cc96\", \"#ab63fa\", \"#FFA15A\", \"#19d3f3\", \"#FF6692\", \"#B6E880\", \"#FF97FF\", \"#FECB52\"], \"font\": {\"color\": \"#2a3f5f\"}, \"geo\": {\"bgcolor\": \"white\", \"lakecolor\": \"white\", \"landcolor\": \"#E5ECF6\", \"showlakes\": true, \"showland\": true, \"subunitcolor\": \"white\"}, \"hoverlabel\": {\"align\": \"left\"}, \"hovermode\": \"closest\", \"mapbox\": {\"style\": \"light\"}, \"paper_bgcolor\": \"white\", \"plot_bgcolor\": \"#E5ECF6\", \"polar\": {\"angularaxis\": {\"gridcolor\": \"white\", \"linecolor\": \"white\", \"ticks\": \"\"}, \"bgcolor\": \"#E5ECF6\", \"radialaxis\": {\"gridcolor\": \"white\", \"linecolor\": \"white\", \"ticks\": \"\"}}, \"scene\": {\"xaxis\": {\"backgroundcolor\": \"#E5ECF6\", \"gridcolor\": \"white\", \"gridwidth\": 2, \"linecolor\": \"white\", \"showbackground\": true, \"ticks\": \"\", \"zerolinecolor\": \"white\"}, \"yaxis\": {\"backgroundcolor\": \"#E5ECF6\", \"gridcolor\": \"white\", \"gridwidth\": 2, \"linecolor\": \"white\", \"showbackground\": true, \"ticks\": \"\", \"zerolinecolor\": \"white\"}, \"zaxis\": {\"backgroundcolor\": \"#E5ECF6\", \"gridcolor\": \"white\", \"gridwidth\": 2, \"linecolor\": \"white\", \"showbackground\": true, \"ticks\": \"\", \"zerolinecolor\": \"white\"}}, \"shapedefaults\": {\"line\": {\"color\": \"#2a3f5f\"}}, \"ternary\": {\"aaxis\": {\"gridcolor\": \"white\", \"linecolor\": \"white\", \"ticks\": \"\"}, \"baxis\": {\"gridcolor\": \"white\", \"linecolor\": \"white\", \"ticks\": \"\"}, \"bgcolor\": \"#E5ECF6\", \"caxis\": {\"gridcolor\": \"white\", \"linecolor\": \"white\", \"ticks\": \"\"}}, \"title\": {\"x\": 0.05}, \"xaxis\": {\"automargin\": true, \"gridcolor\": \"white\", \"linecolor\": \"white\", \"ticks\": \"\", \"title\": {\"standoff\": 15}, \"zerolinecolor\": \"white\", \"zerolinewidth\": 2}, \"yaxis\": {\"automargin\": true, \"gridcolor\": \"white\", \"linecolor\": \"white\", \"ticks\": \"\", \"title\": {\"standoff\": 15}, \"zerolinecolor\": \"white\", \"zerolinewidth\": 2}}}},\n",
              "                        {\"responsive\": true}\n",
              "                    ).then(function(){\n",
              "                            \n",
              "var gd = document.getElementById('7bf09055-3909-4363-8cb0-3eb5e87e7912');\n",
              "var x = new MutationObserver(function (mutations, observer) {{\n",
              "        var display = window.getComputedStyle(gd).display;\n",
              "        if (!display || display === 'none') {{\n",
              "            console.log([gd, 'removed!']);\n",
              "            Plotly.purge(gd);\n",
              "            observer.disconnect();\n",
              "        }}\n",
              "}});\n",
              "\n",
              "// Listen for the removal of the full notebook cells\n",
              "var notebookContainer = gd.closest('#notebook-container');\n",
              "if (notebookContainer) {{\n",
              "    x.observe(notebookContainer, {childList: true});\n",
              "}}\n",
              "\n",
              "// Listen for the clearing of the current output cell\n",
              "var outputEl = gd.closest('.output');\n",
              "if (outputEl) {{\n",
              "    x.observe(outputEl, {childList: true});\n",
              "}}\n",
              "\n",
              "                        })\n",
              "                };\n",
              "                \n",
              "            </script>\n",
              "        </div>\n",
              "</body>\n",
              "</html>"
            ]
          },
          "metadata": {
            "tags": []
          }
        }
      ]
    },
    {
      "cell_type": "code",
      "metadata": {
        "id": "nEsHEa5iOt9J",
        "colab_type": "code",
        "colab": {}
      },
      "source": [
        "data_combined.groupby(['Destination','Country_Code','Destination_continent'],as_index=False)['Age'].agg(lambda x:x.value_counts().index[0]).to_csv(\"sub.csv\",index=False)"
      ],
      "execution_count": null,
      "outputs": []
    },
    {
      "cell_type": "code",
      "metadata": {
        "id": "aGfOlsyKOZaA",
        "colab_type": "code",
        "colab": {
          "base_uri": "https://localhost:8080/",
          "height": 419
        },
        "outputId": "cf545f21-2e53-49d0-a4c8-17e80ed5aa67"
      },
      "source": [
        "data_combined.groupby(['Destination','Country_Code','Destination_continent'],as_index=False)['Age'].mean()"
      ],
      "execution_count": null,
      "outputs": [
        {
          "output_type": "execute_result",
          "data": {
            "text/html": [
              "<div>\n",
              "<style scoped>\n",
              "    .dataframe tbody tr th:only-of-type {\n",
              "        vertical-align: middle;\n",
              "    }\n",
              "\n",
              "    .dataframe tbody tr th {\n",
              "        vertical-align: top;\n",
              "    }\n",
              "\n",
              "    .dataframe thead th {\n",
              "        text-align: right;\n",
              "    }\n",
              "</style>\n",
              "<table border=\"1\" class=\"dataframe\">\n",
              "  <thead>\n",
              "    <tr style=\"text-align: right;\">\n",
              "      <th></th>\n",
              "      <th>Destination</th>\n",
              "      <th>Country_Code</th>\n",
              "      <th>Destination_continent</th>\n",
              "      <th>Age</th>\n",
              "    </tr>\n",
              "  </thead>\n",
              "  <tbody>\n",
              "    <tr>\n",
              "      <th>0</th>\n",
              "      <td>Argentina</td>\n",
              "      <td>ARG</td>\n",
              "      <td>South America</td>\n",
              "      <td>35.954545</td>\n",
              "    </tr>\n",
              "    <tr>\n",
              "      <th>1</th>\n",
              "      <td>Australia</td>\n",
              "      <td>AUS</td>\n",
              "      <td>Oceania</td>\n",
              "      <td>39.570098</td>\n",
              "    </tr>\n",
              "    <tr>\n",
              "      <th>2</th>\n",
              "      <td>Austria</td>\n",
              "      <td>AUT</td>\n",
              "      <td>Europe</td>\n",
              "      <td>36.892157</td>\n",
              "    </tr>\n",
              "    <tr>\n",
              "      <th>3</th>\n",
              "      <td>Azerbaijan</td>\n",
              "      <td>AZE</td>\n",
              "      <td>Asia</td>\n",
              "      <td>34.625000</td>\n",
              "    </tr>\n",
              "    <tr>\n",
              "      <th>4</th>\n",
              "      <td>Bahrain</td>\n",
              "      <td>BHR</td>\n",
              "      <td>Asia</td>\n",
              "      <td>39.307692</td>\n",
              "    </tr>\n",
              "    <tr>\n",
              "      <th>...</th>\n",
              "      <td>...</td>\n",
              "      <td>...</td>\n",
              "      <td>...</td>\n",
              "      <td>...</td>\n",
              "    </tr>\n",
              "    <tr>\n",
              "      <th>92</th>\n",
              "      <td>Uzbekistan</td>\n",
              "      <td>UZB</td>\n",
              "      <td>Asia</td>\n",
              "      <td>36.300000</td>\n",
              "    </tr>\n",
              "    <tr>\n",
              "      <th>93</th>\n",
              "      <td>Vanuatu</td>\n",
              "      <td>VUT</td>\n",
              "      <td>Oceania</td>\n",
              "      <td>36.400000</td>\n",
              "    </tr>\n",
              "    <tr>\n",
              "      <th>94</th>\n",
              "      <td>Venezuela</td>\n",
              "      <td>VEN</td>\n",
              "      <td>South America</td>\n",
              "      <td>35.600000</td>\n",
              "    </tr>\n",
              "    <tr>\n",
              "      <th>95</th>\n",
              "      <td>Viet Nam</td>\n",
              "      <td>VNM</td>\n",
              "      <td>Asia</td>\n",
              "      <td>38.648481</td>\n",
              "    </tr>\n",
              "    <tr>\n",
              "      <th>96</th>\n",
              "      <td>Zambia</td>\n",
              "      <td>ZMB</td>\n",
              "      <td>Africa</td>\n",
              "      <td>36.000000</td>\n",
              "    </tr>\n",
              "  </tbody>\n",
              "</table>\n",
              "<p>97 rows × 4 columns</p>\n",
              "</div>"
            ],
            "text/plain": [
              "   Destination Country_Code Destination_continent        Age\n",
              "0    Argentina          ARG         South America  35.954545\n",
              "1    Australia          AUS               Oceania  39.570098\n",
              "2      Austria          AUT                Europe  36.892157\n",
              "3   Azerbaijan          AZE                  Asia  34.625000\n",
              "4      Bahrain          BHR                  Asia  39.307692\n",
              "..         ...          ...                   ...        ...\n",
              "92  Uzbekistan          UZB                  Asia  36.300000\n",
              "93     Vanuatu          VUT               Oceania  36.400000\n",
              "94   Venezuela          VEN         South America  35.600000\n",
              "95    Viet Nam          VNM                  Asia  38.648481\n",
              "96      Zambia          ZMB                Africa  36.000000\n",
              "\n",
              "[97 rows x 4 columns]"
            ]
          },
          "metadata": {
            "tags": []
          },
          "execution_count": 84
        }
      ]
    },
    {
      "cell_type": "code",
      "metadata": {
        "id": "onNOMT5-Wm48",
        "colab_type": "code",
        "colab": {}
      },
      "source": [
        "Contry_Travel_Stats = data_combined.groupby(['Destination','Country_Code','Destination_continent'],as_index=False).count().sort_values(by ='Country_Code',ascending = False).iloc[:,:4]\n",
        "Contry_Travel_Stats.rename(columns={'ID':'Count'},inplace=True)"
      ],
      "execution_count": null,
      "outputs": []
    },
    {
      "cell_type": "code",
      "metadata": {
        "id": "-wAwf6z2YOu6",
        "colab_type": "code",
        "colab": {}
      },
      "source": [
        "Subset=data_combined[data_combined['Claim'] ==1].copy()\n",
        "county_claim_stats = Subset.groupby(['Destination','Country_Code','Destination_continent'],as_index=False).count().sort_values(by ='Country_Code',ascending = False).iloc[:,:4]\n",
        "county_claim_stats.rename(columns={'ID':'Count'},inplace=True)"
      ],
      "execution_count": null,
      "outputs": []
    },
    {
      "cell_type": "code",
      "metadata": {
        "id": "tH-QeChNYgf4",
        "colab_type": "code",
        "colab": {
          "base_uri": "https://localhost:8080/",
          "height": 542
        },
        "outputId": "e3f2eb31-911c-4384-ea8c-85c453070686"
      },
      "source": [
        "import plotly.express as px\n",
        "df = county_claim_stats.copy()\n",
        "fig = px.scatter_geo(df, locations=\"Country_Code\",color=\"Destination\",\n",
        "                     hover_name=\"Destination\", size=df.Count, size_max=70,projection='natural earth')\n",
        "fig.update_layout({\n",
        "    'geo': {\n",
        "        'resolution': 50\n",
        "    }\n",
        "})\n",
        "fig.show()"
      ],
      "execution_count": null,
      "outputs": [
        {
          "output_type": "display_data",
          "data": {
            "text/html": [
              "<html>\n",
              "<head><meta charset=\"utf-8\" /></head>\n",
              "<body>\n",
              "    <div>\n",
              "            <script src=\"https://cdnjs.cloudflare.com/ajax/libs/mathjax/2.7.5/MathJax.js?config=TeX-AMS-MML_SVG\"></script><script type=\"text/javascript\">if (window.MathJax) {MathJax.Hub.Config({SVG: {font: \"STIX-Web\"}});}</script>\n",
              "                <script type=\"text/javascript\">window.PlotlyConfig = {MathJaxConfig: 'local'};</script>\n",
              "        <script src=\"https://cdn.plot.ly/plotly-latest.min.js\"></script>    \n",
              "            <div id=\"9354de7e-96a7-48d9-8734-0aae83b65f04\" class=\"plotly-graph-div\" style=\"height:525px; width:100%;\"></div>\n",
              "            <script type=\"text/javascript\">\n",
              "                \n",
              "                    window.PLOTLYENV=window.PLOTLYENV || {};\n",
              "                    \n",
              "                if (document.getElementById(\"9354de7e-96a7-48d9-8734-0aae83b65f04\")) {\n",
              "                    Plotly.newPlot(\n",
              "                        '9354de7e-96a7-48d9-8734-0aae83b65f04',\n",
              "                        [{\"geo\": \"geo\", \"hoverlabel\": {\"namelength\": 0}, \"hovertemplate\": \"<b>%{hovertext}</b><br><br>Destination=South Africa<br>Count=%{marker.size}<br>Country_Code=%{location}\", \"hovertext\": [\"South Africa\"], \"legendgroup\": \"Destination=South Africa\", \"locations\": [\"ZAF\"], \"marker\": {\"color\": \"#636efa\", \"size\": [51], \"sizemode\": \"area\", \"sizeref\": 1.083673469387755}, \"name\": \"Destination=South Africa\", \"showlegend\": true, \"type\": \"scattergeo\"}, {\"geo\": \"geo\", \"hoverlabel\": {\"namelength\": 0}, \"hovertemplate\": \"<b>%{hovertext}</b><br><br>Destination=Viet Nam<br>Count=%{marker.size}<br>Country_Code=%{location}\", \"hovertext\": [\"Viet Nam\"], \"legendgroup\": \"Destination=Viet Nam\", \"locations\": [\"VNM\"], \"marker\": {\"color\": \"#EF553B\", \"size\": [88], \"sizemode\": \"area\", \"sizeref\": 1.083673469387755}, \"name\": \"Destination=Viet Nam\", \"showlegend\": true, \"type\": \"scattergeo\"}, {\"geo\": \"geo\", \"hoverlabel\": {\"namelength\": 0}, \"hovertemplate\": \"<b>%{hovertext}</b><br><br>Destination=United States<br>Count=%{marker.size}<br>Country_Code=%{location}\", \"hovertext\": [\"United States\"], \"legendgroup\": \"Destination=United States\", \"locations\": [\"USA\"], \"marker\": {\"color\": \"#00cc96\", \"size\": [444], \"sizemode\": \"area\", \"sizeref\": 1.083673469387755}, \"name\": \"Destination=United States\", \"showlegend\": true, \"type\": \"scattergeo\"}, {\"geo\": \"geo\", \"hoverlabel\": {\"namelength\": 0}, \"hovertemplate\": \"<b>%{hovertext}</b><br><br>Destination=Taiwan<br>Count=%{marker.size}<br>Country_Code=%{location}\", \"hovertext\": [\"Taiwan\"], \"legendgroup\": \"Destination=Taiwan\", \"locations\": [\"TWN\"], \"marker\": {\"color\": \"#ab63fa\", \"size\": [85], \"sizemode\": \"area\", \"sizeref\": 1.083673469387755}, \"name\": \"Destination=Taiwan\", \"showlegend\": true, \"type\": \"scattergeo\"}, {\"geo\": \"geo\", \"hoverlabel\": {\"namelength\": 0}, \"hovertemplate\": \"<b>%{hovertext}</b><br><br>Destination=Turkey<br>Count=%{marker.size}<br>Country_Code=%{location}\", \"hovertext\": [\"Turkey\"], \"legendgroup\": \"Destination=Turkey\", \"locations\": [\"TUR\"], \"marker\": {\"color\": \"#FFA15A\", \"size\": [11], \"sizemode\": \"area\", \"sizeref\": 1.083673469387755}, \"name\": \"Destination=Turkey\", \"showlegend\": true, \"type\": \"scattergeo\"}, {\"geo\": \"geo\", \"hoverlabel\": {\"namelength\": 0}, \"hovertemplate\": \"<b>%{hovertext}</b><br><br>Destination=Thailand<br>Count=%{marker.size}<br>Country_Code=%{location}\", \"hovertext\": [\"Thailand\"], \"legendgroup\": \"Destination=Thailand\", \"locations\": [\"THA\"], \"marker\": {\"color\": \"#19d3f3\", \"size\": [458], \"sizemode\": \"area\", \"sizeref\": 1.083673469387755}, \"name\": \"Destination=Thailand\", \"showlegend\": true, \"type\": \"scattergeo\"}, {\"geo\": \"geo\", \"hoverlabel\": {\"namelength\": 0}, \"hovertemplate\": \"<b>%{hovertext}</b><br><br>Destination=Singapore<br>Count=%{marker.size}<br>Country_Code=%{location}\", \"hovertext\": [\"Singapore\"], \"legendgroup\": \"Destination=Singapore\", \"locations\": [\"SGP\"], \"marker\": {\"color\": \"#FF6692\", \"size\": [5310], \"sizemode\": \"area\", \"sizeref\": 1.083673469387755}, \"name\": \"Destination=Singapore\", \"showlegend\": true, \"type\": \"scattergeo\"}, {\"geo\": \"geo\", \"hoverlabel\": {\"namelength\": 0}, \"hovertemplate\": \"<b>%{hovertext}</b><br><br>Destination=Philippines<br>Count=%{marker.size}<br>Country_Code=%{location}\", \"hovertext\": [\"Philippines\"], \"legendgroup\": \"Destination=Philippines\", \"locations\": [\"PHL\"], \"marker\": {\"color\": \"#B6E880\", \"size\": [85], \"sizemode\": \"area\", \"sizeref\": 1.083673469387755}, \"name\": \"Destination=Philippines\", \"showlegend\": true, \"type\": \"scattergeo\"}, {\"geo\": \"geo\", \"hoverlabel\": {\"namelength\": 0}, \"hovertemplate\": \"<b>%{hovertext}</b><br><br>Destination=New Zealand<br>Count=%{marker.size}<br>Country_Code=%{location}\", \"hovertext\": [\"New Zealand\"], \"legendgroup\": \"Destination=New Zealand\", \"locations\": [\"NZL\"], \"marker\": {\"color\": \"#FF97FF\", \"size\": [13], \"sizemode\": \"area\", \"sizeref\": 1.083673469387755}, \"name\": \"Destination=New Zealand\", \"showlegend\": true, \"type\": \"scattergeo\"}, {\"geo\": \"geo\", \"hoverlabel\": {\"namelength\": 0}, \"hovertemplate\": \"<b>%{hovertext}</b><br><br>Destination=Nepal<br>Count=%{marker.size}<br>Country_Code=%{location}\", \"hovertext\": [\"Nepal\"], \"legendgroup\": \"Destination=Nepal\", \"locations\": [\"NPL\"], \"marker\": {\"color\": \"#FECB52\", \"size\": [41], \"sizemode\": \"area\", \"sizeref\": 1.083673469387755}, \"name\": \"Destination=Nepal\", \"showlegend\": true, \"type\": \"scattergeo\"}, {\"geo\": \"geo\", \"hoverlabel\": {\"namelength\": 0}, \"hovertemplate\": \"<b>%{hovertext}</b><br><br>Destination=Norway<br>Count=%{marker.size}<br>Country_Code=%{location}\", \"hovertext\": [\"Norway\"], \"legendgroup\": \"Destination=Norway\", \"locations\": [\"NOR\"], \"marker\": {\"color\": \"#636efa\", \"size\": [1], \"sizemode\": \"area\", \"sizeref\": 1.083673469387755}, \"name\": \"Destination=Norway\", \"showlegend\": true, \"type\": \"scattergeo\"}, {\"geo\": \"geo\", \"hoverlabel\": {\"namelength\": 0}, \"hovertemplate\": \"<b>%{hovertext}</b><br><br>Destination=Netherlands<br>Count=%{marker.size}<br>Country_Code=%{location}\", \"hovertext\": [\"Netherlands\"], \"legendgroup\": \"Destination=Netherlands\", \"locations\": [\"NLD\"], \"marker\": {\"color\": \"#EF553B\", \"size\": [54], \"sizemode\": \"area\", \"sizeref\": 1.083673469387755}, \"name\": \"Destination=Netherlands\", \"showlegend\": true, \"type\": \"scattergeo\"}, {\"geo\": \"geo\", \"hoverlabel\": {\"namelength\": 0}, \"hovertemplate\": \"<b>%{hovertext}</b><br><br>Destination=Malaysia<br>Count=%{marker.size}<br>Country_Code=%{location}\", \"hovertext\": [\"Malaysia\"], \"legendgroup\": \"Destination=Malaysia\", \"locations\": [\"MYS\"], \"marker\": {\"color\": \"#00cc96\", \"size\": [161], \"sizemode\": \"area\", \"sizeref\": 1.083673469387755}, \"name\": \"Destination=Malaysia\", \"showlegend\": true, \"type\": \"scattergeo\"}, {\"geo\": \"geo\", \"hoverlabel\": {\"namelength\": 0}, \"hovertemplate\": \"<b>%{hovertext}</b><br><br>Destination=Myanmar<br>Count=%{marker.size}<br>Country_Code=%{location}\", \"hovertext\": [\"Myanmar\"], \"legendgroup\": \"Destination=Myanmar\", \"locations\": [\"MMR\"], \"marker\": {\"color\": \"#ab63fa\", \"size\": [1], \"sizemode\": \"area\", \"sizeref\": 1.083673469387755}, \"name\": \"Destination=Myanmar\", \"showlegend\": true, \"type\": \"scattergeo\"}, {\"geo\": \"geo\", \"hoverlabel\": {\"namelength\": 0}, \"hovertemplate\": \"<b>%{hovertext}</b><br><br>Destination=Macao<br>Count=%{marker.size}<br>Country_Code=%{location}\", \"hovertext\": [\"Macao\"], \"legendgroup\": \"Destination=Macao\", \"locations\": [\"MAC\"], \"marker\": {\"color\": \"#FFA15A\", \"size\": [1], \"sizemode\": \"area\", \"sizeref\": 1.083673469387755}, \"name\": \"Destination=Macao\", \"showlegend\": true, \"type\": \"scattergeo\"}, {\"geo\": \"geo\", \"hoverlabel\": {\"namelength\": 0}, \"hovertemplate\": \"<b>%{hovertext}</b><br><br>Destination=South Korea<br>Count=%{marker.size}<br>Country_Code=%{location}\", \"hovertext\": [\"South Korea\"], \"legendgroup\": \"Destination=South Korea\", \"locations\": [\"KOR\"], \"marker\": {\"color\": \"#19d3f3\", \"size\": [127], \"sizemode\": \"area\", \"sizeref\": 1.083673469387755}, \"name\": \"Destination=South Korea\", \"showlegend\": true, \"type\": \"scattergeo\"}, {\"geo\": \"geo\", \"hoverlabel\": {\"namelength\": 0}, \"hovertemplate\": \"<b>%{hovertext}</b><br><br>Destination=Cambodia<br>Count=%{marker.size}<br>Country_Code=%{location}\", \"hovertext\": [\"Cambodia\"], \"legendgroup\": \"Destination=Cambodia\", \"locations\": [\"KHM\"], \"marker\": {\"color\": \"#FF6692\", \"size\": [1], \"sizemode\": \"area\", \"sizeref\": 1.083673469387755}, \"name\": \"Destination=Cambodia\", \"showlegend\": true, \"type\": \"scattergeo\"}, {\"geo\": \"geo\", \"hoverlabel\": {\"namelength\": 0}, \"hovertemplate\": \"<b>%{hovertext}</b><br><br>Destination=Japan<br>Count=%{marker.size}<br>Country_Code=%{location}\", \"hovertext\": [\"Japan\"], \"legendgroup\": \"Destination=Japan\", \"locations\": [\"JPN\"], \"marker\": {\"color\": \"#B6E880\", \"size\": [140], \"sizemode\": \"area\", \"sizeref\": 1.083673469387755}, \"name\": \"Destination=Japan\", \"showlegend\": true, \"type\": \"scattergeo\"}, {\"geo\": \"geo\", \"hoverlabel\": {\"namelength\": 0}, \"hovertemplate\": \"<b>%{hovertext}</b><br><br>Destination=Italy<br>Count=%{marker.size}<br>Country_Code=%{location}\", \"hovertext\": [\"Italy\"], \"legendgroup\": \"Destination=Italy\", \"locations\": [\"ITA\"], \"marker\": {\"color\": \"#FF97FF\", \"size\": [74], \"sizemode\": \"area\", \"sizeref\": 1.083673469387755}, \"name\": \"Destination=Italy\", \"showlegend\": true, \"type\": \"scattergeo\"}, {\"geo\": \"geo\", \"hoverlabel\": {\"namelength\": 0}, \"hovertemplate\": \"<b>%{hovertext}</b><br><br>Destination=Israel<br>Count=%{marker.size}<br>Country_Code=%{location}\", \"hovertext\": [\"Israel\"], \"legendgroup\": \"Destination=Israel\", \"locations\": [\"ISR\"], \"marker\": {\"color\": \"#FECB52\", \"size\": [1], \"sizemode\": \"area\", \"sizeref\": 1.083673469387755}, \"name\": \"Destination=Israel\", \"showlegend\": true, \"type\": \"scattergeo\"}, {\"geo\": \"geo\", \"hoverlabel\": {\"namelength\": 0}, \"hovertemplate\": \"<b>%{hovertext}</b><br><br>Destination=Iceland<br>Count=%{marker.size}<br>Country_Code=%{location}\", \"hovertext\": [\"Iceland\"], \"legendgroup\": \"Destination=Iceland\", \"locations\": [\"ISL\"], \"marker\": {\"color\": \"#636efa\", \"size\": [3], \"sizemode\": \"area\", \"sizeref\": 1.083673469387755}, \"name\": \"Destination=Iceland\", \"showlegend\": true, \"type\": \"scattergeo\"}, {\"geo\": \"geo\", \"hoverlabel\": {\"namelength\": 0}, \"hovertemplate\": \"<b>%{hovertext}</b><br><br>Destination=India<br>Count=%{marker.size}<br>Country_Code=%{location}\", \"hovertext\": [\"India\"], \"legendgroup\": \"Destination=India\", \"locations\": [\"IND\"], \"marker\": {\"color\": \"#EF553B\", \"size\": [34], \"sizemode\": \"area\", \"sizeref\": 1.083673469387755}, \"name\": \"Destination=India\", \"showlegend\": true, \"type\": \"scattergeo\"}, {\"geo\": \"geo\", \"hoverlabel\": {\"namelength\": 0}, \"hovertemplate\": \"<b>%{hovertext}</b><br><br>Destination=Indonesia<br>Count=%{marker.size}<br>Country_Code=%{location}\", \"hovertext\": [\"Indonesia\"], \"legendgroup\": \"Destination=Indonesia\", \"locations\": [\"IDN\"], \"marker\": {\"color\": \"#00cc96\", \"size\": [98], \"sizemode\": \"area\", \"sizeref\": 1.083673469387755}, \"name\": \"Destination=Indonesia\", \"showlegend\": true, \"type\": \"scattergeo\"}, {\"geo\": \"geo\", \"hoverlabel\": {\"namelength\": 0}, \"hovertemplate\": \"<b>%{hovertext}</b><br><br>Destination=Hong Kong<br>Count=%{marker.size}<br>Country_Code=%{location}\", \"hovertext\": [\"Hong Kong\"], \"legendgroup\": \"Destination=Hong Kong\", \"locations\": [\"HKG\"], \"marker\": {\"color\": \"#ab63fa\", \"size\": [114], \"sizemode\": \"area\", \"sizeref\": 1.083673469387755}, \"name\": \"Destination=Hong Kong\", \"showlegend\": true, \"type\": \"scattergeo\"}, {\"geo\": \"geo\", \"hoverlabel\": {\"namelength\": 0}, \"hovertemplate\": \"<b>%{hovertext}</b><br><br>Destination=Greece<br>Count=%{marker.size}<br>Country_Code=%{location}\", \"hovertext\": [\"Greece\"], \"legendgroup\": \"Destination=Greece\", \"locations\": [\"GRC\"], \"marker\": {\"color\": \"#FFA15A\", \"size\": [1], \"sizemode\": \"area\", \"sizeref\": 1.083673469387755}, \"name\": \"Destination=Greece\", \"showlegend\": true, \"type\": \"scattergeo\"}, {\"geo\": \"geo\", \"hoverlabel\": {\"namelength\": 0}, \"hovertemplate\": \"<b>%{hovertext}</b><br><br>Destination=United Kingdom<br>Count=%{marker.size}<br>Country_Code=%{location}\", \"hovertext\": [\"United Kingdom\"], \"legendgroup\": \"Destination=United Kingdom\", \"locations\": [\"GBR\"], \"marker\": {\"color\": \"#19d3f3\", \"size\": [142], \"sizemode\": \"area\", \"sizeref\": 1.083673469387755}, \"name\": \"Destination=United Kingdom\", \"showlegend\": true, \"type\": \"scattergeo\"}, {\"geo\": \"geo\", \"hoverlabel\": {\"namelength\": 0}, \"hovertemplate\": \"<b>%{hovertext}</b><br><br>Destination=France<br>Count=%{marker.size}<br>Country_Code=%{location}\", \"hovertext\": [\"France\"], \"legendgroup\": \"Destination=France\", \"locations\": [\"FRA\"], \"marker\": {\"color\": \"#FF6692\", \"size\": [6], \"sizemode\": \"area\", \"sizeref\": 1.083673469387755}, \"name\": \"Destination=France\", \"showlegend\": true, \"type\": \"scattergeo\"}, {\"geo\": \"geo\", \"hoverlabel\": {\"namelength\": 0}, \"hovertemplate\": \"<b>%{hovertext}</b><br><br>Destination=Finland<br>Count=%{marker.size}<br>Country_Code=%{location}\", \"hovertext\": [\"Finland\"], \"legendgroup\": \"Destination=Finland\", \"locations\": [\"FIN\"], \"marker\": {\"color\": \"#B6E880\", \"size\": [1], \"sizemode\": \"area\", \"sizeref\": 1.083673469387755}, \"name\": \"Destination=Finland\", \"showlegend\": true, \"type\": \"scattergeo\"}, {\"geo\": \"geo\", \"hoverlabel\": {\"namelength\": 0}, \"hovertemplate\": \"<b>%{hovertext}</b><br><br>Destination=Spain<br>Count=%{marker.size}<br>Country_Code=%{location}\", \"hovertext\": [\"Spain\"], \"legendgroup\": \"Destination=Spain\", \"locations\": [\"ESP\"], \"marker\": {\"color\": \"#FF97FF\", \"size\": [37], \"sizemode\": \"area\", \"sizeref\": 1.083673469387755}, \"name\": \"Destination=Spain\", \"showlegend\": true, \"type\": \"scattergeo\"}, {\"geo\": \"geo\", \"hoverlabel\": {\"namelength\": 0}, \"hovertemplate\": \"<b>%{hovertext}</b><br><br>Destination=Germany<br>Count=%{marker.size}<br>Country_Code=%{location}\", \"hovertext\": [\"Germany\"], \"legendgroup\": \"Destination=Germany\", \"locations\": [\"DEU\"], \"marker\": {\"color\": \"#FECB52\", \"size\": [19], \"sizemode\": \"area\", \"sizeref\": 1.083673469387755}, \"name\": \"Destination=Germany\", \"showlegend\": true, \"type\": \"scattergeo\"}, {\"geo\": \"geo\", \"hoverlabel\": {\"namelength\": 0}, \"hovertemplate\": \"<b>%{hovertext}</b><br><br>Destination=Czech Republic<br>Count=%{marker.size}<br>Country_Code=%{location}\", \"hovertext\": [\"Czech Republic\"], \"legendgroup\": \"Destination=Czech Republic\", \"locations\": [\"CZE\"], \"marker\": {\"color\": \"#636efa\", \"size\": [1], \"sizemode\": \"area\", \"sizeref\": 1.083673469387755}, \"name\": \"Destination=Czech Republic\", \"showlegend\": true, \"type\": \"scattergeo\"}, {\"geo\": \"geo\", \"hoverlabel\": {\"namelength\": 0}, \"hovertemplate\": \"<b>%{hovertext}</b><br><br>Destination=Costa Rica<br>Count=%{marker.size}<br>Country_Code=%{location}\", \"hovertext\": [\"Costa Rica\"], \"legendgroup\": \"Destination=Costa Rica\", \"locations\": [\"CRI\"], \"marker\": {\"color\": \"#EF553B\", \"size\": [1], \"sizemode\": \"area\", \"sizeref\": 1.083673469387755}, \"name\": \"Destination=Costa Rica\", \"showlegend\": true, \"type\": \"scattergeo\"}, {\"geo\": \"geo\", \"hoverlabel\": {\"namelength\": 0}, \"hovertemplate\": \"<b>%{hovertext}</b><br><br>Destination=China<br>Count=%{marker.size}<br>Country_Code=%{location}\", \"hovertext\": [\"China\"], \"legendgroup\": \"Destination=China\", \"locations\": [\"CHN\"], \"marker\": {\"color\": \"#00cc96\", \"size\": [642], \"sizemode\": \"area\", \"sizeref\": 1.083673469387755}, \"name\": \"Destination=China\", \"showlegend\": true, \"type\": \"scattergeo\"}, {\"geo\": \"geo\", \"hoverlabel\": {\"namelength\": 0}, \"hovertemplate\": \"<b>%{hovertext}</b><br><br>Destination=Switzerland<br>Count=%{marker.size}<br>Country_Code=%{location}\", \"hovertext\": [\"Switzerland\"], \"legendgroup\": \"Destination=Switzerland\", \"locations\": [\"CHE\"], \"marker\": {\"color\": \"#ab63fa\", \"size\": [4], \"sizemode\": \"area\", \"sizeref\": 1.083673469387755}, \"name\": \"Destination=Switzerland\", \"showlegend\": true, \"type\": \"scattergeo\"}, {\"geo\": \"geo\", \"hoverlabel\": {\"namelength\": 0}, \"hovertemplate\": \"<b>%{hovertext}</b><br><br>Destination=Canada<br>Count=%{marker.size}<br>Country_Code=%{location}\", \"hovertext\": [\"Canada\"], \"legendgroup\": \"Destination=Canada\", \"locations\": [\"CAN\"], \"marker\": {\"color\": \"#FFA15A\", \"size\": [14], \"sizemode\": \"area\", \"sizeref\": 1.083673469387755}, \"name\": \"Destination=Canada\", \"showlegend\": true, \"type\": \"scattergeo\"}, {\"geo\": \"geo\", \"hoverlabel\": {\"namelength\": 0}, \"hovertemplate\": \"<b>%{hovertext}</b><br><br>Destination=Brunei Darussalam<br>Count=%{marker.size}<br>Country_Code=%{location}\", \"hovertext\": [\"Brunei Darussalam\"], \"legendgroup\": \"Destination=Brunei Darussalam\", \"locations\": [\"BRN\"], \"marker\": {\"color\": \"#19d3f3\", \"size\": [2], \"sizemode\": \"area\", \"sizeref\": 1.083673469387755}, \"name\": \"Destination=Brunei Darussalam\", \"showlegend\": true, \"type\": \"scattergeo\"}, {\"geo\": \"geo\", \"hoverlabel\": {\"namelength\": 0}, \"hovertemplate\": \"<b>%{hovertext}</b><br><br>Destination=Australia<br>Count=%{marker.size}<br>Country_Code=%{location}\", \"hovertext\": [\"Australia\"], \"legendgroup\": \"Destination=Australia\", \"locations\": [\"AUS\"], \"marker\": {\"color\": \"#FF6692\", \"size\": [455], \"sizemode\": \"area\", \"sizeref\": 1.083673469387755}, \"name\": \"Destination=Australia\", \"showlegend\": true, \"type\": \"scattergeo\"}, {\"geo\": \"geo\", \"hoverlabel\": {\"namelength\": 0}, \"hovertemplate\": \"<b>%{hovertext}</b><br><br>Destination=Argentina<br>Count=%{marker.size}<br>Country_Code=%{location}\", \"hovertext\": [\"Argentina\"], \"legendgroup\": \"Destination=Argentina\", \"locations\": [\"ARG\"], \"marker\": {\"color\": \"#B6E880\", \"size\": [1], \"sizemode\": \"area\", \"sizeref\": 1.083673469387755}, \"name\": \"Destination=Argentina\", \"showlegend\": true, \"type\": \"scattergeo\"}, {\"geo\": \"geo\", \"hoverlabel\": {\"namelength\": 0}, \"hovertemplate\": \"<b>%{hovertext}</b><br><br>Destination=United Arab Emirates<br>Count=%{marker.size}<br>Country_Code=%{location}\", \"hovertext\": [\"United Arab Emirates\"], \"legendgroup\": \"Destination=United Arab Emirates\", \"locations\": [\"ARE\"], \"marker\": {\"color\": \"#FF97FF\", \"size\": [2], \"sizemode\": \"area\", \"sizeref\": 1.083673469387755}, \"name\": \"Destination=United Arab Emirates\", \"showlegend\": true, \"type\": \"scattergeo\"}],\n",
              "                        {\"geo\": {\"center\": {}, \"domain\": {\"x\": [0.0, 1.0], \"y\": [0.0, 1.0]}, \"projection\": {\"type\": \"natural earth\"}, \"resolution\": 50}, \"legend\": {\"itemsizing\": \"constant\", \"tracegroupgap\": 0}, \"margin\": {\"t\": 60}, \"template\": {\"data\": {\"bar\": [{\"error_x\": {\"color\": \"#2a3f5f\"}, \"error_y\": {\"color\": \"#2a3f5f\"}, \"marker\": {\"line\": {\"color\": \"#E5ECF6\", \"width\": 0.5}}, \"type\": \"bar\"}], \"barpolar\": [{\"marker\": {\"line\": {\"color\": \"#E5ECF6\", \"width\": 0.5}}, \"type\": \"barpolar\"}], \"carpet\": [{\"aaxis\": {\"endlinecolor\": \"#2a3f5f\", \"gridcolor\": \"white\", \"linecolor\": \"white\", \"minorgridcolor\": \"white\", \"startlinecolor\": \"#2a3f5f\"}, \"baxis\": {\"endlinecolor\": \"#2a3f5f\", \"gridcolor\": \"white\", \"linecolor\": \"white\", \"minorgridcolor\": \"white\", \"startlinecolor\": \"#2a3f5f\"}, \"type\": \"carpet\"}], \"choropleth\": [{\"colorbar\": {\"outlinewidth\": 0, \"ticks\": \"\"}, \"type\": \"choropleth\"}], \"contour\": [{\"colorbar\": {\"outlinewidth\": 0, \"ticks\": \"\"}, \"colorscale\": [[0.0, \"#0d0887\"], [0.1111111111111111, \"#46039f\"], [0.2222222222222222, \"#7201a8\"], [0.3333333333333333, \"#9c179e\"], [0.4444444444444444, \"#bd3786\"], [0.5555555555555556, \"#d8576b\"], [0.6666666666666666, \"#ed7953\"], [0.7777777777777778, \"#fb9f3a\"], [0.8888888888888888, \"#fdca26\"], [1.0, \"#f0f921\"]], \"type\": \"contour\"}], \"contourcarpet\": [{\"colorbar\": {\"outlinewidth\": 0, \"ticks\": \"\"}, \"type\": \"contourcarpet\"}], \"heatmap\": [{\"colorbar\": {\"outlinewidth\": 0, \"ticks\": \"\"}, \"colorscale\": [[0.0, \"#0d0887\"], [0.1111111111111111, \"#46039f\"], [0.2222222222222222, \"#7201a8\"], [0.3333333333333333, \"#9c179e\"], [0.4444444444444444, \"#bd3786\"], [0.5555555555555556, \"#d8576b\"], [0.6666666666666666, \"#ed7953\"], [0.7777777777777778, \"#fb9f3a\"], [0.8888888888888888, \"#fdca26\"], [1.0, \"#f0f921\"]], \"type\": \"heatmap\"}], \"heatmapgl\": [{\"colorbar\": {\"outlinewidth\": 0, \"ticks\": \"\"}, \"colorscale\": [[0.0, \"#0d0887\"], [0.1111111111111111, \"#46039f\"], [0.2222222222222222, \"#7201a8\"], [0.3333333333333333, \"#9c179e\"], [0.4444444444444444, \"#bd3786\"], [0.5555555555555556, \"#d8576b\"], [0.6666666666666666, \"#ed7953\"], [0.7777777777777778, \"#fb9f3a\"], [0.8888888888888888, \"#fdca26\"], [1.0, \"#f0f921\"]], \"type\": \"heatmapgl\"}], \"histogram\": [{\"marker\": {\"colorbar\": {\"outlinewidth\": 0, \"ticks\": \"\"}}, \"type\": \"histogram\"}], \"histogram2d\": [{\"colorbar\": {\"outlinewidth\": 0, \"ticks\": \"\"}, \"colorscale\": [[0.0, \"#0d0887\"], [0.1111111111111111, \"#46039f\"], [0.2222222222222222, \"#7201a8\"], [0.3333333333333333, \"#9c179e\"], [0.4444444444444444, \"#bd3786\"], [0.5555555555555556, \"#d8576b\"], [0.6666666666666666, \"#ed7953\"], [0.7777777777777778, \"#fb9f3a\"], [0.8888888888888888, \"#fdca26\"], [1.0, \"#f0f921\"]], \"type\": \"histogram2d\"}], \"histogram2dcontour\": [{\"colorbar\": {\"outlinewidth\": 0, \"ticks\": \"\"}, \"colorscale\": [[0.0, \"#0d0887\"], [0.1111111111111111, \"#46039f\"], [0.2222222222222222, \"#7201a8\"], [0.3333333333333333, \"#9c179e\"], [0.4444444444444444, \"#bd3786\"], [0.5555555555555556, \"#d8576b\"], [0.6666666666666666, \"#ed7953\"], [0.7777777777777778, \"#fb9f3a\"], [0.8888888888888888, \"#fdca26\"], [1.0, \"#f0f921\"]], \"type\": \"histogram2dcontour\"}], \"mesh3d\": [{\"colorbar\": {\"outlinewidth\": 0, \"ticks\": \"\"}, \"type\": \"mesh3d\"}], \"parcoords\": [{\"line\": {\"colorbar\": {\"outlinewidth\": 0, \"ticks\": \"\"}}, \"type\": \"parcoords\"}], \"pie\": [{\"automargin\": true, \"type\": \"pie\"}], \"scatter\": [{\"marker\": {\"colorbar\": {\"outlinewidth\": 0, \"ticks\": \"\"}}, \"type\": \"scatter\"}], \"scatter3d\": [{\"line\": {\"colorbar\": {\"outlinewidth\": 0, \"ticks\": \"\"}}, \"marker\": {\"colorbar\": {\"outlinewidth\": 0, \"ticks\": \"\"}}, \"type\": \"scatter3d\"}], \"scattercarpet\": [{\"marker\": {\"colorbar\": {\"outlinewidth\": 0, \"ticks\": \"\"}}, \"type\": \"scattercarpet\"}], \"scattergeo\": [{\"marker\": {\"colorbar\": {\"outlinewidth\": 0, \"ticks\": \"\"}}, \"type\": \"scattergeo\"}], \"scattergl\": [{\"marker\": {\"colorbar\": {\"outlinewidth\": 0, \"ticks\": \"\"}}, \"type\": \"scattergl\"}], \"scattermapbox\": [{\"marker\": {\"colorbar\": {\"outlinewidth\": 0, \"ticks\": \"\"}}, \"type\": \"scattermapbox\"}], \"scatterpolar\": [{\"marker\": {\"colorbar\": {\"outlinewidth\": 0, \"ticks\": \"\"}}, \"type\": \"scatterpolar\"}], \"scatterpolargl\": [{\"marker\": {\"colorbar\": {\"outlinewidth\": 0, \"ticks\": \"\"}}, \"type\": \"scatterpolargl\"}], \"scatterternary\": [{\"marker\": {\"colorbar\": {\"outlinewidth\": 0, \"ticks\": \"\"}}, \"type\": \"scatterternary\"}], \"surface\": [{\"colorbar\": {\"outlinewidth\": 0, \"ticks\": \"\"}, \"colorscale\": [[0.0, \"#0d0887\"], [0.1111111111111111, \"#46039f\"], [0.2222222222222222, \"#7201a8\"], [0.3333333333333333, \"#9c179e\"], [0.4444444444444444, \"#bd3786\"], [0.5555555555555556, \"#d8576b\"], [0.6666666666666666, \"#ed7953\"], [0.7777777777777778, \"#fb9f3a\"], [0.8888888888888888, \"#fdca26\"], [1.0, \"#f0f921\"]], \"type\": \"surface\"}], \"table\": [{\"cells\": {\"fill\": {\"color\": \"#EBF0F8\"}, \"line\": {\"color\": \"white\"}}, \"header\": {\"fill\": {\"color\": \"#C8D4E3\"}, \"line\": {\"color\": \"white\"}}, \"type\": \"table\"}]}, \"layout\": {\"annotationdefaults\": {\"arrowcolor\": \"#2a3f5f\", \"arrowhead\": 0, \"arrowwidth\": 1}, \"coloraxis\": {\"colorbar\": {\"outlinewidth\": 0, \"ticks\": \"\"}}, \"colorscale\": {\"diverging\": [[0, \"#8e0152\"], [0.1, \"#c51b7d\"], [0.2, \"#de77ae\"], [0.3, \"#f1b6da\"], [0.4, \"#fde0ef\"], [0.5, \"#f7f7f7\"], [0.6, \"#e6f5d0\"], [0.7, \"#b8e186\"], [0.8, \"#7fbc41\"], [0.9, \"#4d9221\"], [1, \"#276419\"]], \"sequential\": [[0.0, \"#0d0887\"], [0.1111111111111111, \"#46039f\"], [0.2222222222222222, \"#7201a8\"], [0.3333333333333333, \"#9c179e\"], [0.4444444444444444, \"#bd3786\"], [0.5555555555555556, \"#d8576b\"], [0.6666666666666666, \"#ed7953\"], [0.7777777777777778, \"#fb9f3a\"], [0.8888888888888888, \"#fdca26\"], [1.0, \"#f0f921\"]], \"sequentialminus\": [[0.0, \"#0d0887\"], [0.1111111111111111, \"#46039f\"], [0.2222222222222222, \"#7201a8\"], [0.3333333333333333, \"#9c179e\"], [0.4444444444444444, \"#bd3786\"], [0.5555555555555556, \"#d8576b\"], [0.6666666666666666, \"#ed7953\"], [0.7777777777777778, \"#fb9f3a\"], [0.8888888888888888, \"#fdca26\"], [1.0, \"#f0f921\"]]}, \"colorway\": [\"#636efa\", \"#EF553B\", \"#00cc96\", \"#ab63fa\", \"#FFA15A\", \"#19d3f3\", \"#FF6692\", \"#B6E880\", \"#FF97FF\", \"#FECB52\"], \"font\": {\"color\": \"#2a3f5f\"}, \"geo\": {\"bgcolor\": \"white\", \"lakecolor\": \"white\", \"landcolor\": \"#E5ECF6\", \"showlakes\": true, \"showland\": true, \"subunitcolor\": \"white\"}, \"hoverlabel\": {\"align\": \"left\"}, \"hovermode\": \"closest\", \"mapbox\": {\"style\": \"light\"}, \"paper_bgcolor\": \"white\", \"plot_bgcolor\": \"#E5ECF6\", \"polar\": {\"angularaxis\": {\"gridcolor\": \"white\", \"linecolor\": \"white\", \"ticks\": \"\"}, \"bgcolor\": \"#E5ECF6\", \"radialaxis\": {\"gridcolor\": \"white\", \"linecolor\": \"white\", \"ticks\": \"\"}}, \"scene\": {\"xaxis\": {\"backgroundcolor\": \"#E5ECF6\", \"gridcolor\": \"white\", \"gridwidth\": 2, \"linecolor\": \"white\", \"showbackground\": true, \"ticks\": \"\", \"zerolinecolor\": \"white\"}, \"yaxis\": {\"backgroundcolor\": \"#E5ECF6\", \"gridcolor\": \"white\", \"gridwidth\": 2, \"linecolor\": \"white\", \"showbackground\": true, \"ticks\": \"\", \"zerolinecolor\": \"white\"}, \"zaxis\": {\"backgroundcolor\": \"#E5ECF6\", \"gridcolor\": \"white\", \"gridwidth\": 2, \"linecolor\": \"white\", \"showbackground\": true, \"ticks\": \"\", \"zerolinecolor\": \"white\"}}, \"shapedefaults\": {\"line\": {\"color\": \"#2a3f5f\"}}, \"ternary\": {\"aaxis\": {\"gridcolor\": \"white\", \"linecolor\": \"white\", \"ticks\": \"\"}, \"baxis\": {\"gridcolor\": \"white\", \"linecolor\": \"white\", \"ticks\": \"\"}, \"bgcolor\": \"#E5ECF6\", \"caxis\": {\"gridcolor\": \"white\", \"linecolor\": \"white\", \"ticks\": \"\"}}, \"title\": {\"x\": 0.05}, \"xaxis\": {\"automargin\": true, \"gridcolor\": \"white\", \"linecolor\": \"white\", \"ticks\": \"\", \"title\": {\"standoff\": 15}, \"zerolinecolor\": \"white\", \"zerolinewidth\": 2}, \"yaxis\": {\"automargin\": true, \"gridcolor\": \"white\", \"linecolor\": \"white\", \"ticks\": \"\", \"title\": {\"standoff\": 15}, \"zerolinecolor\": \"white\", \"zerolinewidth\": 2}}}},\n",
              "                        {\"responsive\": true}\n",
              "                    ).then(function(){\n",
              "                            \n",
              "var gd = document.getElementById('9354de7e-96a7-48d9-8734-0aae83b65f04');\n",
              "var x = new MutationObserver(function (mutations, observer) {{\n",
              "        var display = window.getComputedStyle(gd).display;\n",
              "        if (!display || display === 'none') {{\n",
              "            console.log([gd, 'removed!']);\n",
              "            Plotly.purge(gd);\n",
              "            observer.disconnect();\n",
              "        }}\n",
              "}});\n",
              "\n",
              "// Listen for the removal of the full notebook cells\n",
              "var notebookContainer = gd.closest('#notebook-container');\n",
              "if (notebookContainer) {{\n",
              "    x.observe(notebookContainer, {childList: true});\n",
              "}}\n",
              "\n",
              "// Listen for the clearing of the current output cell\n",
              "var outputEl = gd.closest('.output');\n",
              "if (outputEl) {{\n",
              "    x.observe(outputEl, {childList: true});\n",
              "}}\n",
              "\n",
              "                        })\n",
              "                };\n",
              "                \n",
              "            </script>\n",
              "        </div>\n",
              "</body>\n",
              "</html>"
            ]
          },
          "metadata": {
            "tags": []
          }
        }
      ]
    },
    {
      "cell_type": "code",
      "metadata": {
        "id": "-AnUZybEY1fG",
        "colab_type": "code",
        "colab": {
          "base_uri": "https://localhost:8080/",
          "height": 542
        },
        "outputId": "7b21bf61-5940-4544-98a4-e916ef6c2c80"
      },
      "source": [
        "df = county_claim_stats.copy()\n",
        "fig1 = px.choropleth(df, locations=\"Country_Code\",\n",
        "                    color=\"Count\", # lifeExp is a column of gapminder\n",
        "                    hover_name=\"Destination\", # column to add to hover information\n",
        "                    color_continuous_scale=px.colors.sequential.Plasma,range_color=(0,500),projection='natural earth')\n",
        "                    #tickvals = [0,50,100,500,1000,5000])\n",
        "fig1.update_layout({\n",
        "    'geo': {\n",
        "        'resolution': 50\n",
        "    }\n",
        "})\n",
        "\n",
        "\n",
        "fig1.show()"
      ],
      "execution_count": null,
      "outputs": [
        {
          "output_type": "display_data",
          "data": {
            "text/html": [
              "<html>\n",
              "<head><meta charset=\"utf-8\" /></head>\n",
              "<body>\n",
              "    <div>\n",
              "            <script src=\"https://cdnjs.cloudflare.com/ajax/libs/mathjax/2.7.5/MathJax.js?config=TeX-AMS-MML_SVG\"></script><script type=\"text/javascript\">if (window.MathJax) {MathJax.Hub.Config({SVG: {font: \"STIX-Web\"}});}</script>\n",
              "                <script type=\"text/javascript\">window.PlotlyConfig = {MathJaxConfig: 'local'};</script>\n",
              "        <script src=\"https://cdn.plot.ly/plotly-latest.min.js\"></script>    \n",
              "            <div id=\"3f77ca1c-ce2e-440b-b1a7-f38418b1872b\" class=\"plotly-graph-div\" style=\"height:525px; width:100%;\"></div>\n",
              "            <script type=\"text/javascript\">\n",
              "                \n",
              "                    window.PLOTLYENV=window.PLOTLYENV || {};\n",
              "                    \n",
              "                if (document.getElementById(\"3f77ca1c-ce2e-440b-b1a7-f38418b1872b\")) {\n",
              "                    Plotly.newPlot(\n",
              "                        '3f77ca1c-ce2e-440b-b1a7-f38418b1872b',\n",
              "                        [{\"coloraxis\": \"coloraxis\", \"geo\": \"geo\", \"hoverlabel\": {\"namelength\": 0}, \"hovertemplate\": \"<b>%{hovertext}</b><br><br>Country_Code=%{location}<br>Count=%{z}\", \"hovertext\": [\"South Africa\", \"Viet Nam\", \"United States\", \"Taiwan\", \"Turkey\", \"Thailand\", \"Singapore\", \"Philippines\", \"New Zealand\", \"Nepal\", \"Norway\", \"Netherlands\", \"Malaysia\", \"Myanmar\", \"Macao\", \"South Korea\", \"Cambodia\", \"Japan\", \"Italy\", \"Israel\", \"Iceland\", \"India\", \"Indonesia\", \"Hong Kong\", \"Greece\", \"United Kingdom\", \"France\", \"Finland\", \"Spain\", \"Germany\", \"Czech Republic\", \"Costa Rica\", \"China\", \"Switzerland\", \"Canada\", \"Brunei Darussalam\", \"Australia\", \"Argentina\", \"United Arab Emirates\"], \"locations\": [\"ZAF\", \"VNM\", \"USA\", \"TWN\", \"TUR\", \"THA\", \"SGP\", \"PHL\", \"NZL\", \"NPL\", \"NOR\", \"NLD\", \"MYS\", \"MMR\", \"MAC\", \"KOR\", \"KHM\", \"JPN\", \"ITA\", \"ISR\", \"ISL\", \"IND\", \"IDN\", \"HKG\", \"GRC\", \"GBR\", \"FRA\", \"FIN\", \"ESP\", \"DEU\", \"CZE\", \"CRI\", \"CHN\", \"CHE\", \"CAN\", \"BRN\", \"AUS\", \"ARG\", \"ARE\"], \"name\": \"\", \"type\": \"choropleth\", \"z\": [51, 88, 444, 85, 11, 458, 5310, 85, 13, 41, 1, 54, 161, 1, 1, 127, 1, 140, 74, 1, 3, 34, 98, 114, 1, 142, 6, 1, 37, 19, 1, 1, 642, 4, 14, 2, 455, 1, 2]}],\n",
              "                        {\"coloraxis\": {\"cmax\": 500, \"cmin\": 0, \"colorbar\": {\"title\": {\"text\": \"Count\"}}, \"colorscale\": [[0.0, \"#0d0887\"], [0.1111111111111111, \"#46039f\"], [0.2222222222222222, \"#7201a8\"], [0.3333333333333333, \"#9c179e\"], [0.4444444444444444, \"#bd3786\"], [0.5555555555555556, \"#d8576b\"], [0.6666666666666666, \"#ed7953\"], [0.7777777777777778, \"#fb9f3a\"], [0.8888888888888888, \"#fdca26\"], [1.0, \"#f0f921\"]]}, \"geo\": {\"center\": {}, \"domain\": {\"x\": [0.0, 1.0], \"y\": [0.0, 1.0]}, \"projection\": {\"type\": \"natural earth\"}, \"resolution\": 50}, \"legend\": {\"tracegroupgap\": 0}, \"margin\": {\"t\": 60}, \"template\": {\"data\": {\"bar\": [{\"error_x\": {\"color\": \"#2a3f5f\"}, \"error_y\": {\"color\": \"#2a3f5f\"}, \"marker\": {\"line\": {\"color\": \"#E5ECF6\", \"width\": 0.5}}, \"type\": \"bar\"}], \"barpolar\": [{\"marker\": {\"line\": {\"color\": \"#E5ECF6\", \"width\": 0.5}}, \"type\": \"barpolar\"}], \"carpet\": [{\"aaxis\": {\"endlinecolor\": \"#2a3f5f\", \"gridcolor\": \"white\", \"linecolor\": \"white\", \"minorgridcolor\": \"white\", \"startlinecolor\": \"#2a3f5f\"}, \"baxis\": {\"endlinecolor\": \"#2a3f5f\", \"gridcolor\": \"white\", \"linecolor\": \"white\", \"minorgridcolor\": \"white\", \"startlinecolor\": \"#2a3f5f\"}, \"type\": \"carpet\"}], \"choropleth\": [{\"colorbar\": {\"outlinewidth\": 0, \"ticks\": \"\"}, \"type\": \"choropleth\"}], \"contour\": [{\"colorbar\": {\"outlinewidth\": 0, \"ticks\": \"\"}, \"colorscale\": [[0.0, \"#0d0887\"], [0.1111111111111111, \"#46039f\"], [0.2222222222222222, \"#7201a8\"], [0.3333333333333333, \"#9c179e\"], [0.4444444444444444, \"#bd3786\"], [0.5555555555555556, \"#d8576b\"], [0.6666666666666666, \"#ed7953\"], [0.7777777777777778, \"#fb9f3a\"], [0.8888888888888888, \"#fdca26\"], [1.0, \"#f0f921\"]], \"type\": \"contour\"}], \"contourcarpet\": [{\"colorbar\": {\"outlinewidth\": 0, \"ticks\": \"\"}, \"type\": \"contourcarpet\"}], \"heatmap\": [{\"colorbar\": {\"outlinewidth\": 0, \"ticks\": \"\"}, \"colorscale\": [[0.0, \"#0d0887\"], [0.1111111111111111, \"#46039f\"], [0.2222222222222222, \"#7201a8\"], [0.3333333333333333, \"#9c179e\"], [0.4444444444444444, \"#bd3786\"], [0.5555555555555556, \"#d8576b\"], [0.6666666666666666, \"#ed7953\"], [0.7777777777777778, \"#fb9f3a\"], [0.8888888888888888, \"#fdca26\"], [1.0, \"#f0f921\"]], \"type\": \"heatmap\"}], \"heatmapgl\": [{\"colorbar\": {\"outlinewidth\": 0, \"ticks\": \"\"}, \"colorscale\": [[0.0, \"#0d0887\"], [0.1111111111111111, \"#46039f\"], [0.2222222222222222, \"#7201a8\"], [0.3333333333333333, \"#9c179e\"], [0.4444444444444444, \"#bd3786\"], [0.5555555555555556, \"#d8576b\"], [0.6666666666666666, \"#ed7953\"], [0.7777777777777778, \"#fb9f3a\"], [0.8888888888888888, \"#fdca26\"], [1.0, \"#f0f921\"]], \"type\": \"heatmapgl\"}], \"histogram\": [{\"marker\": {\"colorbar\": {\"outlinewidth\": 0, \"ticks\": \"\"}}, \"type\": \"histogram\"}], \"histogram2d\": [{\"colorbar\": {\"outlinewidth\": 0, \"ticks\": \"\"}, \"colorscale\": [[0.0, \"#0d0887\"], [0.1111111111111111, \"#46039f\"], [0.2222222222222222, \"#7201a8\"], [0.3333333333333333, \"#9c179e\"], [0.4444444444444444, \"#bd3786\"], [0.5555555555555556, \"#d8576b\"], [0.6666666666666666, \"#ed7953\"], [0.7777777777777778, \"#fb9f3a\"], [0.8888888888888888, \"#fdca26\"], [1.0, \"#f0f921\"]], \"type\": \"histogram2d\"}], \"histogram2dcontour\": [{\"colorbar\": {\"outlinewidth\": 0, \"ticks\": \"\"}, \"colorscale\": [[0.0, \"#0d0887\"], [0.1111111111111111, \"#46039f\"], [0.2222222222222222, \"#7201a8\"], [0.3333333333333333, \"#9c179e\"], [0.4444444444444444, \"#bd3786\"], [0.5555555555555556, \"#d8576b\"], [0.6666666666666666, \"#ed7953\"], [0.7777777777777778, \"#fb9f3a\"], [0.8888888888888888, \"#fdca26\"], [1.0, \"#f0f921\"]], \"type\": \"histogram2dcontour\"}], \"mesh3d\": [{\"colorbar\": {\"outlinewidth\": 0, \"ticks\": \"\"}, \"type\": \"mesh3d\"}], \"parcoords\": [{\"line\": {\"colorbar\": {\"outlinewidth\": 0, \"ticks\": \"\"}}, \"type\": \"parcoords\"}], \"pie\": [{\"automargin\": true, \"type\": \"pie\"}], \"scatter\": [{\"marker\": {\"colorbar\": {\"outlinewidth\": 0, \"ticks\": \"\"}}, \"type\": \"scatter\"}], \"scatter3d\": [{\"line\": {\"colorbar\": {\"outlinewidth\": 0, \"ticks\": \"\"}}, \"marker\": {\"colorbar\": {\"outlinewidth\": 0, \"ticks\": \"\"}}, \"type\": \"scatter3d\"}], \"scattercarpet\": [{\"marker\": {\"colorbar\": {\"outlinewidth\": 0, \"ticks\": \"\"}}, \"type\": \"scattercarpet\"}], \"scattergeo\": [{\"marker\": {\"colorbar\": {\"outlinewidth\": 0, \"ticks\": \"\"}}, \"type\": \"scattergeo\"}], \"scattergl\": [{\"marker\": {\"colorbar\": {\"outlinewidth\": 0, \"ticks\": \"\"}}, \"type\": \"scattergl\"}], \"scattermapbox\": [{\"marker\": {\"colorbar\": {\"outlinewidth\": 0, \"ticks\": \"\"}}, \"type\": \"scattermapbox\"}], \"scatterpolar\": [{\"marker\": {\"colorbar\": {\"outlinewidth\": 0, \"ticks\": \"\"}}, \"type\": \"scatterpolar\"}], \"scatterpolargl\": [{\"marker\": {\"colorbar\": {\"outlinewidth\": 0, \"ticks\": \"\"}}, \"type\": \"scatterpolargl\"}], \"scatterternary\": [{\"marker\": {\"colorbar\": {\"outlinewidth\": 0, \"ticks\": \"\"}}, \"type\": \"scatterternary\"}], \"surface\": [{\"colorbar\": {\"outlinewidth\": 0, \"ticks\": \"\"}, \"colorscale\": [[0.0, \"#0d0887\"], [0.1111111111111111, \"#46039f\"], [0.2222222222222222, \"#7201a8\"], [0.3333333333333333, \"#9c179e\"], [0.4444444444444444, \"#bd3786\"], [0.5555555555555556, \"#d8576b\"], [0.6666666666666666, \"#ed7953\"], [0.7777777777777778, \"#fb9f3a\"], [0.8888888888888888, \"#fdca26\"], [1.0, \"#f0f921\"]], \"type\": \"surface\"}], \"table\": [{\"cells\": {\"fill\": {\"color\": \"#EBF0F8\"}, \"line\": {\"color\": \"white\"}}, \"header\": {\"fill\": {\"color\": \"#C8D4E3\"}, \"line\": {\"color\": \"white\"}}, \"type\": \"table\"}]}, \"layout\": {\"annotationdefaults\": {\"arrowcolor\": \"#2a3f5f\", \"arrowhead\": 0, \"arrowwidth\": 1}, \"coloraxis\": {\"colorbar\": {\"outlinewidth\": 0, \"ticks\": \"\"}}, \"colorscale\": {\"diverging\": [[0, \"#8e0152\"], [0.1, \"#c51b7d\"], [0.2, \"#de77ae\"], [0.3, \"#f1b6da\"], [0.4, \"#fde0ef\"], [0.5, \"#f7f7f7\"], [0.6, \"#e6f5d0\"], [0.7, \"#b8e186\"], [0.8, \"#7fbc41\"], [0.9, \"#4d9221\"], [1, \"#276419\"]], \"sequential\": [[0.0, \"#0d0887\"], [0.1111111111111111, \"#46039f\"], [0.2222222222222222, \"#7201a8\"], [0.3333333333333333, \"#9c179e\"], [0.4444444444444444, \"#bd3786\"], [0.5555555555555556, \"#d8576b\"], [0.6666666666666666, \"#ed7953\"], [0.7777777777777778, \"#fb9f3a\"], [0.8888888888888888, \"#fdca26\"], [1.0, \"#f0f921\"]], \"sequentialminus\": [[0.0, \"#0d0887\"], [0.1111111111111111, \"#46039f\"], [0.2222222222222222, \"#7201a8\"], [0.3333333333333333, \"#9c179e\"], [0.4444444444444444, \"#bd3786\"], [0.5555555555555556, \"#d8576b\"], [0.6666666666666666, \"#ed7953\"], [0.7777777777777778, \"#fb9f3a\"], [0.8888888888888888, \"#fdca26\"], [1.0, \"#f0f921\"]]}, \"colorway\": [\"#636efa\", \"#EF553B\", \"#00cc96\", \"#ab63fa\", \"#FFA15A\", \"#19d3f3\", \"#FF6692\", \"#B6E880\", \"#FF97FF\", \"#FECB52\"], \"font\": {\"color\": \"#2a3f5f\"}, \"geo\": {\"bgcolor\": \"white\", \"lakecolor\": \"white\", \"landcolor\": \"#E5ECF6\", \"showlakes\": true, \"showland\": true, \"subunitcolor\": \"white\"}, \"hoverlabel\": {\"align\": \"left\"}, \"hovermode\": \"closest\", \"mapbox\": {\"style\": \"light\"}, \"paper_bgcolor\": \"white\", \"plot_bgcolor\": \"#E5ECF6\", \"polar\": {\"angularaxis\": {\"gridcolor\": \"white\", \"linecolor\": \"white\", \"ticks\": \"\"}, \"bgcolor\": \"#E5ECF6\", \"radialaxis\": {\"gridcolor\": \"white\", \"linecolor\": \"white\", \"ticks\": \"\"}}, \"scene\": {\"xaxis\": {\"backgroundcolor\": \"#E5ECF6\", \"gridcolor\": \"white\", \"gridwidth\": 2, \"linecolor\": \"white\", \"showbackground\": true, \"ticks\": \"\", \"zerolinecolor\": \"white\"}, \"yaxis\": {\"backgroundcolor\": \"#E5ECF6\", \"gridcolor\": \"white\", \"gridwidth\": 2, \"linecolor\": \"white\", \"showbackground\": true, \"ticks\": \"\", \"zerolinecolor\": \"white\"}, \"zaxis\": {\"backgroundcolor\": \"#E5ECF6\", \"gridcolor\": \"white\", \"gridwidth\": 2, \"linecolor\": \"white\", \"showbackground\": true, \"ticks\": \"\", \"zerolinecolor\": \"white\"}}, \"shapedefaults\": {\"line\": {\"color\": \"#2a3f5f\"}}, \"ternary\": {\"aaxis\": {\"gridcolor\": \"white\", \"linecolor\": \"white\", \"ticks\": \"\"}, \"baxis\": {\"gridcolor\": \"white\", \"linecolor\": \"white\", \"ticks\": \"\"}, \"bgcolor\": \"#E5ECF6\", \"caxis\": {\"gridcolor\": \"white\", \"linecolor\": \"white\", \"ticks\": \"\"}}, \"title\": {\"x\": 0.05}, \"xaxis\": {\"automargin\": true, \"gridcolor\": \"white\", \"linecolor\": \"white\", \"ticks\": \"\", \"title\": {\"standoff\": 15}, \"zerolinecolor\": \"white\", \"zerolinewidth\": 2}, \"yaxis\": {\"automargin\": true, \"gridcolor\": \"white\", \"linecolor\": \"white\", \"ticks\": \"\", \"title\": {\"standoff\": 15}, \"zerolinecolor\": \"white\", \"zerolinewidth\": 2}}}},\n",
              "                        {\"responsive\": true}\n",
              "                    ).then(function(){\n",
              "                            \n",
              "var gd = document.getElementById('3f77ca1c-ce2e-440b-b1a7-f38418b1872b');\n",
              "var x = new MutationObserver(function (mutations, observer) {{\n",
              "        var display = window.getComputedStyle(gd).display;\n",
              "        if (!display || display === 'none') {{\n",
              "            console.log([gd, 'removed!']);\n",
              "            Plotly.purge(gd);\n",
              "            observer.disconnect();\n",
              "        }}\n",
              "}});\n",
              "\n",
              "// Listen for the removal of the full notebook cells\n",
              "var notebookContainer = gd.closest('#notebook-container');\n",
              "if (notebookContainer) {{\n",
              "    x.observe(notebookContainer, {childList: true});\n",
              "}}\n",
              "\n",
              "// Listen for the clearing of the current output cell\n",
              "var outputEl = gd.closest('.output');\n",
              "if (outputEl) {{\n",
              "    x.observe(outputEl, {childList: true});\n",
              "}}\n",
              "\n",
              "                        })\n",
              "                };\n",
              "                \n",
              "            </script>\n",
              "        </div>\n",
              "</body>\n",
              "</html>"
            ]
          },
          "metadata": {
            "tags": []
          }
        }
      ]
    },
    {
      "cell_type": "code",
      "metadata": {
        "id": "fEL-n4grJwa7",
        "colab_type": "code",
        "colab": {}
      },
      "source": [
        ""
      ],
      "execution_count": null,
      "outputs": []
    }
  ]
}